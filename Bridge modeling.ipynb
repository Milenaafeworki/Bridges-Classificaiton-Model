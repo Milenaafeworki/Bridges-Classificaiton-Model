{
 "cells": [
  {
   "cell_type": "markdown",
   "metadata": {},
   "source": [
    "# Modeling"
   ]
  },
  {
   "cell_type": "code",
   "execution_count": null,
   "metadata": {},
   "outputs": [],
   "source": []
  },
  {
   "cell_type": "code",
   "execution_count": null,
   "metadata": {},
   "outputs": [],
   "source": []
  },
  {
   "cell_type": "code",
   "execution_count": null,
   "metadata": {},
   "outputs": [],
   "source": []
  },
  {
   "cell_type": "code",
   "execution_count": null,
   "metadata": {},
   "outputs": [],
   "source": []
  },
  {
   "cell_type": "code",
   "execution_count": null,
   "metadata": {},
   "outputs": [],
   "source": []
  },
  {
   "cell_type": "code",
   "execution_count": 293,
   "metadata": {
    "ExecuteTime": {
     "end_time": "2021-08-25T04:02:30.170735Z",
     "start_time": "2021-08-25T04:02:30.159737Z"
    }
   },
   "outputs": [],
   "source": [
    "#import necessary libraries\n",
    "\n",
    "import pandas as pd\n",
    "import numpy as np\n",
    "import seaborn as sns\n",
    "import matplotlib.pyplot as plt\n",
    "\n",
    "import pandas as pd\n",
    "pd.options.mode.chained_assignment = None  # default='warn'\n",
    "\n",
    "from sklearn.model_selection import train_test_split, cross_val_score\n",
    "\n",
    "from sklearn.metrics import confusion_matrix, classification_report\n",
    "import warnings\n",
    "warnings.simplefilter(action='ignore', category=FutureWarning)\n",
    "# sns.set_style('whitegrid')\n",
    "\n",
    "from sklearn.metrics import plot_confusion_matrix\n",
    "\n",
    "from xgboost import XGBClassifier"
   ]
  },
  {
   "cell_type": "code",
   "execution_count": null,
   "metadata": {},
   "outputs": [],
   "source": []
  },
  {
   "cell_type": "markdown",
   "metadata": {
    "ExecuteTime": {
     "end_time": "2021-08-23T17:48:31.624510Z",
     "start_time": "2021-08-23T17:48:30.526151Z"
    }
   },
   "source": [
    "## Read CSV file"
   ]
  },
  {
   "cell_type": "code",
   "execution_count": 294,
   "metadata": {
    "ExecuteTime": {
     "end_time": "2021-08-25T04:02:37.285523Z",
     "start_time": "2021-08-25T04:02:36.159680Z"
    }
   },
   "outputs": [
    {
     "data": {
      "text/html": [
       "<div>\n",
       "<style scoped>\n",
       "    .dataframe tbody tr th:only-of-type {\n",
       "        vertical-align: middle;\n",
       "    }\n",
       "\n",
       "    .dataframe tbody tr th {\n",
       "        vertical-align: top;\n",
       "    }\n",
       "\n",
       "    .dataframe thead th {\n",
       "        text-align: right;\n",
       "    }\n",
       "</style>\n",
       "<table border=\"1\" class=\"dataframe\">\n",
       "  <thead>\n",
       "    <tr style=\"text-align: right;\">\n",
       "      <th></th>\n",
       "      <th>state</th>\n",
       "      <th>str_id</th>\n",
       "      <th>deck_type</th>\n",
       "      <th>wearing_type</th>\n",
       "      <th>membrane_type</th>\n",
       "      <th>deck_protection</th>\n",
       "      <th>toll</th>\n",
       "      <th>freeze_thaw_cycle</th>\n",
       "      <th>snowfall_days</th>\n",
       "      <th>design_material</th>\n",
       "      <th>...</th>\n",
       "      <th>mnt_respons</th>\n",
       "      <th>yr_reconst</th>\n",
       "      <th>skew</th>\n",
       "      <th>max_span</th>\n",
       "      <th>bridge_width</th>\n",
       "      <th>deck_width</th>\n",
       "      <th>super_st_condition</th>\n",
       "      <th>sub_st_condition</th>\n",
       "      <th>deck_condition</th>\n",
       "      <th>avg_daily_trfic</th>\n",
       "    </tr>\n",
       "  </thead>\n",
       "  <tbody>\n",
       "    <tr>\n",
       "      <th>0</th>\n",
       "      <td>Alabama</td>\n",
       "      <td>021480</td>\n",
       "      <td>1</td>\n",
       "      <td>0</td>\n",
       "      <td>0</td>\n",
       "      <td>0</td>\n",
       "      <td>3</td>\n",
       "      <td>14.0</td>\n",
       "      <td>0.0</td>\n",
       "      <td>Steel Continuous</td>\n",
       "      <td>...</td>\n",
       "      <td>1</td>\n",
       "      <td>0.0</td>\n",
       "      <td>23.0</td>\n",
       "      <td>274.9</td>\n",
       "      <td>38.1</td>\n",
       "      <td>41.0</td>\n",
       "      <td>7</td>\n",
       "      <td>7</td>\n",
       "      <td>7</td>\n",
       "      <td>4940.0</td>\n",
       "    </tr>\n",
       "    <tr>\n",
       "      <th>1</th>\n",
       "      <td>Alabama</td>\n",
       "      <td>006369</td>\n",
       "      <td>1</td>\n",
       "      <td>0</td>\n",
       "      <td>0</td>\n",
       "      <td>0</td>\n",
       "      <td>3</td>\n",
       "      <td>14.0</td>\n",
       "      <td>0.0</td>\n",
       "      <td>Concrete Continuous</td>\n",
       "      <td>...</td>\n",
       "      <td>2</td>\n",
       "      <td>0.0</td>\n",
       "      <td>0.0</td>\n",
       "      <td>60.0</td>\n",
       "      <td>23.6</td>\n",
       "      <td>27.6</td>\n",
       "      <td>7</td>\n",
       "      <td>7</td>\n",
       "      <td>6</td>\n",
       "      <td>420.0</td>\n",
       "    </tr>\n",
       "    <tr>\n",
       "      <th>2</th>\n",
       "      <td>Alabama</td>\n",
       "      <td>015078</td>\n",
       "      <td>2</td>\n",
       "      <td>0</td>\n",
       "      <td>0</td>\n",
       "      <td>0</td>\n",
       "      <td>3</td>\n",
       "      <td>14.0</td>\n",
       "      <td>0.0</td>\n",
       "      <td>Concrete</td>\n",
       "      <td>...</td>\n",
       "      <td>2</td>\n",
       "      <td>0.0</td>\n",
       "      <td>0.0</td>\n",
       "      <td>15.1</td>\n",
       "      <td>23.6</td>\n",
       "      <td>24.9</td>\n",
       "      <td>5</td>\n",
       "      <td>6</td>\n",
       "      <td>5</td>\n",
       "      <td>70.0</td>\n",
       "    </tr>\n",
       "    <tr>\n",
       "      <th>3</th>\n",
       "      <td>Alabama</td>\n",
       "      <td>010605</td>\n",
       "      <td>1</td>\n",
       "      <td>0</td>\n",
       "      <td>0</td>\n",
       "      <td>0</td>\n",
       "      <td>3</td>\n",
       "      <td>14.0</td>\n",
       "      <td>0.0</td>\n",
       "      <td>Concrete</td>\n",
       "      <td>...</td>\n",
       "      <td>2</td>\n",
       "      <td>0.0</td>\n",
       "      <td>0.0</td>\n",
       "      <td>34.1</td>\n",
       "      <td>24.0</td>\n",
       "      <td>27.2</td>\n",
       "      <td>7</td>\n",
       "      <td>7</td>\n",
       "      <td>7</td>\n",
       "      <td>340.0</td>\n",
       "    </tr>\n",
       "    <tr>\n",
       "      <th>4</th>\n",
       "      <td>Alabama</td>\n",
       "      <td>013659</td>\n",
       "      <td>1</td>\n",
       "      <td>0</td>\n",
       "      <td>0</td>\n",
       "      <td>0</td>\n",
       "      <td>3</td>\n",
       "      <td>14.0</td>\n",
       "      <td>0.0</td>\n",
       "      <td>Prestressed Concrete Continuous</td>\n",
       "      <td>...</td>\n",
       "      <td>1</td>\n",
       "      <td>0.0</td>\n",
       "      <td>0.0</td>\n",
       "      <td>41.0</td>\n",
       "      <td>40.0</td>\n",
       "      <td>42.7</td>\n",
       "      <td>7</td>\n",
       "      <td>7</td>\n",
       "      <td>7</td>\n",
       "      <td>1980.0</td>\n",
       "    </tr>\n",
       "  </tbody>\n",
       "</table>\n",
       "<p>5 rows × 26 columns</p>\n",
       "</div>"
      ],
      "text/plain": [
       "       state           str_id deck_type wearing_type membrane_type  \\\n",
       "0    Alabama  021480                  1            0             0   \n",
       "1    Alabama  006369                  1            0             0   \n",
       "2    Alabama  015078                  2            0             0   \n",
       "3    Alabama  010605                  1            0             0   \n",
       "4    Alabama  013659                  1            0             0   \n",
       "\n",
       "  deck_protection  toll  freeze_thaw_cycle  snowfall_days  \\\n",
       "0               0     3               14.0            0.0   \n",
       "1               0     3               14.0            0.0   \n",
       "2               0     3               14.0            0.0   \n",
       "3               0     3               14.0            0.0   \n",
       "4               0     3               14.0            0.0   \n",
       "\n",
       "                   design_material  ...  mnt_respons  yr_reconst  skew  \\\n",
       "0                 Steel Continuous  ...            1         0.0  23.0   \n",
       "1              Concrete Continuous  ...            2         0.0   0.0   \n",
       "2                         Concrete  ...            2         0.0   0.0   \n",
       "3                         Concrete  ...            2         0.0   0.0   \n",
       "4  Prestressed Concrete Continuous  ...            1         0.0   0.0   \n",
       "\n",
       "   max_span  bridge_width  deck_width  super_st_condition  sub_st_condition  \\\n",
       "0     274.9          38.1        41.0                   7                 7   \n",
       "1      60.0          23.6        27.6                   7                 7   \n",
       "2      15.1          23.6        24.9                   5                 6   \n",
       "3      34.1          24.0        27.2                   7                 7   \n",
       "4      41.0          40.0        42.7                   7                 7   \n",
       "\n",
       "   deck_condition  avg_daily_trfic  \n",
       "0               7           4940.0  \n",
       "1               6            420.0  \n",
       "2               5             70.0  \n",
       "3               7            340.0  \n",
       "4               7           1980.0  \n",
       "\n",
       "[5 rows x 26 columns]"
      ]
     },
     "execution_count": 294,
     "metadata": {},
     "output_type": "execute_result"
    }
   ],
   "source": [
    "df = pd.read_csv('bridge_data_cleaned')\n",
    "df.head()"
   ]
  },
  {
   "cell_type": "markdown",
   "metadata": {},
   "source": [
    "## Creating Dummies"
   ]
  },
  {
   "cell_type": "code",
   "execution_count": 295,
   "metadata": {
    "ExecuteTime": {
     "end_time": "2021-08-25T04:02:43.188175Z",
     "start_time": "2021-08-25T04:02:43.144249Z"
    }
   },
   "outputs": [
    {
     "data": {
      "text/plain": [
       "Index(['state', 'str_id', 'deck_type', 'wearing_type', 'membrane_type',\n",
       "       'deck_protection', 'toll', 'freeze_thaw_cycle', 'snowfall_days',\n",
       "       'design_material', 'num_spans', 'structure_length', 'bridge_condition',\n",
       "       'bridge_age', 'latitude', 'longitude', 'mnt_respons', 'yr_reconst',\n",
       "       'skew', 'max_span', 'bridge_width', 'deck_width', 'super_st_condition',\n",
       "       'sub_st_condition', 'deck_condition', 'avg_daily_trfic'],\n",
       "      dtype='object')"
      ]
     },
     "execution_count": 295,
     "metadata": {},
     "output_type": "execute_result"
    }
   ],
   "source": [
    "df.columns"
   ]
  },
  {
   "cell_type": "code",
   "execution_count": 296,
   "metadata": {
    "ExecuteTime": {
     "end_time": "2021-08-25T04:02:49.213477Z",
     "start_time": "2021-08-25T04:02:49.009490Z"
    }
   },
   "outputs": [
    {
     "name": "stdout",
     "output_type": "stream",
     "text": [
      "<class 'pandas.core.frame.DataFrame'>\n",
      "RangeIndex: 449247 entries, 0 to 449246\n",
      "Data columns (total 26 columns):\n",
      " #   Column              Non-Null Count   Dtype  \n",
      "---  ------              --------------   -----  \n",
      " 0   state               449247 non-null  object \n",
      " 1   str_id              449247 non-null  object \n",
      " 2   deck_type           449247 non-null  object \n",
      " 3   wearing_type        449247 non-null  object \n",
      " 4   membrane_type       449247 non-null  object \n",
      " 5   deck_protection     449247 non-null  object \n",
      " 6   toll                449247 non-null  int64  \n",
      " 7   freeze_thaw_cycle   449247 non-null  float64\n",
      " 8   snowfall_days       449247 non-null  float64\n",
      " 9   design_material     449247 non-null  object \n",
      " 10  num_spans           449247 non-null  float64\n",
      " 11  structure_length    449247 non-null  float64\n",
      " 12  bridge_condition    449247 non-null  object \n",
      " 13  bridge_age          449247 non-null  float64\n",
      " 14  latitude            449247 non-null  float64\n",
      " 15  longitude           449247 non-null  float64\n",
      " 16  mnt_respons         449247 non-null  int64  \n",
      " 17  yr_reconst          449247 non-null  float64\n",
      " 18  skew                449247 non-null  float64\n",
      " 19  max_span            449247 non-null  float64\n",
      " 20  bridge_width        449247 non-null  float64\n",
      " 21  deck_width          449247 non-null  float64\n",
      " 22  super_st_condition  449247 non-null  int64  \n",
      " 23  sub_st_condition    449247 non-null  int64  \n",
      " 24  deck_condition      449247 non-null  int64  \n",
      " 25  avg_daily_trfic     449247 non-null  float64\n",
      "dtypes: float64(13), int64(5), object(8)\n",
      "memory usage: 89.1+ MB\n"
     ]
    }
   ],
   "source": [
    "df.info()"
   ]
  },
  {
   "cell_type": "code",
   "execution_count": 297,
   "metadata": {
    "ExecuteTime": {
     "end_time": "2021-08-25T04:03:06.932897Z",
     "start_time": "2021-08-25T04:03:06.606658Z"
    }
   },
   "outputs": [],
   "source": [
    "# df['sub_st_condition'] = df.sub_st_condition.astype('str')\n",
    "# df['super_st_condition'] = df.super_st_condition.astype('str')\n",
    "# df['deck_condition'] = df.deck_condition.astype('str')\n",
    "# df['mnt_respons'] = df.mnt_respons.astype('str')\n",
    "df['toll'] = df.toll.astype('str')"
   ]
  },
  {
   "cell_type": "code",
   "execution_count": 6,
   "metadata": {
    "ExecuteTime": {
     "end_time": "2021-08-23T21:26:56.702193Z",
     "start_time": "2021-08-23T21:26:56.690652Z"
    }
   },
   "outputs": [],
   "source": [
    "#separate the features into target, categorical and continuous variables\n",
    "target = ['bridge_condition']\n",
    "\n",
    "categorical = ['deck_type', 'wearing_type', 'membrane_type', 'deck_protection',\n",
    "               'toll', 'design_material','super_st_condition',\n",
    "               'sub_st_condition']\n",
    "\n",
    "continuous = ['freeze_thaw_cycle', 'snowfall_days', 'structure_length', 'bridge_age',\n",
    "              'latitude', 'longitude', 'yr_reconst', 'skew',\n",
    "              'max_span', 'bridge_width', 'deck_width', 'avg_daily_trfic', 'num_spans']\n",
    "\n",
    "to_drop = ['state', 'str_id', 'deck_condition', 'mnt_respons']"
   ]
  },
  {
   "cell_type": "code",
   "execution_count": 7,
   "metadata": {
    "ExecuteTime": {
     "end_time": "2021-08-23T21:26:57.117270Z",
     "start_time": "2021-08-23T21:26:56.705712Z"
    }
   },
   "outputs": [
    {
     "name": "stdout",
     "output_type": "stream",
     "text": [
      "<class 'pandas.core.frame.DataFrame'>\n",
      "RangeIndex: 449247 entries, 0 to 449246\n",
      "Data columns (total 26 columns):\n",
      " #   Column              Non-Null Count   Dtype  \n",
      "---  ------              --------------   -----  \n",
      " 0   state               449247 non-null  object \n",
      " 1   str_id              449247 non-null  object \n",
      " 2   deck_type           449247 non-null  object \n",
      " 3   wearing_type        449247 non-null  object \n",
      " 4   membrane_type       449247 non-null  object \n",
      " 5   deck_protection     449247 non-null  object \n",
      " 6   toll                449247 non-null  object \n",
      " 7   freeze_thaw_cycle   449247 non-null  int64  \n",
      " 8   snowfall_days       449247 non-null  float64\n",
      " 9   design_material     449247 non-null  object \n",
      " 10  num_spans           449247 non-null  int64  \n",
      " 11  structure_length    449247 non-null  float64\n",
      " 12  bridge_condition    449247 non-null  object \n",
      " 13  bridge_age          449247 non-null  int64  \n",
      " 14  latitude            449247 non-null  float64\n",
      " 15  longitude           449247 non-null  float64\n",
      " 16  mnt_respons         449247 non-null  object \n",
      " 17  yr_reconst          449247 non-null  float64\n",
      " 18  skew                449247 non-null  float64\n",
      " 19  max_span            449247 non-null  float64\n",
      " 20  bridge_width        449247 non-null  float64\n",
      " 21  deck_width          449247 non-null  float64\n",
      " 22  super_st_condition  449247 non-null  object \n",
      " 23  sub_st_condition    449247 non-null  object \n",
      " 24  deck_condition      449247 non-null  object \n",
      " 25  avg_daily_trfic     449247 non-null  int64  \n",
      "dtypes: float64(9), int64(4), object(13)\n",
      "memory usage: 89.1+ MB\n"
     ]
    }
   ],
   "source": [
    "df.info()"
   ]
  },
  {
   "cell_type": "code",
   "execution_count": 8,
   "metadata": {
    "ExecuteTime": {
     "end_time": "2021-08-23T21:26:57.526649Z",
     "start_time": "2021-08-23T21:26:57.120234Z"
    }
   },
   "outputs": [
    {
     "name": "stdout",
     "output_type": "stream",
     "text": [
      "deck_type 10\n",
      "wearing_type 11\n",
      "membrane_type 7\n",
      "deck_protection 10\n",
      "toll 5\n",
      "design_material 9\n",
      "super_st_condition 10\n",
      "sub_st_condition 10\n"
     ]
    }
   ],
   "source": [
    "# print number of classes in each category\n",
    "for col in categorical:\n",
    "    print(col, df[col].value_counts().count())"
   ]
  },
  {
   "cell_type": "code",
   "execution_count": 9,
   "metadata": {
    "ExecuteTime": {
     "end_time": "2021-08-23T21:26:57.590047Z",
     "start_time": "2021-08-23T21:26:57.528606Z"
    }
   },
   "outputs": [
    {
     "data": {
      "text/plain": [
       "Index(['deck_type', 'wearing_type', 'membrane_type', 'deck_protection', 'toll',\n",
       "       'design_material', 'super_st_condition', 'sub_st_condition'],\n",
       "      dtype='object')"
      ]
     },
     "execution_count": 9,
     "metadata": {},
     "output_type": "execute_result"
    }
   ],
   "source": [
    "df.drop(to_drop+target+continuous, axis=1).columns"
   ]
  },
  {
   "cell_type": "code",
   "execution_count": 10,
   "metadata": {
    "ExecuteTime": {
     "end_time": "2021-08-23T21:26:58.116015Z",
     "start_time": "2021-08-23T21:26:57.592015Z"
    }
   },
   "outputs": [
    {
     "data": {
      "text/html": [
       "<div>\n",
       "<style scoped>\n",
       "    .dataframe tbody tr th:only-of-type {\n",
       "        vertical-align: middle;\n",
       "    }\n",
       "\n",
       "    .dataframe tbody tr th {\n",
       "        vertical-align: top;\n",
       "    }\n",
       "\n",
       "    .dataframe thead th {\n",
       "        text-align: right;\n",
       "    }\n",
       "</style>\n",
       "<table border=\"1\" class=\"dataframe\">\n",
       "  <thead>\n",
       "    <tr style=\"text-align: right;\">\n",
       "      <th></th>\n",
       "      <th>freeze_thaw_cycle</th>\n",
       "      <th>snowfall_days</th>\n",
       "      <th>num_spans</th>\n",
       "      <th>structure_length</th>\n",
       "      <th>bridge_age</th>\n",
       "      <th>latitude</th>\n",
       "      <th>longitude</th>\n",
       "      <th>yr_reconst</th>\n",
       "      <th>skew</th>\n",
       "      <th>max_span</th>\n",
       "      <th>...</th>\n",
       "      <th>sub_st_condition_0</th>\n",
       "      <th>sub_st_condition_1</th>\n",
       "      <th>sub_st_condition_2</th>\n",
       "      <th>sub_st_condition_3</th>\n",
       "      <th>sub_st_condition_4</th>\n",
       "      <th>sub_st_condition_5</th>\n",
       "      <th>sub_st_condition_6</th>\n",
       "      <th>sub_st_condition_7</th>\n",
       "      <th>sub_st_condition_8</th>\n",
       "      <th>sub_st_condition_9</th>\n",
       "    </tr>\n",
       "  </thead>\n",
       "  <tbody>\n",
       "    <tr>\n",
       "      <th>0</th>\n",
       "      <td>14</td>\n",
       "      <td>0.0</td>\n",
       "      <td>3</td>\n",
       "      <td>955.1</td>\n",
       "      <td>15</td>\n",
       "      <td>31.12305</td>\n",
       "      <td>-85.05527</td>\n",
       "      <td>0.0</td>\n",
       "      <td>23.0</td>\n",
       "      <td>274.9</td>\n",
       "      <td>...</td>\n",
       "      <td>0</td>\n",
       "      <td>0</td>\n",
       "      <td>0</td>\n",
       "      <td>0</td>\n",
       "      <td>0</td>\n",
       "      <td>0</td>\n",
       "      <td>0</td>\n",
       "      <td>1</td>\n",
       "      <td>0</td>\n",
       "      <td>0</td>\n",
       "    </tr>\n",
       "    <tr>\n",
       "      <th>1</th>\n",
       "      <td>14</td>\n",
       "      <td>0.0</td>\n",
       "      <td>3</td>\n",
       "      <td>399.0</td>\n",
       "      <td>63</td>\n",
       "      <td>31.18900</td>\n",
       "      <td>-85.11860</td>\n",
       "      <td>0.0</td>\n",
       "      <td>0.0</td>\n",
       "      <td>60.0</td>\n",
       "      <td>...</td>\n",
       "      <td>0</td>\n",
       "      <td>0</td>\n",
       "      <td>0</td>\n",
       "      <td>0</td>\n",
       "      <td>0</td>\n",
       "      <td>0</td>\n",
       "      <td>0</td>\n",
       "      <td>1</td>\n",
       "      <td>0</td>\n",
       "      <td>0</td>\n",
       "    </tr>\n",
       "    <tr>\n",
       "      <th>2</th>\n",
       "      <td>14</td>\n",
       "      <td>0.0</td>\n",
       "      <td>3</td>\n",
       "      <td>44.9</td>\n",
       "      <td>31</td>\n",
       "      <td>31.10713</td>\n",
       "      <td>-85.17017</td>\n",
       "      <td>0.0</td>\n",
       "      <td>0.0</td>\n",
       "      <td>15.1</td>\n",
       "      <td>...</td>\n",
       "      <td>0</td>\n",
       "      <td>0</td>\n",
       "      <td>0</td>\n",
       "      <td>0</td>\n",
       "      <td>0</td>\n",
       "      <td>0</td>\n",
       "      <td>1</td>\n",
       "      <td>0</td>\n",
       "      <td>0</td>\n",
       "      <td>0</td>\n",
       "    </tr>\n",
       "    <tr>\n",
       "      <th>3</th>\n",
       "      <td>14</td>\n",
       "      <td>0.0</td>\n",
       "      <td>4</td>\n",
       "      <td>136.2</td>\n",
       "      <td>50</td>\n",
       "      <td>31.05421</td>\n",
       "      <td>-85.20689</td>\n",
       "      <td>0.0</td>\n",
       "      <td>0.0</td>\n",
       "      <td>34.1</td>\n",
       "      <td>...</td>\n",
       "      <td>0</td>\n",
       "      <td>0</td>\n",
       "      <td>0</td>\n",
       "      <td>0</td>\n",
       "      <td>0</td>\n",
       "      <td>0</td>\n",
       "      <td>0</td>\n",
       "      <td>1</td>\n",
       "      <td>0</td>\n",
       "      <td>0</td>\n",
       "    </tr>\n",
       "    <tr>\n",
       "      <th>4</th>\n",
       "      <td>14</td>\n",
       "      <td>0.0</td>\n",
       "      <td>11</td>\n",
       "      <td>451.1</td>\n",
       "      <td>36</td>\n",
       "      <td>31.01672</td>\n",
       "      <td>-85.22263</td>\n",
       "      <td>0.0</td>\n",
       "      <td>0.0</td>\n",
       "      <td>41.0</td>\n",
       "      <td>...</td>\n",
       "      <td>0</td>\n",
       "      <td>0</td>\n",
       "      <td>0</td>\n",
       "      <td>0</td>\n",
       "      <td>0</td>\n",
       "      <td>0</td>\n",
       "      <td>0</td>\n",
       "      <td>1</td>\n",
       "      <td>0</td>\n",
       "      <td>0</td>\n",
       "    </tr>\n",
       "  </tbody>\n",
       "</table>\n",
       "<p>5 rows × 85 columns</p>\n",
       "</div>"
      ],
      "text/plain": [
       "   freeze_thaw_cycle  snowfall_days  num_spans  structure_length  bridge_age  \\\n",
       "0                 14            0.0          3             955.1          15   \n",
       "1                 14            0.0          3             399.0          63   \n",
       "2                 14            0.0          3              44.9          31   \n",
       "3                 14            0.0          4             136.2          50   \n",
       "4                 14            0.0         11             451.1          36   \n",
       "\n",
       "   latitude  longitude  yr_reconst  skew  max_span  ...  sub_st_condition_0  \\\n",
       "0  31.12305  -85.05527         0.0  23.0     274.9  ...                   0   \n",
       "1  31.18900  -85.11860         0.0   0.0      60.0  ...                   0   \n",
       "2  31.10713  -85.17017         0.0   0.0      15.1  ...                   0   \n",
       "3  31.05421  -85.20689         0.0   0.0      34.1  ...                   0   \n",
       "4  31.01672  -85.22263         0.0   0.0      41.0  ...                   0   \n",
       "\n",
       "   sub_st_condition_1  sub_st_condition_2  sub_st_condition_3  \\\n",
       "0                   0                   0                   0   \n",
       "1                   0                   0                   0   \n",
       "2                   0                   0                   0   \n",
       "3                   0                   0                   0   \n",
       "4                   0                   0                   0   \n",
       "\n",
       "   sub_st_condition_4  sub_st_condition_5  sub_st_condition_6  \\\n",
       "0                   0                   0                   0   \n",
       "1                   0                   0                   0   \n",
       "2                   0                   0                   1   \n",
       "3                   0                   0                   0   \n",
       "4                   0                   0                   0   \n",
       "\n",
       "   sub_st_condition_7  sub_st_condition_8  sub_st_condition_9  \n",
       "0                   1                   0                   0  \n",
       "1                   1                   0                   0  \n",
       "2                   0                   0                   0  \n",
       "3                   1                   0                   0  \n",
       "4                   1                   0                   0  \n",
       "\n",
       "[5 rows x 85 columns]"
      ]
     },
     "execution_count": 10,
     "metadata": {},
     "output_type": "execute_result"
    }
   ],
   "source": [
    "df_dummies = pd.get_dummies(df.drop(to_drop+target, axis=1))\n",
    "df_dummies.head()"
   ]
  },
  {
   "cell_type": "code",
   "execution_count": 11,
   "metadata": {
    "ExecuteTime": {
     "end_time": "2021-08-23T21:26:58.131634Z",
     "start_time": "2021-08-23T21:26:58.118011Z"
    }
   },
   "outputs": [
    {
     "data": {
      "text/plain": [
       "(449247, 85)"
      ]
     },
     "execution_count": 11,
     "metadata": {},
     "output_type": "execute_result"
    }
   ],
   "source": [
    "df_dummies.shape"
   ]
  },
  {
   "cell_type": "code",
   "execution_count": 12,
   "metadata": {
    "ExecuteTime": {
     "end_time": "2021-08-23T21:26:58.305210Z",
     "start_time": "2021-08-23T21:26:58.135158Z"
    }
   },
   "outputs": [
    {
     "name": "stdout",
     "output_type": "stream",
     "text": [
      "<class 'pandas.core.frame.DataFrame'>\n",
      "RangeIndex: 449247 entries, 0 to 449246\n",
      "Data columns (total 85 columns):\n",
      " #   Column                                                                       Non-Null Count   Dtype  \n",
      "---  ------                                                                       --------------   -----  \n",
      " 0   freeze_thaw_cycle                                                            449247 non-null  int64  \n",
      " 1   snowfall_days                                                                449247 non-null  float64\n",
      " 2   num_spans                                                                    449247 non-null  int64  \n",
      " 3   structure_length                                                             449247 non-null  float64\n",
      " 4   bridge_age                                                                   449247 non-null  int64  \n",
      " 5   latitude                                                                     449247 non-null  float64\n",
      " 6   longitude                                                                    449247 non-null  float64\n",
      " 7   yr_reconst                                                                   449247 non-null  float64\n",
      " 8   skew                                                                         449247 non-null  float64\n",
      " 9   max_span                                                                     449247 non-null  float64\n",
      " 10  bridge_width                                                                 449247 non-null  float64\n",
      " 11  deck_width                                                                   449247 non-null  float64\n",
      " 12  avg_daily_trfic                                                              449247 non-null  int64  \n",
      " 13  deck_type_1                                                                  449247 non-null  uint8  \n",
      " 14  deck_type_2                                                                  449247 non-null  uint8  \n",
      " 15  deck_type_3                                                                  449247 non-null  uint8  \n",
      " 16  deck_type_4                                                                  449247 non-null  uint8  \n",
      " 17  deck_type_5                                                                  449247 non-null  uint8  \n",
      " 18  deck_type_6                                                                  449247 non-null  uint8  \n",
      " 19  deck_type_7                                                                  449247 non-null  uint8  \n",
      " 20  deck_type_8                                                                  449247 non-null  uint8  \n",
      " 21  deck_type_9                                                                  449247 non-null  uint8  \n",
      " 22  deck_type_N                                                                  449247 non-null  uint8  \n",
      " 23  wearing_type_0                                                               449247 non-null  uint8  \n",
      " 24  wearing_type_1                                                               449247 non-null  uint8  \n",
      " 25  wearing_type_2                                                               449247 non-null  uint8  \n",
      " 26  wearing_type_3                                                               449247 non-null  uint8  \n",
      " 27  wearing_type_4                                                               449247 non-null  uint8  \n",
      " 28  wearing_type_5                                                               449247 non-null  uint8  \n",
      " 29  wearing_type_6                                                               449247 non-null  uint8  \n",
      " 30  wearing_type_7                                                               449247 non-null  uint8  \n",
      " 31  wearing_type_8                                                               449247 non-null  uint8  \n",
      " 32  wearing_type_9                                                               449247 non-null  uint8  \n",
      " 33  wearing_type_N                                                               449247 non-null  uint8  \n",
      " 34  membrane_type_0                                                              449247 non-null  uint8  \n",
      " 35  membrane_type_1                                                              449247 non-null  uint8  \n",
      " 36  membrane_type_2                                                              449247 non-null  uint8  \n",
      " 37  membrane_type_3                                                              449247 non-null  uint8  \n",
      " 38  membrane_type_8                                                              449247 non-null  uint8  \n",
      " 39  membrane_type_9                                                              449247 non-null  uint8  \n",
      " 40  membrane_type_N                                                              449247 non-null  uint8  \n",
      " 41  deck_protection_0                                                            449247 non-null  uint8  \n",
      " 42  deck_protection_1                                                            449247 non-null  uint8  \n",
      " 43  deck_protection_2                                                            449247 non-null  uint8  \n",
      " 44  deck_protection_3                                                            449247 non-null  uint8  \n",
      " 45  deck_protection_4                                                            449247 non-null  uint8  \n",
      " 46  deck_protection_6                                                            449247 non-null  uint8  \n",
      " 47  deck_protection_7                                                            449247 non-null  uint8  \n",
      " 48  deck_protection_8                                                            449247 non-null  uint8  \n",
      " 49  deck_protection_9                                                            449247 non-null  uint8  \n",
      " 50  deck_protection_N                                                            449247 non-null  uint8  \n",
      " 51  toll_1                                                                       449247 non-null  uint8  \n",
      " 52  toll_2                                                                       449247 non-null  uint8  \n",
      " 53  toll_3                                                                       449247 non-null  uint8  \n",
      " 54  toll_4                                                                       449247 non-null  uint8  \n",
      " 55  toll_5                                                                       449247 non-null  uint8  \n",
      " 56  design_material_Concrete                                                     449247 non-null  uint8  \n",
      " 57  design_material_Concrete Continuous                                          449247 non-null  uint8  \n",
      " 58  design_material_Masonry                                                      449247 non-null  uint8  \n",
      " 59  design_material_Other Material Main Span OR No Approach or Second Span Type  449247 non-null  uint8  \n",
      " 60  design_material_Prestressed Concrete                                         449247 non-null  uint8  \n",
      " 61  design_material_Prestressed Concrete Continuous                              449247 non-null  uint8  \n",
      " 62  design_material_Steel                                                        449247 non-null  uint8  \n",
      " 63  design_material_Steel Continuous                                             449247 non-null  uint8  \n",
      " 64  design_material_Wood or Timber                                               449247 non-null  uint8  \n",
      " 65  super_st_condition_0                                                         449247 non-null  uint8  \n",
      " 66  super_st_condition_1                                                         449247 non-null  uint8  \n",
      " 67  super_st_condition_2                                                         449247 non-null  uint8  \n",
      " 68  super_st_condition_3                                                         449247 non-null  uint8  \n",
      " 69  super_st_condition_4                                                         449247 non-null  uint8  \n",
      " 70  super_st_condition_5                                                         449247 non-null  uint8  \n",
      " 71  super_st_condition_6                                                         449247 non-null  uint8  \n",
      " 72  super_st_condition_7                                                         449247 non-null  uint8  \n",
      " 73  super_st_condition_8                                                         449247 non-null  uint8  \n",
      " 74  super_st_condition_9                                                         449247 non-null  uint8  \n",
      " 75  sub_st_condition_0                                                           449247 non-null  uint8  \n",
      " 76  sub_st_condition_1                                                           449247 non-null  uint8  \n",
      " 77  sub_st_condition_2                                                           449247 non-null  uint8  \n",
      " 78  sub_st_condition_3                                                           449247 non-null  uint8  \n",
      " 79  sub_st_condition_4                                                           449247 non-null  uint8  \n",
      " 80  sub_st_condition_5                                                           449247 non-null  uint8  \n",
      " 81  sub_st_condition_6                                                           449247 non-null  uint8  \n",
      " 82  sub_st_condition_7                                                           449247 non-null  uint8  \n",
      " 83  sub_st_condition_8                                                           449247 non-null  uint8  \n",
      " 84  sub_st_condition_9                                                           449247 non-null  uint8  \n",
      "dtypes: float64(9), int64(4), uint8(72)\n",
      "memory usage: 75.4 MB\n"
     ]
    }
   ],
   "source": [
    "df_dummies.info()"
   ]
  },
  {
   "cell_type": "code",
   "execution_count": 13,
   "metadata": {
    "ExecuteTime": {
     "end_time": "2021-08-23T21:26:58.321211Z",
     "start_time": "2021-08-23T21:26:58.308194Z"
    }
   },
   "outputs": [
    {
     "data": {
      "text/plain": [
       "162"
      ]
     },
     "execution_count": 13,
     "metadata": {},
     "output_type": "execute_result"
    }
   ],
   "source": [
    "df.num_spans.value_counts().count()"
   ]
  },
  {
   "cell_type": "code",
   "execution_count": 14,
   "metadata": {
    "ExecuteTime": {
     "end_time": "2021-08-23T21:26:58.337193Z",
     "start_time": "2021-08-23T21:26:58.323159Z"
    }
   },
   "outputs": [],
   "source": [
    "df_dummies['bridge_condition'] = df['bridge_condition']"
   ]
  },
  {
   "cell_type": "code",
   "execution_count": 15,
   "metadata": {
    "ExecuteTime": {
     "end_time": "2021-08-23T21:26:58.369156Z",
     "start_time": "2021-08-23T21:26:58.339157Z"
    }
   },
   "outputs": [
    {
     "data": {
      "text/html": [
       "<div>\n",
       "<style scoped>\n",
       "    .dataframe tbody tr th:only-of-type {\n",
       "        vertical-align: middle;\n",
       "    }\n",
       "\n",
       "    .dataframe tbody tr th {\n",
       "        vertical-align: top;\n",
       "    }\n",
       "\n",
       "    .dataframe thead th {\n",
       "        text-align: right;\n",
       "    }\n",
       "</style>\n",
       "<table border=\"1\" class=\"dataframe\">\n",
       "  <thead>\n",
       "    <tr style=\"text-align: right;\">\n",
       "      <th></th>\n",
       "      <th>freeze_thaw_cycle</th>\n",
       "      <th>snowfall_days</th>\n",
       "      <th>num_spans</th>\n",
       "      <th>structure_length</th>\n",
       "      <th>bridge_age</th>\n",
       "      <th>latitude</th>\n",
       "      <th>longitude</th>\n",
       "      <th>yr_reconst</th>\n",
       "      <th>skew</th>\n",
       "      <th>max_span</th>\n",
       "      <th>...</th>\n",
       "      <th>sub_st_condition_1</th>\n",
       "      <th>sub_st_condition_2</th>\n",
       "      <th>sub_st_condition_3</th>\n",
       "      <th>sub_st_condition_4</th>\n",
       "      <th>sub_st_condition_5</th>\n",
       "      <th>sub_st_condition_6</th>\n",
       "      <th>sub_st_condition_7</th>\n",
       "      <th>sub_st_condition_8</th>\n",
       "      <th>sub_st_condition_9</th>\n",
       "      <th>bridge_condition</th>\n",
       "    </tr>\n",
       "  </thead>\n",
       "  <tbody>\n",
       "    <tr>\n",
       "      <th>0</th>\n",
       "      <td>14</td>\n",
       "      <td>0.0</td>\n",
       "      <td>3</td>\n",
       "      <td>955.1</td>\n",
       "      <td>15</td>\n",
       "      <td>31.12305</td>\n",
       "      <td>-85.05527</td>\n",
       "      <td>0.0</td>\n",
       "      <td>23.0</td>\n",
       "      <td>274.9</td>\n",
       "      <td>...</td>\n",
       "      <td>0</td>\n",
       "      <td>0</td>\n",
       "      <td>0</td>\n",
       "      <td>0</td>\n",
       "      <td>0</td>\n",
       "      <td>0</td>\n",
       "      <td>1</td>\n",
       "      <td>0</td>\n",
       "      <td>0</td>\n",
       "      <td>Good</td>\n",
       "    </tr>\n",
       "    <tr>\n",
       "      <th>1</th>\n",
       "      <td>14</td>\n",
       "      <td>0.0</td>\n",
       "      <td>3</td>\n",
       "      <td>399.0</td>\n",
       "      <td>63</td>\n",
       "      <td>31.18900</td>\n",
       "      <td>-85.11860</td>\n",
       "      <td>0.0</td>\n",
       "      <td>0.0</td>\n",
       "      <td>60.0</td>\n",
       "      <td>...</td>\n",
       "      <td>0</td>\n",
       "      <td>0</td>\n",
       "      <td>0</td>\n",
       "      <td>0</td>\n",
       "      <td>0</td>\n",
       "      <td>0</td>\n",
       "      <td>1</td>\n",
       "      <td>0</td>\n",
       "      <td>0</td>\n",
       "      <td>Fair</td>\n",
       "    </tr>\n",
       "    <tr>\n",
       "      <th>2</th>\n",
       "      <td>14</td>\n",
       "      <td>0.0</td>\n",
       "      <td>3</td>\n",
       "      <td>44.9</td>\n",
       "      <td>31</td>\n",
       "      <td>31.10713</td>\n",
       "      <td>-85.17017</td>\n",
       "      <td>0.0</td>\n",
       "      <td>0.0</td>\n",
       "      <td>15.1</td>\n",
       "      <td>...</td>\n",
       "      <td>0</td>\n",
       "      <td>0</td>\n",
       "      <td>0</td>\n",
       "      <td>0</td>\n",
       "      <td>0</td>\n",
       "      <td>1</td>\n",
       "      <td>0</td>\n",
       "      <td>0</td>\n",
       "      <td>0</td>\n",
       "      <td>Fair</td>\n",
       "    </tr>\n",
       "    <tr>\n",
       "      <th>3</th>\n",
       "      <td>14</td>\n",
       "      <td>0.0</td>\n",
       "      <td>4</td>\n",
       "      <td>136.2</td>\n",
       "      <td>50</td>\n",
       "      <td>31.05421</td>\n",
       "      <td>-85.20689</td>\n",
       "      <td>0.0</td>\n",
       "      <td>0.0</td>\n",
       "      <td>34.1</td>\n",
       "      <td>...</td>\n",
       "      <td>0</td>\n",
       "      <td>0</td>\n",
       "      <td>0</td>\n",
       "      <td>0</td>\n",
       "      <td>0</td>\n",
       "      <td>0</td>\n",
       "      <td>1</td>\n",
       "      <td>0</td>\n",
       "      <td>0</td>\n",
       "      <td>Good</td>\n",
       "    </tr>\n",
       "    <tr>\n",
       "      <th>4</th>\n",
       "      <td>14</td>\n",
       "      <td>0.0</td>\n",
       "      <td>11</td>\n",
       "      <td>451.1</td>\n",
       "      <td>36</td>\n",
       "      <td>31.01672</td>\n",
       "      <td>-85.22263</td>\n",
       "      <td>0.0</td>\n",
       "      <td>0.0</td>\n",
       "      <td>41.0</td>\n",
       "      <td>...</td>\n",
       "      <td>0</td>\n",
       "      <td>0</td>\n",
       "      <td>0</td>\n",
       "      <td>0</td>\n",
       "      <td>0</td>\n",
       "      <td>0</td>\n",
       "      <td>1</td>\n",
       "      <td>0</td>\n",
       "      <td>0</td>\n",
       "      <td>Good</td>\n",
       "    </tr>\n",
       "  </tbody>\n",
       "</table>\n",
       "<p>5 rows × 86 columns</p>\n",
       "</div>"
      ],
      "text/plain": [
       "   freeze_thaw_cycle  snowfall_days  num_spans  structure_length  bridge_age  \\\n",
       "0                 14            0.0          3             955.1          15   \n",
       "1                 14            0.0          3             399.0          63   \n",
       "2                 14            0.0          3              44.9          31   \n",
       "3                 14            0.0          4             136.2          50   \n",
       "4                 14            0.0         11             451.1          36   \n",
       "\n",
       "   latitude  longitude  yr_reconst  skew  max_span  ...  sub_st_condition_1  \\\n",
       "0  31.12305  -85.05527         0.0  23.0     274.9  ...                   0   \n",
       "1  31.18900  -85.11860         0.0   0.0      60.0  ...                   0   \n",
       "2  31.10713  -85.17017         0.0   0.0      15.1  ...                   0   \n",
       "3  31.05421  -85.20689         0.0   0.0      34.1  ...                   0   \n",
       "4  31.01672  -85.22263         0.0   0.0      41.0  ...                   0   \n",
       "\n",
       "   sub_st_condition_2  sub_st_condition_3  sub_st_condition_4  \\\n",
       "0                   0                   0                   0   \n",
       "1                   0                   0                   0   \n",
       "2                   0                   0                   0   \n",
       "3                   0                   0                   0   \n",
       "4                   0                   0                   0   \n",
       "\n",
       "   sub_st_condition_5  sub_st_condition_6  sub_st_condition_7  \\\n",
       "0                   0                   0                   1   \n",
       "1                   0                   0                   1   \n",
       "2                   0                   1                   0   \n",
       "3                   0                   0                   1   \n",
       "4                   0                   0                   1   \n",
       "\n",
       "   sub_st_condition_8  sub_st_condition_9  bridge_condition  \n",
       "0                   0                   0              Good  \n",
       "1                   0                   0              Fair  \n",
       "2                   0                   0              Fair  \n",
       "3                   0                   0              Good  \n",
       "4                   0                   0              Good  \n",
       "\n",
       "[5 rows x 86 columns]"
      ]
     },
     "execution_count": 15,
     "metadata": {},
     "output_type": "execute_result"
    }
   ],
   "source": [
    "df_dummies.head()"
   ]
  },
  {
   "cell_type": "code",
   "execution_count": 16,
   "metadata": {
    "ExecuteTime": {
     "end_time": "2021-08-23T21:26:58.447202Z",
     "start_time": "2021-08-23T21:26:58.372161Z"
    }
   },
   "outputs": [
    {
     "data": {
      "text/plain": [
       "Fair    0.496446\n",
       "Good    0.416535\n",
       "Poor    0.087019\n",
       "Name: bridge_condition, dtype: float64"
      ]
     },
     "execution_count": 16,
     "metadata": {},
     "output_type": "execute_result"
    }
   ],
   "source": [
    "df_dummies.bridge_condition.value_counts(normalize=True)"
   ]
  },
  {
   "cell_type": "code",
   "execution_count": 17,
   "metadata": {
    "ExecuteTime": {
     "end_time": "2021-08-23T21:26:58.511157Z",
     "start_time": "2021-08-23T21:26:58.450164Z"
    }
   },
   "outputs": [],
   "source": [
    "# assign variables for features and target \n",
    "X = df_dummies.drop('bridge_condition', axis = 1)\n",
    "y = df_dummies['bridge_condition']"
   ]
  },
  {
   "cell_type": "code",
   "execution_count": 18,
   "metadata": {
    "ExecuteTime": {
     "end_time": "2021-08-23T21:26:58.953159Z",
     "start_time": "2021-08-23T21:26:58.514160Z"
    }
   },
   "outputs": [],
   "source": [
    "# split into test and train data sets\n",
    "X_train, X_test, y_train, y_test = train_test_split(X, y, test_size=0.3, random_state = 42)"
   ]
  },
  {
   "cell_type": "markdown",
   "metadata": {},
   "source": [
    "# KNN"
   ]
  },
  {
   "cell_type": "code",
   "execution_count": 19,
   "metadata": {
    "ExecuteTime": {
     "end_time": "2021-08-23T21:26:58.968713Z",
     "start_time": "2021-08-23T21:26:58.956179Z"
    }
   },
   "outputs": [],
   "source": [
    "from sklearn.metrics import precision_score, recall_score, accuracy_score, f1_score\n",
    "\n",
    "models = []\n",
    "def get_metrics(y_test, X_test, model):\n",
    "    labels = y_test.to_numpy()\n",
    "    preds = model.predict(X_test)\n",
    "    \n",
    "    metrics = {}\n",
    "    metrics['accuracy'] = accuracy_score(labels, preds)\n",
    "    metrics['f1'] = f1_score(labels, preds, average='macro')\n",
    "    metrics['precision'] = precision_score(labels, preds, average='macro')\n",
    "    metrics['recall'] = recall_score(labels, preds, average='macro')\n",
    "    \n",
    "    return metrics"
   ]
  },
  {
   "cell_type": "code",
   "execution_count": 20,
   "metadata": {
    "ExecuteTime": {
     "end_time": "2021-08-23T21:26:59.112756Z",
     "start_time": "2021-08-23T21:26:58.972214Z"
    }
   },
   "outputs": [
    {
     "data": {
      "text/html": [
       "<div>\n",
       "<style scoped>\n",
       "    .dataframe tbody tr th:only-of-type {\n",
       "        vertical-align: middle;\n",
       "    }\n",
       "\n",
       "    .dataframe tbody tr th {\n",
       "        vertical-align: top;\n",
       "    }\n",
       "\n",
       "    .dataframe thead th {\n",
       "        text-align: right;\n",
       "    }\n",
       "</style>\n",
       "<table border=\"1\" class=\"dataframe\">\n",
       "  <thead>\n",
       "    <tr style=\"text-align: right;\">\n",
       "      <th></th>\n",
       "      <th>freeze_thaw_cycle</th>\n",
       "      <th>snowfall_days</th>\n",
       "      <th>num_spans</th>\n",
       "      <th>structure_length</th>\n",
       "      <th>bridge_age</th>\n",
       "      <th>latitude</th>\n",
       "      <th>longitude</th>\n",
       "      <th>yr_reconst</th>\n",
       "      <th>skew</th>\n",
       "      <th>max_span</th>\n",
       "      <th>...</th>\n",
       "      <th>sub_st_condition_0</th>\n",
       "      <th>sub_st_condition_1</th>\n",
       "      <th>sub_st_condition_2</th>\n",
       "      <th>sub_st_condition_3</th>\n",
       "      <th>sub_st_condition_4</th>\n",
       "      <th>sub_st_condition_5</th>\n",
       "      <th>sub_st_condition_6</th>\n",
       "      <th>sub_st_condition_7</th>\n",
       "      <th>sub_st_condition_8</th>\n",
       "      <th>sub_st_condition_9</th>\n",
       "    </tr>\n",
       "  </thead>\n",
       "  <tbody>\n",
       "    <tr>\n",
       "      <th>167137</th>\n",
       "      <td>32</td>\n",
       "      <td>8.0</td>\n",
       "      <td>3</td>\n",
       "      <td>162.1</td>\n",
       "      <td>61</td>\n",
       "      <td>34.35063</td>\n",
       "      <td>-89.91383</td>\n",
       "      <td>0.0</td>\n",
       "      <td>0.0</td>\n",
       "      <td>66.9</td>\n",
       "      <td>...</td>\n",
       "      <td>0</td>\n",
       "      <td>0</td>\n",
       "      <td>0</td>\n",
       "      <td>0</td>\n",
       "      <td>0</td>\n",
       "      <td>0</td>\n",
       "      <td>0</td>\n",
       "      <td>1</td>\n",
       "      <td>0</td>\n",
       "      <td>0</td>\n",
       "    </tr>\n",
       "    <tr>\n",
       "      <th>184364</th>\n",
       "      <td>96</td>\n",
       "      <td>40.0</td>\n",
       "      <td>1</td>\n",
       "      <td>44.0</td>\n",
       "      <td>111</td>\n",
       "      <td>39.15683</td>\n",
       "      <td>-93.35815</td>\n",
       "      <td>1979.0</td>\n",
       "      <td>0.0</td>\n",
       "      <td>43.0</td>\n",
       "      <td>...</td>\n",
       "      <td>0</td>\n",
       "      <td>0</td>\n",
       "      <td>0</td>\n",
       "      <td>0</td>\n",
       "      <td>0</td>\n",
       "      <td>0</td>\n",
       "      <td>0</td>\n",
       "      <td>1</td>\n",
       "      <td>0</td>\n",
       "      <td>0</td>\n",
       "    </tr>\n",
       "    <tr>\n",
       "      <th>405315</th>\n",
       "      <td>120</td>\n",
       "      <td>85.0</td>\n",
       "      <td>2</td>\n",
       "      <td>211.9</td>\n",
       "      <td>37</td>\n",
       "      <td>43.00471</td>\n",
       "      <td>-89.70281</td>\n",
       "      <td>0.0</td>\n",
       "      <td>5.0</td>\n",
       "      <td>105.0</td>\n",
       "      <td>...</td>\n",
       "      <td>0</td>\n",
       "      <td>0</td>\n",
       "      <td>0</td>\n",
       "      <td>0</td>\n",
       "      <td>0</td>\n",
       "      <td>1</td>\n",
       "      <td>0</td>\n",
       "      <td>0</td>\n",
       "      <td>0</td>\n",
       "      <td>0</td>\n",
       "    </tr>\n",
       "    <tr>\n",
       "      <th>175233</th>\n",
       "      <td>92</td>\n",
       "      <td>32.0</td>\n",
       "      <td>1</td>\n",
       "      <td>51.8</td>\n",
       "      <td>71</td>\n",
       "      <td>37.32571</td>\n",
       "      <td>-94.13771</td>\n",
       "      <td>0.0</td>\n",
       "      <td>0.0</td>\n",
       "      <td>48.9</td>\n",
       "      <td>...</td>\n",
       "      <td>0</td>\n",
       "      <td>0</td>\n",
       "      <td>0</td>\n",
       "      <td>0</td>\n",
       "      <td>0</td>\n",
       "      <td>0</td>\n",
       "      <td>1</td>\n",
       "      <td>0</td>\n",
       "      <td>0</td>\n",
       "      <td>0</td>\n",
       "    </tr>\n",
       "    <tr>\n",
       "      <th>220344</th>\n",
       "      <td>112</td>\n",
       "      <td>101.0</td>\n",
       "      <td>1</td>\n",
       "      <td>41.0</td>\n",
       "      <td>18</td>\n",
       "      <td>41.77110</td>\n",
       "      <td>-75.02743</td>\n",
       "      <td>0.0</td>\n",
       "      <td>23.0</td>\n",
       "      <td>38.1</td>\n",
       "      <td>...</td>\n",
       "      <td>0</td>\n",
       "      <td>0</td>\n",
       "      <td>0</td>\n",
       "      <td>0</td>\n",
       "      <td>0</td>\n",
       "      <td>0</td>\n",
       "      <td>0</td>\n",
       "      <td>1</td>\n",
       "      <td>0</td>\n",
       "      <td>0</td>\n",
       "    </tr>\n",
       "    <tr>\n",
       "      <th>...</th>\n",
       "      <td>...</td>\n",
       "      <td>...</td>\n",
       "      <td>...</td>\n",
       "      <td>...</td>\n",
       "      <td>...</td>\n",
       "      <td>...</td>\n",
       "      <td>...</td>\n",
       "      <td>...</td>\n",
       "      <td>...</td>\n",
       "      <td>...</td>\n",
       "      <td>...</td>\n",
       "      <td>...</td>\n",
       "      <td>...</td>\n",
       "      <td>...</td>\n",
       "      <td>...</td>\n",
       "      <td>...</td>\n",
       "      <td>...</td>\n",
       "      <td>...</td>\n",
       "      <td>...</td>\n",
       "      <td>...</td>\n",
       "      <td>...</td>\n",
       "    </tr>\n",
       "    <tr>\n",
       "      <th>259178</th>\n",
       "      <td>122</td>\n",
       "      <td>77.0</td>\n",
       "      <td>1</td>\n",
       "      <td>32.2</td>\n",
       "      <td>71</td>\n",
       "      <td>41.62357</td>\n",
       "      <td>-80.54185</td>\n",
       "      <td>0.0</td>\n",
       "      <td>30.0</td>\n",
       "      <td>32.2</td>\n",
       "      <td>...</td>\n",
       "      <td>0</td>\n",
       "      <td>0</td>\n",
       "      <td>0</td>\n",
       "      <td>0</td>\n",
       "      <td>0</td>\n",
       "      <td>0</td>\n",
       "      <td>0</td>\n",
       "      <td>0</td>\n",
       "      <td>1</td>\n",
       "      <td>0</td>\n",
       "    </tr>\n",
       "    <tr>\n",
       "      <th>365838</th>\n",
       "      <td>25</td>\n",
       "      <td>9.0</td>\n",
       "      <td>1</td>\n",
       "      <td>185.0</td>\n",
       "      <td>31</td>\n",
       "      <td>31.43111</td>\n",
       "      <td>-100.50660</td>\n",
       "      <td>0.0</td>\n",
       "      <td>24.0</td>\n",
       "      <td>105.0</td>\n",
       "      <td>...</td>\n",
       "      <td>0</td>\n",
       "      <td>0</td>\n",
       "      <td>0</td>\n",
       "      <td>0</td>\n",
       "      <td>0</td>\n",
       "      <td>0</td>\n",
       "      <td>0</td>\n",
       "      <td>1</td>\n",
       "      <td>0</td>\n",
       "      <td>0</td>\n",
       "    </tr>\n",
       "    <tr>\n",
       "      <th>131932</th>\n",
       "      <td>86</td>\n",
       "      <td>15.0</td>\n",
       "      <td>1</td>\n",
       "      <td>42.0</td>\n",
       "      <td>52</td>\n",
       "      <td>39.36397</td>\n",
       "      <td>-77.74014</td>\n",
       "      <td>1985.0</td>\n",
       "      <td>0.0</td>\n",
       "      <td>40.4</td>\n",
       "      <td>...</td>\n",
       "      <td>0</td>\n",
       "      <td>0</td>\n",
       "      <td>0</td>\n",
       "      <td>0</td>\n",
       "      <td>0</td>\n",
       "      <td>0</td>\n",
       "      <td>1</td>\n",
       "      <td>0</td>\n",
       "      <td>0</td>\n",
       "      <td>0</td>\n",
       "    </tr>\n",
       "    <tr>\n",
       "      <th>146867</th>\n",
       "      <td>62</td>\n",
       "      <td>66.0</td>\n",
       "      <td>1</td>\n",
       "      <td>67.9</td>\n",
       "      <td>57</td>\n",
       "      <td>43.03139</td>\n",
       "      <td>-86.16049</td>\n",
       "      <td>0.0</td>\n",
       "      <td>50.0</td>\n",
       "      <td>65.0</td>\n",
       "      <td>...</td>\n",
       "      <td>0</td>\n",
       "      <td>0</td>\n",
       "      <td>0</td>\n",
       "      <td>0</td>\n",
       "      <td>0</td>\n",
       "      <td>0</td>\n",
       "      <td>0</td>\n",
       "      <td>1</td>\n",
       "      <td>0</td>\n",
       "      <td>0</td>\n",
       "    </tr>\n",
       "    <tr>\n",
       "      <th>121958</th>\n",
       "      <td>21</td>\n",
       "      <td>1.0</td>\n",
       "      <td>3</td>\n",
       "      <td>57.1</td>\n",
       "      <td>20</td>\n",
       "      <td>31.81428</td>\n",
       "      <td>-92.08168</td>\n",
       "      <td>0.0</td>\n",
       "      <td>0.0</td>\n",
       "      <td>19.0</td>\n",
       "      <td>...</td>\n",
       "      <td>0</td>\n",
       "      <td>0</td>\n",
       "      <td>0</td>\n",
       "      <td>0</td>\n",
       "      <td>0</td>\n",
       "      <td>0</td>\n",
       "      <td>0</td>\n",
       "      <td>0</td>\n",
       "      <td>1</td>\n",
       "      <td>0</td>\n",
       "    </tr>\n",
       "  </tbody>\n",
       "</table>\n",
       "<p>314472 rows × 85 columns</p>\n",
       "</div>"
      ],
      "text/plain": [
       "        freeze_thaw_cycle  snowfall_days  num_spans  structure_length  \\\n",
       "167137                 32            8.0          3             162.1   \n",
       "184364                 96           40.0          1              44.0   \n",
       "405315                120           85.0          2             211.9   \n",
       "175233                 92           32.0          1              51.8   \n",
       "220344                112          101.0          1              41.0   \n",
       "...                   ...            ...        ...               ...   \n",
       "259178                122           77.0          1              32.2   \n",
       "365838                 25            9.0          1             185.0   \n",
       "131932                 86           15.0          1              42.0   \n",
       "146867                 62           66.0          1              67.9   \n",
       "121958                 21            1.0          3              57.1   \n",
       "\n",
       "        bridge_age  latitude  longitude  yr_reconst  skew  max_span  ...  \\\n",
       "167137          61  34.35063  -89.91383         0.0   0.0      66.9  ...   \n",
       "184364         111  39.15683  -93.35815      1979.0   0.0      43.0  ...   \n",
       "405315          37  43.00471  -89.70281         0.0   5.0     105.0  ...   \n",
       "175233          71  37.32571  -94.13771         0.0   0.0      48.9  ...   \n",
       "220344          18  41.77110  -75.02743         0.0  23.0      38.1  ...   \n",
       "...            ...       ...        ...         ...   ...       ...  ...   \n",
       "259178          71  41.62357  -80.54185         0.0  30.0      32.2  ...   \n",
       "365838          31  31.43111 -100.50660         0.0  24.0     105.0  ...   \n",
       "131932          52  39.36397  -77.74014      1985.0   0.0      40.4  ...   \n",
       "146867          57  43.03139  -86.16049         0.0  50.0      65.0  ...   \n",
       "121958          20  31.81428  -92.08168         0.0   0.0      19.0  ...   \n",
       "\n",
       "        sub_st_condition_0  sub_st_condition_1  sub_st_condition_2  \\\n",
       "167137                   0                   0                   0   \n",
       "184364                   0                   0                   0   \n",
       "405315                   0                   0                   0   \n",
       "175233                   0                   0                   0   \n",
       "220344                   0                   0                   0   \n",
       "...                    ...                 ...                 ...   \n",
       "259178                   0                   0                   0   \n",
       "365838                   0                   0                   0   \n",
       "131932                   0                   0                   0   \n",
       "146867                   0                   0                   0   \n",
       "121958                   0                   0                   0   \n",
       "\n",
       "        sub_st_condition_3  sub_st_condition_4  sub_st_condition_5  \\\n",
       "167137                   0                   0                   0   \n",
       "184364                   0                   0                   0   \n",
       "405315                   0                   0                   1   \n",
       "175233                   0                   0                   0   \n",
       "220344                   0                   0                   0   \n",
       "...                    ...                 ...                 ...   \n",
       "259178                   0                   0                   0   \n",
       "365838                   0                   0                   0   \n",
       "131932                   0                   0                   0   \n",
       "146867                   0                   0                   0   \n",
       "121958                   0                   0                   0   \n",
       "\n",
       "        sub_st_condition_6  sub_st_condition_7  sub_st_condition_8  \\\n",
       "167137                   0                   1                   0   \n",
       "184364                   0                   1                   0   \n",
       "405315                   0                   0                   0   \n",
       "175233                   1                   0                   0   \n",
       "220344                   0                   1                   0   \n",
       "...                    ...                 ...                 ...   \n",
       "259178                   0                   0                   1   \n",
       "365838                   0                   1                   0   \n",
       "131932                   1                   0                   0   \n",
       "146867                   0                   1                   0   \n",
       "121958                   0                   0                   1   \n",
       "\n",
       "        sub_st_condition_9  \n",
       "167137                   0  \n",
       "184364                   0  \n",
       "405315                   0  \n",
       "175233                   0  \n",
       "220344                   0  \n",
       "...                    ...  \n",
       "259178                   0  \n",
       "365838                   0  \n",
       "131932                   0  \n",
       "146867                   0  \n",
       "121958                   0  \n",
       "\n",
       "[314472 rows x 85 columns]"
      ]
     },
     "execution_count": 20,
     "metadata": {},
     "output_type": "execute_result"
    }
   ],
   "source": [
    "X_train"
   ]
  },
  {
   "cell_type": "markdown",
   "metadata": {},
   "source": [
    "## Baseline model"
   ]
  },
  {
   "cell_type": "code",
   "execution_count": 21,
   "metadata": {
    "ExecuteTime": {
     "end_time": "2021-08-23T21:29:20.303417Z",
     "start_time": "2021-08-23T21:26:59.116757Z"
    }
   },
   "outputs": [],
   "source": [
    "from sklearn.neighbors import KNeighborsClassifier\n",
    "\n",
    "knn = KNeighborsClassifier()\n",
    "knn.fit(X_train, y_train);\n",
    "\n",
    "metrics = get_metrics(y_test, X_test, knn)\n",
    "metrics['name'] = 'K Nearest Neighbors Baseline'\n",
    "models.append(metrics)"
   ]
  },
  {
   "cell_type": "code",
   "execution_count": 22,
   "metadata": {
    "ExecuteTime": {
     "end_time": "2021-08-23T21:32:58.344394Z",
     "start_time": "2021-08-23T21:29:20.308418Z"
    }
   },
   "outputs": [
    {
     "name": "stdout",
     "output_type": "stream",
     "text": [
      "              precision    recall  f1-score   support\n",
      "\n",
      "        Fair       0.73      0.82      0.77    156417\n",
      "        Good       0.78      0.76      0.77    130758\n",
      "        Poor       0.72      0.28      0.41     27297\n",
      "\n",
      "    accuracy                           0.75    314472\n",
      "   macro avg       0.74      0.62      0.65    314472\n",
      "weighted avg       0.75      0.75      0.74    314472\n",
      "\n"
     ]
    }
   ],
   "source": [
    "print(classification_report(y_train, knn.predict(X_train)))"
   ]
  },
  {
   "cell_type": "code",
   "execution_count": 23,
   "metadata": {
    "ExecuteTime": {
     "end_time": "2021-08-23T21:34:36.006234Z",
     "start_time": "2021-08-23T21:32:58.348353Z"
    }
   },
   "outputs": [
    {
     "name": "stdout",
     "output_type": "stream",
     "text": [
      "              precision    recall  f1-score   support\n",
      "\n",
      "        Fair       0.63      0.72      0.67     66610\n",
      "        Good       0.67      0.65      0.66     56369\n",
      "        Poor       0.46      0.17      0.25     11796\n",
      "\n",
      "    accuracy                           0.64    134775\n",
      "   macro avg       0.59      0.51      0.53    134775\n",
      "weighted avg       0.63      0.64      0.63    134775\n",
      "\n"
     ]
    }
   ],
   "source": [
    "print(classification_report(y_test, knn.predict(X_test)))"
   ]
  },
  {
   "cell_type": "markdown",
   "metadata": {},
   "source": [
    "## Confusion Matrix"
   ]
  },
  {
   "cell_type": "code",
   "execution_count": 24,
   "metadata": {
    "ExecuteTime": {
     "end_time": "2021-08-23T21:36:09.623546Z",
     "start_time": "2021-08-23T21:34:36.008229Z"
    }
   },
   "outputs": [
    {
     "data": {
      "text/plain": [
       "<Figure size 432x360 with 0 Axes>"
      ]
     },
     "metadata": {},
     "output_type": "display_data"
    },
    {
     "data": {
      "image/png": "[encoded data removed]",
      "text/plain": [
       "<Figure size 432x288 with 2 Axes>"
      ]
     },
     "metadata": {
      "needs_background": "light"
     },
     "output_type": "display_data"
    }
   ],
   "source": [
    "plt.figure(figsize=(6,5))\n",
    "plot_confusion_matrix(knn, X_test, y_test, values_format='d', cmap=plt.cm.Blues)\n",
    "plt.title('K Nearest Neighbors')\n",
    "plt.tight_layout()\n",
    "\n",
    "plt.show()"
   ]
  },
  {
   "cell_type": "markdown",
   "metadata": {},
   "source": [
    "## Standardizing "
   ]
  },
  {
   "cell_type": "code",
   "execution_count": 25,
   "metadata": {
    "ExecuteTime": {
     "end_time": "2021-08-23T21:36:10.447513Z",
     "start_time": "2021-08-23T21:36:09.625552Z"
    }
   },
   "outputs": [
    {
     "data": {
      "text/html": [
       "<div>\n",
       "<style scoped>\n",
       "    .dataframe tbody tr th:only-of-type {\n",
       "        vertical-align: middle;\n",
       "    }\n",
       "\n",
       "    .dataframe tbody tr th {\n",
       "        vertical-align: top;\n",
       "    }\n",
       "\n",
       "    .dataframe thead th {\n",
       "        text-align: right;\n",
       "    }\n",
       "</style>\n",
       "<table border=\"1\" class=\"dataframe\">\n",
       "  <thead>\n",
       "    <tr style=\"text-align: right;\">\n",
       "      <th></th>\n",
       "      <th>freeze_thaw_cycle</th>\n",
       "      <th>snowfall_days</th>\n",
       "      <th>num_spans</th>\n",
       "      <th>structure_length</th>\n",
       "      <th>bridge_age</th>\n",
       "      <th>latitude</th>\n",
       "      <th>longitude</th>\n",
       "      <th>yr_reconst</th>\n",
       "      <th>skew</th>\n",
       "      <th>max_span</th>\n",
       "      <th>...</th>\n",
       "      <th>sub_st_condition_0</th>\n",
       "      <th>sub_st_condition_1</th>\n",
       "      <th>sub_st_condition_2</th>\n",
       "      <th>sub_st_condition_3</th>\n",
       "      <th>sub_st_condition_4</th>\n",
       "      <th>sub_st_condition_5</th>\n",
       "      <th>sub_st_condition_6</th>\n",
       "      <th>sub_st_condition_7</th>\n",
       "      <th>sub_st_condition_8</th>\n",
       "      <th>sub_st_condition_9</th>\n",
       "    </tr>\n",
       "  </thead>\n",
       "  <tbody>\n",
       "    <tr>\n",
       "      <th>0</th>\n",
       "      <td>-0.994717</td>\n",
       "      <td>-0.870071</td>\n",
       "      <td>0.059329</td>\n",
       "      <td>-0.021431</td>\n",
       "      <td>0.597331</td>\n",
       "      <td>-0.819948</td>\n",
       "      <td>0.146625</td>\n",
       "      <td>-0.432115</td>\n",
       "      <td>-0.639806</td>\n",
       "      <td>0.144011</td>\n",
       "      <td>...</td>\n",
       "      <td>-0.042047</td>\n",
       "      <td>-0.022981</td>\n",
       "      <td>-0.050565</td>\n",
       "      <td>-0.094988</td>\n",
       "      <td>-0.196159</td>\n",
       "      <td>-0.390549</td>\n",
       "      <td>-0.566765</td>\n",
       "      <td>1.250642</td>\n",
       "      <td>-0.434138</td>\n",
       "      <td>-0.160485</td>\n",
       "    </tr>\n",
       "    <tr>\n",
       "      <th>1</th>\n",
       "      <td>0.470534</td>\n",
       "      <td>0.004521</td>\n",
       "      <td>-0.346579</td>\n",
       "      <td>-0.243029</td>\n",
       "      <td>2.519327</td>\n",
       "      <td>0.175207</td>\n",
       "      <td>-0.117393</td>\n",
       "      <td>2.295840</td>\n",
       "      <td>-0.639806</td>\n",
       "      <td>-0.327717</td>\n",
       "      <td>...</td>\n",
       "      <td>-0.042047</td>\n",
       "      <td>-0.022981</td>\n",
       "      <td>-0.050565</td>\n",
       "      <td>-0.094988</td>\n",
       "      <td>-0.196159</td>\n",
       "      <td>-0.390549</td>\n",
       "      <td>-0.566765</td>\n",
       "      <td>1.250642</td>\n",
       "      <td>-0.434138</td>\n",
       "      <td>-0.160485</td>\n",
       "    </tr>\n",
       "    <tr>\n",
       "      <th>2</th>\n",
       "      <td>1.020003</td>\n",
       "      <td>1.234415</td>\n",
       "      <td>-0.143625</td>\n",
       "      <td>0.072012</td>\n",
       "      <td>-0.325227</td>\n",
       "      <td>0.971936</td>\n",
       "      <td>0.162800</td>\n",
       "      <td>-0.432115</td>\n",
       "      <td>-0.365186</td>\n",
       "      <td>0.896014</td>\n",
       "      <td>...</td>\n",
       "      <td>-0.042047</td>\n",
       "      <td>-0.022981</td>\n",
       "      <td>-0.050565</td>\n",
       "      <td>-0.094988</td>\n",
       "      <td>-0.196159</td>\n",
       "      <td>2.560499</td>\n",
       "      <td>-0.566765</td>\n",
       "      <td>-0.799590</td>\n",
       "      <td>-0.434138</td>\n",
       "      <td>-0.160485</td>\n",
       "    </tr>\n",
       "    <tr>\n",
       "      <th>3</th>\n",
       "      <td>0.378956</td>\n",
       "      <td>-0.214127</td>\n",
       "      <td>-0.346579</td>\n",
       "      <td>-0.228394</td>\n",
       "      <td>0.981730</td>\n",
       "      <td>-0.203938</td>\n",
       "      <td>-0.177149</td>\n",
       "      <td>-0.432115</td>\n",
       "      <td>-0.639806</td>\n",
       "      <td>-0.211265</td>\n",
       "      <td>...</td>\n",
       "      <td>-0.042047</td>\n",
       "      <td>-0.022981</td>\n",
       "      <td>-0.050565</td>\n",
       "      <td>-0.094988</td>\n",
       "      <td>-0.196159</td>\n",
       "      <td>-0.390549</td>\n",
       "      <td>1.764401</td>\n",
       "      <td>-0.799590</td>\n",
       "      <td>-0.434138</td>\n",
       "      <td>-0.160485</td>\n",
       "    </tr>\n",
       "    <tr>\n",
       "      <th>4</th>\n",
       "      <td>0.836847</td>\n",
       "      <td>1.671711</td>\n",
       "      <td>-0.346579</td>\n",
       "      <td>-0.248659</td>\n",
       "      <td>-1.055586</td>\n",
       "      <td>0.716509</td>\n",
       "      <td>1.287715</td>\n",
       "      <td>-0.432115</td>\n",
       "      <td>0.623448</td>\n",
       "      <td>-0.424431</td>\n",
       "      <td>...</td>\n",
       "      <td>-0.042047</td>\n",
       "      <td>-0.022981</td>\n",
       "      <td>-0.050565</td>\n",
       "      <td>-0.094988</td>\n",
       "      <td>-0.196159</td>\n",
       "      <td>-0.390549</td>\n",
       "      <td>-0.566765</td>\n",
       "      <td>1.250642</td>\n",
       "      <td>-0.434138</td>\n",
       "      <td>-0.160485</td>\n",
       "    </tr>\n",
       "  </tbody>\n",
       "</table>\n",
       "<p>5 rows × 85 columns</p>\n",
       "</div>"
      ],
      "text/plain": [
       "   freeze_thaw_cycle  snowfall_days  num_spans  structure_length  bridge_age  \\\n",
       "0          -0.994717      -0.870071   0.059329         -0.021431    0.597331   \n",
       "1           0.470534       0.004521  -0.346579         -0.243029    2.519327   \n",
       "2           1.020003       1.234415  -0.143625          0.072012   -0.325227   \n",
       "3           0.378956      -0.214127  -0.346579         -0.228394    0.981730   \n",
       "4           0.836847       1.671711  -0.346579         -0.248659   -1.055586   \n",
       "\n",
       "   latitude  longitude  yr_reconst      skew  max_span  ...  \\\n",
       "0 -0.819948   0.146625   -0.432115 -0.639806  0.144011  ...   \n",
       "1  0.175207  -0.117393    2.295840 -0.639806 -0.327717  ...   \n",
       "2  0.971936   0.162800   -0.432115 -0.365186  0.896014  ...   \n",
       "3 -0.203938  -0.177149   -0.432115 -0.639806 -0.211265  ...   \n",
       "4  0.716509   1.287715   -0.432115  0.623448 -0.424431  ...   \n",
       "\n",
       "   sub_st_condition_0  sub_st_condition_1  sub_st_condition_2  \\\n",
       "0           -0.042047           -0.022981           -0.050565   \n",
       "1           -0.042047           -0.022981           -0.050565   \n",
       "2           -0.042047           -0.022981           -0.050565   \n",
       "3           -0.042047           -0.022981           -0.050565   \n",
       "4           -0.042047           -0.022981           -0.050565   \n",
       "\n",
       "   sub_st_condition_3  sub_st_condition_4  sub_st_condition_5  \\\n",
       "0           -0.094988           -0.196159           -0.390549   \n",
       "1           -0.094988           -0.196159           -0.390549   \n",
       "2           -0.094988           -0.196159            2.560499   \n",
       "3           -0.094988           -0.196159           -0.390549   \n",
       "4           -0.094988           -0.196159           -0.390549   \n",
       "\n",
       "   sub_st_condition_6  sub_st_condition_7  sub_st_condition_8  \\\n",
       "0           -0.566765            1.250642           -0.434138   \n",
       "1           -0.566765            1.250642           -0.434138   \n",
       "2           -0.566765           -0.799590           -0.434138   \n",
       "3            1.764401           -0.799590           -0.434138   \n",
       "4           -0.566765            1.250642           -0.434138   \n",
       "\n",
       "   sub_st_condition_9  \n",
       "0           -0.160485  \n",
       "1           -0.160485  \n",
       "2           -0.160485  \n",
       "3           -0.160485  \n",
       "4           -0.160485  \n",
       "\n",
       "[5 rows x 85 columns]"
      ]
     },
     "execution_count": 25,
     "metadata": {},
     "output_type": "execute_result"
    }
   ],
   "source": [
    "# Import StandardScaler\n",
    "from sklearn.preprocessing import StandardScaler \n",
    "\n",
    "\n",
    "# Instantiate StandardScaler\n",
    "scaler = StandardScaler()\n",
    "\n",
    "# Transform the training and test sets\n",
    "scaled_data_train = scaler.fit_transform(X_train)\n",
    "scaled_data_test = scaler.transform(X_test)\n",
    "\n",
    "# Convert into a DataFrame\n",
    "scaled_df_train = pd.DataFrame(scaled_data_train, columns=X.columns)\n",
    "scaled_df_train.head()"
   ]
  },
  {
   "cell_type": "code",
   "execution_count": 26,
   "metadata": {
    "ExecuteTime": {
     "end_time": "2021-08-23T23:20:30.314366Z",
     "start_time": "2021-08-23T21:36:10.449519Z"
    }
   },
   "outputs": [],
   "source": [
    "# Import KNeighborsClassifier\n",
    "from sklearn.neighbors import KNeighborsClassifier\n",
    "\n",
    "# Instantiate KNeighborsClassifier\n",
    "knn = KNeighborsClassifier()\n",
    "# Fit the classifier\n",
    "knn.fit(scaled_data_train, y_train);\n",
    "\n",
    "\n",
    "# Predict on the test set\n",
    "\n",
    "metrics = get_metrics(y_test, scaled_data_test, knn)\n",
    "metrics['name'] = 'K Nearest Neighbors scaled'\n",
    "models.append(metrics)"
   ]
  },
  {
   "cell_type": "markdown",
   "metadata": {},
   "source": [
    "## GridSearch CV"
   ]
  },
  {
   "cell_type": "code",
   "execution_count": 27,
   "metadata": {
    "ExecuteTime": {
     "end_time": "2021-08-23T23:20:30.330012Z",
     "start_time": "2021-08-23T23:20:30.316373Z"
    }
   },
   "outputs": [],
   "source": [
    "from sklearn.model_selection import GridSearchCV"
   ]
  },
  {
   "cell_type": "code",
   "execution_count": 28,
   "metadata": {
    "ExecuteTime": {
     "end_time": "2021-08-24T01:00:26.534503Z",
     "start_time": "2021-08-23T23:20:30.331948Z"
    }
   },
   "outputs": [
    {
     "data": {
      "text/plain": [
       "GridSearchCV(cv=3, error_score=nan,\n",
       "             estimator=KNeighborsClassifier(algorithm='auto', leaf_size=30,\n",
       "                                            metric='minkowski',\n",
       "                                            metric_params=None, n_jobs=None,\n",
       "                                            n_neighbors=5, p=2,\n",
       "                                            weights='uniform'),\n",
       "             iid='deprecated', n_jobs=None,\n",
       "             param_grid={'leaf_size': [30, 40], 'n_neighbors': [1, 5, 9],\n",
       "                         'p': [1, 2], 'weights': ['uniform', 'distance']},\n",
       "             pre_dispatch='2*n_jobs', refit=True, return_train_score=False,\n",
       "             scoring='f1_macro', verbose=0)"
      ]
     },
     "execution_count": 28,
     "metadata": {},
     "output_type": "execute_result"
    }
   ],
   "source": [
    "param_grid = {\n",
    "    'n_neighbors': [1, 5, 9], # default 5\n",
    "    'weights': ['uniform', 'distance'], # default 'uniform'\n",
    "    'leaf_size': [30, 40], # default 30\n",
    "    'p': [1, 2] # default 2\n",
    "}\n",
    "\n",
    "grid_search = GridSearchCV(knn, param_grid, cv=3, scoring='f1_macro')\n",
    "grid_search.fit(X_train, y_train)"
   ]
  },
  {
   "cell_type": "code",
   "execution_count": 29,
   "metadata": {
    "ExecuteTime": {
     "end_time": "2021-08-24T01:00:26.550130Z",
     "start_time": "2021-08-24T01:00:26.536474Z"
    }
   },
   "outputs": [
    {
     "data": {
      "text/plain": [
       "{'leaf_size': 30, 'n_neighbors': 9, 'p': 1, 'weights': 'distance'}"
      ]
     },
     "execution_count": 29,
     "metadata": {},
     "output_type": "execute_result"
    }
   ],
   "source": [
    "grid_search.best_params_"
   ]
  },
  {
   "cell_type": "code",
   "execution_count": 30,
   "metadata": {
    "ExecuteTime": {
     "end_time": "2021-08-24T02:40:36.333692Z",
     "start_time": "2021-08-24T01:00:26.553120Z"
    }
   },
   "outputs": [],
   "source": [
    "knn_tuned = KNeighborsClassifier(n_neighbors=9, weights='distance', leaf_size=30, p=1)\n",
    "knn_tuned.fit(scaled_data_train, y_train)\n",
    "get_metrics(y_test, scaled_data_test, knn_tuned)\n",
    "metrics['name'] = 'K Nearest Neighbors tuned'\n",
    "models.append(metrics)"
   ]
  },
  {
   "cell_type": "code",
   "execution_count": 31,
   "metadata": {
    "ExecuteTime": {
     "end_time": "2021-08-24T04:19:29.653268Z",
     "start_time": "2021-08-24T02:40:36.337605Z"
    }
   },
   "outputs": [
    {
     "data": {
      "text/plain": [
       "<Figure size 432x360 with 0 Axes>"
      ]
     },
     "metadata": {},
     "output_type": "display_data"
    },
    {
     "data": {
      "image/png": "[encoded data removed]",
      "text/plain": [
       "<Figure size 432x288 with 2 Axes>"
      ]
     },
     "metadata": {
      "needs_background": "light"
     },
     "output_type": "display_data"
    }
   ],
   "source": [
    "plt.figure(figsize=(6,5))\n",
    "plot_confusion_matrix(knn_tuned, scaled_data_test, y_test, values_format='d', cmap=plt.cm.Blues)\n",
    "plt.title('K Nearest Neighbors')\n",
    "plt.tight_layout()\n",
    "\n",
    "plt.show()"
   ]
  },
  {
   "cell_type": "markdown",
   "metadata": {},
   "source": [
    "## Smote"
   ]
  },
  {
   "cell_type": "code",
   "execution_count": 32,
   "metadata": {
    "ExecuteTime": {
     "end_time": "2021-08-24T04:19:29.873802Z",
     "start_time": "2021-08-24T04:19:29.656386Z"
    }
   },
   "outputs": [],
   "source": [
    "from imblearn.over_sampling import SMOTE"
   ]
  },
  {
   "cell_type": "code",
   "execution_count": 33,
   "metadata": {
    "ExecuteTime": {
     "end_time": "2021-08-24T04:20:26.603143Z",
     "start_time": "2021-08-24T04:19:29.873802Z"
    }
   },
   "outputs": [
    {
     "name": "stdout",
     "output_type": "stream",
     "text": [
      "Original class distribution: \n",
      "\n",
      "Fair    223027\n",
      "Good    187127\n",
      "Poor     39093\n",
      "Name: bridge_condition, dtype: int64\n",
      "-----------------------------------------\n",
      "Synthetic sample class distribution: \n",
      "\n",
      "Good    156417\n",
      "Poor    156417\n",
      "Fair    156417\n",
      "Name: bridge_condition, dtype: int64\n"
     ]
    }
   ],
   "source": [
    "# Previous original class distribution\n",
    "print('Original class distribution: \\n')\n",
    "print(y.value_counts())\n",
    "smote = SMOTE(random_state=42)\n",
    "X_train_resampled, y_train_resampled = smote.fit_sample(X_train, y_train) \n",
    "# Preview synthetic sample class distribution\n",
    "print('-----------------------------------------')\n",
    "print('Synthetic sample class distribution: \\n')\n",
    "print(pd.Series(y_train_resampled).value_counts()) "
   ]
  },
  {
   "cell_type": "code",
   "execution_count": 34,
   "metadata": {
    "ExecuteTime": {
     "end_time": "2021-08-24T04:24:46.598421Z",
     "start_time": "2021-08-24T04:20:26.603143Z"
    }
   },
   "outputs": [],
   "source": [
    "knn_smote = KNeighborsClassifier(n_neighbors=9, weights='distance', \n",
    "                                 leaf_size=30, p=1)\n",
    "knn_smote.fit(X_train_resampled, y_train_resampled)\n",
    "get_metrics(y_test, X_test, knn_smote)\n",
    "metrics['name'] = 'K Nearest Neighbors smote'\n",
    "models.append(metrics)"
   ]
  },
  {
   "cell_type": "code",
   "execution_count": 35,
   "metadata": {
    "ExecuteTime": {
     "end_time": "2021-08-24T04:35:47.182852Z",
     "start_time": "2021-08-24T04:24:46.600837Z"
    }
   },
   "outputs": [
    {
     "name": "stdout",
     "output_type": "stream",
     "text": [
      "              precision    recall  f1-score   support\n",
      "\n",
      "        Fair       1.00      1.00      1.00    156417\n",
      "        Good       1.00      1.00      1.00    156417\n",
      "        Poor       1.00      1.00      1.00    156417\n",
      "\n",
      "    accuracy                           1.00    469251\n",
      "   macro avg       1.00      1.00      1.00    469251\n",
      "weighted avg       1.00      1.00      1.00    469251\n",
      "\n"
     ]
    }
   ],
   "source": [
    "print(classification_report(y_train_resampled, knn_smote.predict(X_train_resampled)))"
   ]
  },
  {
   "cell_type": "code",
   "execution_count": 36,
   "metadata": {
    "ExecuteTime": {
     "end_time": "2021-08-24T04:39:58.605693Z",
     "start_time": "2021-08-24T04:35:47.182852Z"
    }
   },
   "outputs": [
    {
     "name": "stdout",
     "output_type": "stream",
     "text": [
      "              precision    recall  f1-score   support\n",
      "\n",
      "        Fair       0.70      0.51      0.59     66610\n",
      "        Good       0.71      0.73      0.72     56369\n",
      "        Poor       0.25      0.59      0.35     11796\n",
      "\n",
      "    accuracy                           0.61    134775\n",
      "   macro avg       0.55      0.61      0.55    134775\n",
      "weighted avg       0.66      0.61      0.62    134775\n",
      "\n"
     ]
    }
   ],
   "source": [
    "print(classification_report(y_test, knn_smote.predict(X_test)))"
   ]
  },
  {
   "cell_type": "markdown",
   "metadata": {},
   "source": [
    "## Confusion matrix"
   ]
  },
  {
   "cell_type": "code",
   "execution_count": 37,
   "metadata": {
    "ExecuteTime": {
     "end_time": "2021-08-24T04:43:56.714258Z",
     "start_time": "2021-08-24T04:39:58.608725Z"
    }
   },
   "outputs": [
    {
     "data": {
      "image/png": "[encoded data removed]",
      "text/plain": [
       "<Figure size 432x288 with 2 Axes>"
      ]
     },
     "metadata": {
      "needs_background": "light"
     },
     "output_type": "display_data"
    }
   ],
   "source": [
    "plot_confusion_matrix(knn_smote, X_test, y_test,\n",
    "                      values_format='d', cmap=plt.cm.Blues)\n",
    "                                      \n",
    "                     \n",
    "plt.title('K Nearest Neighbors smote')\n",
    "plt.tight_layout()\n",
    "\n",
    "plt.show()"
   ]
  },
  {
   "cell_type": "code",
   "execution_count": null,
   "metadata": {},
   "outputs": [],
   "source": []
  },
  {
   "cell_type": "code",
   "execution_count": null,
   "metadata": {},
   "outputs": [],
   "source": []
  },
  {
   "cell_type": "code",
   "execution_count": null,
   "metadata": {},
   "outputs": [],
   "source": []
  },
  {
   "cell_type": "markdown",
   "metadata": {},
   "source": [
    "# Random Forest"
   ]
  },
  {
   "cell_type": "markdown",
   "metadata": {},
   "source": [
    "## Baseline model"
   ]
  },
  {
   "cell_type": "code",
   "execution_count": 38,
   "metadata": {
    "ExecuteTime": {
     "end_time": "2021-08-24T04:45:13.031653Z",
     "start_time": "2021-08-24T04:43:56.718460Z"
    }
   },
   "outputs": [],
   "source": [
    "from sklearn.ensemble import RandomForestClassifier\n",
    "\n",
    "forest = RandomForestClassifier(random_state=12)\n",
    "forest.fit(X_train, y_train);\n",
    "\n",
    "metrics = get_metrics(y_test, X_test, forest)\n",
    "metrics['name'] = 'Random Forest Baseline'\n",
    "models.append(metrics)"
   ]
  },
  {
   "cell_type": "code",
   "execution_count": 39,
   "metadata": {
    "ExecuteTime": {
     "end_time": "2021-08-24T04:45:16.641363Z",
     "start_time": "2021-08-24T04:45:13.031653Z"
    }
   },
   "outputs": [
    {
     "data": {
      "text/plain": [
       "array([[60757,  5812,    41],\n",
       "       [  927, 55439,     3],\n",
       "       [ 1429,   167, 10200]], dtype=int64)"
      ]
     },
     "execution_count": 39,
     "metadata": {},
     "output_type": "execute_result"
    }
   ],
   "source": [
    "from sklearn.metrics import confusion_matrix\n",
    "confusion_matrix(y_test,forest.predict(X_test))"
   ]
  },
  {
   "cell_type": "code",
   "execution_count": 40,
   "metadata": {
    "ExecuteTime": {
     "end_time": "2021-08-24T04:45:32.159986Z",
     "start_time": "2021-08-24T04:45:16.641363Z"
    }
   },
   "outputs": [
    {
     "name": "stdout",
     "output_type": "stream",
     "text": [
      "              precision    recall  f1-score   support\n",
      "\n",
      "        Fair       1.00      1.00      1.00    156417\n",
      "        Good       1.00      1.00      1.00    130758\n",
      "        Poor       1.00      1.00      1.00     27297\n",
      "\n",
      "    accuracy                           1.00    314472\n",
      "   macro avg       1.00      1.00      1.00    314472\n",
      "weighted avg       1.00      1.00      1.00    314472\n",
      "\n"
     ]
    }
   ],
   "source": [
    "print(classification_report(y_train, forest.predict(X_train)))"
   ]
  },
  {
   "cell_type": "code",
   "execution_count": 41,
   "metadata": {
    "ExecuteTime": {
     "end_time": "2021-08-24T04:45:38.461543Z",
     "start_time": "2021-08-24T04:45:32.162905Z"
    }
   },
   "outputs": [
    {
     "name": "stdout",
     "output_type": "stream",
     "text": [
      "              precision    recall  f1-score   support\n",
      "\n",
      "        Fair       0.96      0.91      0.94     66610\n",
      "        Good       0.90      0.98      0.94     56369\n",
      "        Poor       1.00      0.86      0.93     11796\n",
      "\n",
      "    accuracy                           0.94    134775\n",
      "   macro avg       0.95      0.92      0.93    134775\n",
      "weighted avg       0.94      0.94      0.94    134775\n",
      "\n"
     ]
    }
   ],
   "source": [
    "print(classification_report(y_test, forest.predict(X_test)))"
   ]
  },
  {
   "cell_type": "markdown",
   "metadata": {},
   "source": [
    "## Confusion matrix"
   ]
  },
  {
   "cell_type": "code",
   "execution_count": 42,
   "metadata": {
    "ExecuteTime": {
     "end_time": "2021-08-24T04:45:42.211501Z",
     "start_time": "2021-08-24T04:45:38.463611Z"
    }
   },
   "outputs": [
    {
     "data": {
      "image/png": "[encoded data removed]",
      "text/plain": [
       "<Figure size 432x288 with 2 Axes>"
      ]
     },
     "metadata": {
      "needs_background": "light"
     },
     "output_type": "display_data"
    }
   ],
   "source": [
    "plot_confusion_matrix(forest, X_test, y_test, values_format='d', cmap=plt.cm.Blues)\n",
    "plt.title('Random forest Baseline')\n",
    "plt.tight_layout()\n",
    "\n",
    "plt.show()"
   ]
  },
  {
   "cell_type": "markdown",
   "metadata": {},
   "source": [
    "## Standardizing"
   ]
  },
  {
   "cell_type": "code",
   "execution_count": 43,
   "metadata": {
    "ExecuteTime": {
     "end_time": "2021-08-24T04:47:02.538321Z",
     "start_time": "2021-08-24T04:45:42.216039Z"
    }
   },
   "outputs": [],
   "source": [
    "# Instantiate RandomForestClassifier\n",
    "forest = RandomForestClassifier()\n",
    "# Fit the classifier\n",
    "forest.fit(scaled_data_train, y_train);\n",
    "\n",
    "\n",
    "# Predict on the test set\n",
    "metrics = get_metrics(y_test, scaled_data_test, forest)\n",
    "metrics['name'] = 'Random forest scaled'\n",
    "models.append(metrics)"
   ]
  },
  {
   "cell_type": "markdown",
   "metadata": {},
   "source": [
    "## GridSearch CV"
   ]
  },
  {
   "cell_type": "code",
   "execution_count": 44,
   "metadata": {
    "ExecuteTime": {
     "end_time": "2021-08-24T09:46:00.616786Z",
     "start_time": "2021-08-24T04:47:02.538321Z"
    }
   },
   "outputs": [
    {
     "data": {
      "text/plain": [
       "GridSearchCV(cv=3, error_score=nan,\n",
       "             estimator=RandomForestClassifier(bootstrap=True, ccp_alpha=0.0,\n",
       "                                              class_weight=None,\n",
       "                                              criterion='gini', max_depth=None,\n",
       "                                              max_features='auto',\n",
       "                                              max_leaf_nodes=None,\n",
       "                                              max_samples=None,\n",
       "                                              min_impurity_decrease=0.0,\n",
       "                                              min_impurity_split=None,\n",
       "                                              min_samples_leaf=1,\n",
       "                                              min_samples_split=2,\n",
       "                                              min_weight_fraction_leaf=0.0,\n",
       "                                              n_estimators=100, n_jobs=None,\n",
       "                                              oob_score=False,\n",
       "                                              random_state=None, verbose=0,\n",
       "                                              warm_start=False),\n",
       "             iid='deprecated', n_jobs=None,\n",
       "             param_grid={'max_depth': [30, 35, 40], 'max_features': [50, 60],\n",
       "                         'n_estimators': [100, 200]},\n",
       "             pre_dispatch='2*n_jobs', refit=True, return_train_score=False,\n",
       "             scoring='f1_macro', verbose=0)"
      ]
     },
     "execution_count": 44,
     "metadata": {},
     "output_type": "execute_result"
    }
   ],
   "source": [
    "param_grid = {\n",
    "    'n_estimators': [100, 200], # default 100 #boosting stages\n",
    "    'max_depth': [30, 35, 40], # default None\n",
    "    'max_features': [50, 60], # default 'auto': auto=sqrt(# of features)=11, None=# of features=122\n",
    "#     'min_samples_split' : [20,30,40],\n",
    "#     'min_samples_leaf'  : [5, 10, 15]\n",
    "    # default 'auto': auto=sqrt(# of features)=11, None=# of features=122\n",
    "}\n",
    "forest = RandomForestClassifier()\n",
    "grid_search = GridSearchCV(forest, param_grid, cv=3, scoring='f1_macro')\n",
    "grid_search.fit(scaled_data_train, y_train)"
   ]
  },
  {
   "cell_type": "code",
   "execution_count": 45,
   "metadata": {
    "ExecuteTime": {
     "end_time": "2021-08-24T09:46:00.648790Z",
     "start_time": "2021-08-24T09:46:00.622790Z"
    }
   },
   "outputs": [
    {
     "data": {
      "text/plain": [
       "{'max_depth': 35, 'max_features': 50, 'n_estimators': 200}"
      ]
     },
     "execution_count": 45,
     "metadata": {},
     "output_type": "execute_result"
    }
   ],
   "source": [
    "grid_search.best_params_"
   ]
  },
  {
   "cell_type": "code",
   "execution_count": 46,
   "metadata": {
    "ExecuteTime": {
     "end_time": "2021-08-24T09:58:56.807669Z",
     "start_time": "2021-08-24T09:46:00.650787Z"
    }
   },
   "outputs": [],
   "source": [
    "forest_tuned = RandomForestClassifier(n_estimators=200, max_depth=35,\n",
    "                                      max_features=60, min_samples_leaf=35, \n",
    "                                      min_samples_split=70)\n",
    "forest_tuned.fit(scaled_data_train, y_train)\n",
    "get_metrics(y_test, scaled_data_test, forest_tuned)\n",
    "metrics['name'] = 'Random Forest tuned1'\n",
    "models.append(metrics)"
   ]
  },
  {
   "cell_type": "code",
   "execution_count": 48,
   "metadata": {
    "ExecuteTime": {
     "end_time": "2021-08-24T16:09:27.116227Z",
     "start_time": "2021-08-24T16:09:17.890951Z"
    }
   },
   "outputs": [
    {
     "name": "stdout",
     "output_type": "stream",
     "text": [
      "              precision    recall  f1-score   support\n",
      "\n",
      "        Fair       0.97      0.90      0.93     66610\n",
      "        Good       0.89      0.99      0.94     56369\n",
      "        Poor       1.00      0.85      0.92     11796\n",
      "\n",
      "    accuracy                           0.93    134775\n",
      "   macro avg       0.95      0.91      0.93    134775\n",
      "weighted avg       0.94      0.93      0.93    134775\n",
      "\n"
     ]
    }
   ],
   "source": [
    "print(classification_report(y_test, forest_tuned.predict(scaled_data_test)))"
   ]
  },
  {
   "cell_type": "code",
   "execution_count": null,
   "metadata": {},
   "outputs": [],
   "source": []
  },
  {
   "cell_type": "code",
   "execution_count": null,
   "metadata": {
    "ExecuteTime": {
     "end_time": "2021-08-24T09:58:56.862626Z",
     "start_time": "2021-08-23T21:26:50.413Z"
    }
   },
   "outputs": [],
   "source": [
    "param_grid = {\n",
    "    'n_estimators': [100, 200], # default 100 #boosting stages\n",
    "    'max_depth': [30, 35, 40], # default None\n",
    "    'max_features': [50, 60], # default 'auto': auto=sqrt(# of features)=11, None=# of features=122\n",
    "#     'min_samples_split' : [20,30,40],\n",
    "#     'min_samples_leaf'  : [5, 10, 15]\n",
    "    # default 'auto': auto=sqrt(# of features)=11, None=# of features=122\n",
    "}\n",
    "forest = RandomForestClassifier()\n",
    "grid_search = GridSearchCV(forest, param_grid, cv=3, scoring='f1_macro')\n",
    "grid_search.fit(scaled_data_train, y_train)"
   ]
  },
  {
   "cell_type": "code",
   "execution_count": null,
   "metadata": {
    "ExecuteTime": {
     "end_time": "2021-08-24T09:58:56.865626Z",
     "start_time": "2021-08-23T21:26:50.418Z"
    }
   },
   "outputs": [],
   "source": [
    "grid_search.best_params_"
   ]
  },
  {
   "cell_type": "code",
   "execution_count": null,
   "metadata": {
    "ExecuteTime": {
     "end_time": "2021-08-24T09:58:56.866625Z",
     "start_time": "2021-08-23T21:26:50.424Z"
    }
   },
   "outputs": [],
   "source": [
    "forest_tuned = RandomForestClassifier(n_estimators=200, max_depth=35,\n",
    "                                      max_features=60, min_samples_leaf=35, \n",
    "                                      min_samples_split=70)\n",
    "forest_tuned.fit(scaled_data_train, y_train)\n",
    "get_metrics(y_test, scaled_data_test, forest_tuned)\n",
    "metrics['name'] = 'Rand2om Forest tuned1'\n",
    "models.append(metrics)"
   ]
  },
  {
   "cell_type": "code",
   "execution_count": null,
   "metadata": {
    "ExecuteTime": {
     "end_time": "2021-08-24T09:58:56.868626Z",
     "start_time": "2021-08-23T21:26:50.430Z"
    }
   },
   "outputs": [],
   "source": [
    "print(classification_report(y_test, forest_tuned.predict(scaled_data_test))"
   ]
  },
  {
   "cell_type": "markdown",
   "metadata": {},
   "source": [
    "## Confusion matrix"
   ]
  },
  {
   "cell_type": "code",
   "execution_count": null,
   "metadata": {
    "ExecuteTime": {
     "end_time": "2021-08-24T09:58:56.869626Z",
     "start_time": "2021-08-23T21:26:50.437Z"
    }
   },
   "outputs": [],
   "source": [
    "plt.figure(figsize=(6,5))\n",
    "plot_confusion_matrix(knn, X_test, y_test, values_format='d', cmap=plt.cm.Blues)\n",
    "plt.title('Random Forest tuned1')\n",
    "plt.tight_layout()\n",
    "\n",
    "plt.show()"
   ]
  },
  {
   "cell_type": "markdown",
   "metadata": {},
   "source": [
    "## Smote"
   ]
  },
  {
   "cell_type": "code",
   "execution_count": null,
   "metadata": {
    "ExecuteTime": {
     "end_time": "2021-08-24T09:58:56.871627Z",
     "start_time": "2021-08-23T21:26:50.442Z"
    }
   },
   "outputs": [],
   "source": [
    "forest_smote = RandomForestClassifier(n_estimators=150, max_depth=40,\n",
    "                                      max_features=50, min_samples_leaf=35, \n",
    "                                      min_samples_split=70)\n",
    "forest_smote.fit(X_train_resampled, y_train_resampled)\n",
    "get_metrics(y_test, scaled_data_test, forest_smote)\n",
    "metrics['name'] = 'Random Forest smote'\n",
    "models.append(metrics)"
   ]
  },
  {
   "cell_type": "code",
   "execution_count": null,
   "metadata": {
    "ExecuteTime": {
     "end_time": "2021-08-24T09:58:56.872627Z",
     "start_time": "2021-08-23T21:26:50.448Z"
    }
   },
   "outputs": [],
   "source": [
    "print(classification_report(y_test, forest_smote.predict(scaled_data_test))"
   ]
  },
  {
   "cell_type": "markdown",
   "metadata": {
    "ExecuteTime": {
     "end_time": "2021-08-23T20:47:16.536440Z",
     "start_time": "2021-08-23T20:47:16.517893Z"
    }
   },
   "source": [
    "## Confusion matrix"
   ]
  },
  {
   "cell_type": "code",
   "execution_count": null,
   "metadata": {
    "ExecuteTime": {
     "end_time": "2021-08-24T09:58:56.873627Z",
     "start_time": "2021-08-23T21:26:50.454Z"
    }
   },
   "outputs": [],
   "source": [
    "plot_confusion_matrix(forest_tuned, scaled_data_test, y_test, values_format='d', \n",
    "                      cmap=plt.cm.Blues)\n",
    "plt.title('Random Forest Scaled')\n",
    "plt.tight_layout()\n",
    "\n",
    "plt.show()"
   ]
  },
  {
   "cell_type": "code",
   "execution_count": null,
   "metadata": {},
   "outputs": [],
   "source": []
  },
  {
   "cell_type": "code",
   "execution_count": null,
   "metadata": {},
   "outputs": [],
   "source": []
  },
  {
   "cell_type": "markdown",
   "metadata": {},
   "source": [
    "## Feature Importance"
   ]
  },
  {
   "cell_type": "code",
   "execution_count": null,
   "metadata": {
    "ExecuteTime": {
     "end_time": "2021-08-24T09:58:56.874623Z",
     "start_time": "2021-08-23T21:26:50.467Z"
    }
   },
   "outputs": [],
   "source": [
    "# Plot the feature importance of each feature\n",
    "features = X_train.shape[1]\n",
    "plt.figure(figsize=(20,20))\n",
    "plt.barh(range(features), forest.feature_importances_, align='center')\n",
    "plt.yticks(np.arange(features), X_train.columns.values)\n",
    "plt.title('Feature Importance', fontsize=20)\n",
    "plt.xlabel('Feature importance')\n",
    "plt.ylabel('Features')"
   ]
  },
  {
   "cell_type": "markdown",
   "metadata": {},
   "source": [
    "# XGBoost"
   ]
  },
  {
   "cell_type": "markdown",
   "metadata": {
    "ExecuteTime": {
     "end_time": "2021-08-23T20:49:34.723799Z",
     "start_time": "2021-08-23T20:49:34.710265Z"
    }
   },
   "source": [
    "## Baseline Model"
   ]
  },
  {
   "cell_type": "code",
   "execution_count": null,
   "metadata": {
    "ExecuteTime": {
     "end_time": "2021-08-24T09:58:56.876624Z",
     "start_time": "2021-08-23T21:26:50.475Z"
    }
   },
   "outputs": [],
   "source": [
    "from sklearn.ensemble import GradientBoostingClassifier\n",
    "\n",
    "# Instantiate XGBClassifier and fit classifier\n",
    "xgb = XGBClassifier(random_state=12)\n",
    "xgb.fit(X_train, y_train);\n",
    "\n",
    "metrics = get_metrics(y_test, X_test, xgb)\n",
    "metrics['name'] = 'XG Boost Baseline'\n",
    "models.append(metrics)"
   ]
  },
  {
   "cell_type": "code",
   "execution_count": null,
   "metadata": {
    "ExecuteTime": {
     "end_time": "2021-08-24T09:58:56.877624Z",
     "start_time": "2021-08-23T21:26:50.479Z"
    }
   },
   "outputs": [],
   "source": [
    "print(classification_report(y_train, xgb.predict(X_train))"
   ]
  },
  {
   "cell_type": "code",
   "execution_count": null,
   "metadata": {
    "ExecuteTime": {
     "end_time": "2021-08-24T09:58:56.878626Z",
     "start_time": "2021-08-23T21:26:50.484Z"
    }
   },
   "outputs": [],
   "source": [
    "print(confusion_matrix(y_test, xgb.predict(X_test)))\n",
    "print(classification_report(y_test, xgb.predict(X_test))"
   ]
  },
  {
   "cell_type": "code",
   "execution_count": null,
   "metadata": {},
   "outputs": [],
   "source": []
  },
  {
   "cell_type": "code",
   "execution_count": null,
   "metadata": {},
   "outputs": [],
   "source": []
  },
  {
   "cell_type": "code",
   "execution_count": null,
   "metadata": {},
   "outputs": [],
   "source": []
  },
  {
   "cell_type": "code",
   "execution_count": null,
   "metadata": {},
   "outputs": [],
   "source": []
  },
  {
   "cell_type": "markdown",
   "metadata": {},
   "source": [
    "# Replace target variable classes for visualization"
   ]
  },
  {
   "cell_type": "code",
   "execution_count": 269,
   "metadata": {
    "ExecuteTime": {
     "end_time": "2021-08-24T18:59:59.790393Z",
     "start_time": "2021-08-24T18:59:59.474067Z"
    }
   },
   "outputs": [
    {
     "data": {
      "text/html": [
       "<div>\n",
       "<style scoped>\n",
       "    .dataframe tbody tr th:only-of-type {\n",
       "        vertical-align: middle;\n",
       "    }\n",
       "\n",
       "    .dataframe tbody tr th {\n",
       "        vertical-align: top;\n",
       "    }\n",
       "\n",
       "    .dataframe thead th {\n",
       "        text-align: right;\n",
       "    }\n",
       "</style>\n",
       "<table border=\"1\" class=\"dataframe\">\n",
       "  <thead>\n",
       "    <tr style=\"text-align: right;\">\n",
       "      <th></th>\n",
       "      <th>state</th>\n",
       "      <th>str_id</th>\n",
       "      <th>deck_type</th>\n",
       "      <th>wearing_type</th>\n",
       "      <th>membrane_type</th>\n",
       "      <th>deck_protection</th>\n",
       "      <th>toll</th>\n",
       "      <th>freeze_thaw_cycle</th>\n",
       "      <th>snowfall_days</th>\n",
       "      <th>design_material</th>\n",
       "      <th>...</th>\n",
       "      <th>mnt_respons</th>\n",
       "      <th>yr_reconst</th>\n",
       "      <th>skew</th>\n",
       "      <th>max_span</th>\n",
       "      <th>bridge_width</th>\n",
       "      <th>deck_width</th>\n",
       "      <th>super_st_condition</th>\n",
       "      <th>sub_st_condition</th>\n",
       "      <th>deck_condition</th>\n",
       "      <th>avg_daily_trfic</th>\n",
       "    </tr>\n",
       "  </thead>\n",
       "  <tbody>\n",
       "    <tr>\n",
       "      <th>15</th>\n",
       "      <td>Alabama</td>\n",
       "      <td>012405</td>\n",
       "      <td>2</td>\n",
       "      <td>0</td>\n",
       "      <td>0</td>\n",
       "      <td>0</td>\n",
       "      <td>3</td>\n",
       "      <td>14</td>\n",
       "      <td>0.0</td>\n",
       "      <td>Concrete</td>\n",
       "      <td>...</td>\n",
       "      <td>2</td>\n",
       "      <td>0.0</td>\n",
       "      <td>0.0</td>\n",
       "      <td>24.0</td>\n",
       "      <td>27.9</td>\n",
       "      <td>30.5</td>\n",
       "      <td>6</td>\n",
       "      <td>7</td>\n",
       "      <td>7</td>\n",
       "      <td>235</td>\n",
       "    </tr>\n",
       "    <tr>\n",
       "      <th>16</th>\n",
       "      <td>Alabama</td>\n",
       "      <td>017777</td>\n",
       "      <td>1</td>\n",
       "      <td>0</td>\n",
       "      <td>0</td>\n",
       "      <td>0</td>\n",
       "      <td>3</td>\n",
       "      <td>18</td>\n",
       "      <td>0.0</td>\n",
       "      <td>Prestressed Concrete</td>\n",
       "      <td>...</td>\n",
       "      <td>1</td>\n",
       "      <td>0.0</td>\n",
       "      <td>0.0</td>\n",
       "      <td>69.9</td>\n",
       "      <td>40.0</td>\n",
       "      <td>42.7</td>\n",
       "      <td>8</td>\n",
       "      <td>8</td>\n",
       "      <td>8</td>\n",
       "      <td>1350</td>\n",
       "    </tr>\n",
       "    <tr>\n",
       "      <th>17</th>\n",
       "      <td>Alabama</td>\n",
       "      <td>015077</td>\n",
       "      <td>2</td>\n",
       "      <td>0</td>\n",
       "      <td>0</td>\n",
       "      <td>0</td>\n",
       "      <td>3</td>\n",
       "      <td>18</td>\n",
       "      <td>0.0</td>\n",
       "      <td>Concrete</td>\n",
       "      <td>...</td>\n",
       "      <td>2</td>\n",
       "      <td>0.0</td>\n",
       "      <td>0.0</td>\n",
       "      <td>15.1</td>\n",
       "      <td>25.3</td>\n",
       "      <td>26.9</td>\n",
       "      <td>4</td>\n",
       "      <td>4</td>\n",
       "      <td>5</td>\n",
       "      <td>95</td>\n",
       "    </tr>\n",
       "    <tr>\n",
       "      <th>18</th>\n",
       "      <td>Alabama</td>\n",
       "      <td>017498</td>\n",
       "      <td>1</td>\n",
       "      <td>0</td>\n",
       "      <td>0</td>\n",
       "      <td>0</td>\n",
       "      <td>3</td>\n",
       "      <td>16</td>\n",
       "      <td>1.0</td>\n",
       "      <td>Prestressed Concrete</td>\n",
       "      <td>...</td>\n",
       "      <td>1</td>\n",
       "      <td>0.0</td>\n",
       "      <td>30.0</td>\n",
       "      <td>98.4</td>\n",
       "      <td>39.4</td>\n",
       "      <td>42.0</td>\n",
       "      <td>8</td>\n",
       "      <td>8</td>\n",
       "      <td>8</td>\n",
       "      <td>2460</td>\n",
       "    </tr>\n",
       "    <tr>\n",
       "      <th>19</th>\n",
       "      <td>Alabama</td>\n",
       "      <td>008732</td>\n",
       "      <td>1</td>\n",
       "      <td>0</td>\n",
       "      <td>0</td>\n",
       "      <td>0</td>\n",
       "      <td>3</td>\n",
       "      <td>16</td>\n",
       "      <td>1.0</td>\n",
       "      <td>Steel Continuous</td>\n",
       "      <td>...</td>\n",
       "      <td>2</td>\n",
       "      <td>0.0</td>\n",
       "      <td>0.0</td>\n",
       "      <td>80.1</td>\n",
       "      <td>22.0</td>\n",
       "      <td>25.3</td>\n",
       "      <td>7</td>\n",
       "      <td>7</td>\n",
       "      <td>7</td>\n",
       "      <td>465</td>\n",
       "    </tr>\n",
       "  </tbody>\n",
       "</table>\n",
       "<p>5 rows × 26 columns</p>\n",
       "</div>"
      ],
      "text/plain": [
       "        state           str_id deck_type wearing_type membrane_type  \\\n",
       "15    Alabama  012405                  2            0             0   \n",
       "16    Alabama  017777                  1            0             0   \n",
       "17    Alabama  015077                  2            0             0   \n",
       "18    Alabama  017498                  1            0             0   \n",
       "19    Alabama  008732                  1            0             0   \n",
       "\n",
       "   deck_protection toll  freeze_thaw_cycle  snowfall_days  \\\n",
       "15               0    3                 14            0.0   \n",
       "16               0    3                 18            0.0   \n",
       "17               0    3                 18            0.0   \n",
       "18               0    3                 16            1.0   \n",
       "19               0    3                 16            1.0   \n",
       "\n",
       "         design_material  ...  mnt_respons  yr_reconst  skew  max_span  \\\n",
       "15              Concrete  ...            2         0.0   0.0      24.0   \n",
       "16  Prestressed Concrete  ...            1         0.0   0.0      69.9   \n",
       "17              Concrete  ...            2         0.0   0.0      15.1   \n",
       "18  Prestressed Concrete  ...            1         0.0  30.0      98.4   \n",
       "19      Steel Continuous  ...            2         0.0   0.0      80.1   \n",
       "\n",
       "    bridge_width  deck_width super_st_condition  sub_st_condition  \\\n",
       "15          27.9        30.5                  6                 7   \n",
       "16          40.0        42.7                  8                 8   \n",
       "17          25.3        26.9                  4                 4   \n",
       "18          39.4        42.0                  8                 8   \n",
       "19          22.0        25.3                  7                 7   \n",
       "\n",
       "    deck_condition  avg_daily_trfic  \n",
       "15               7              235  \n",
       "16               8             1350  \n",
       "17               5               95  \n",
       "18               8             2460  \n",
       "19               7              465  \n",
       "\n",
       "[5 rows x 26 columns]"
      ]
     },
     "execution_count": 269,
     "metadata": {},
     "output_type": "execute_result"
    }
   ],
   "source": [
    "# Replace target values - there are three classes\n",
    "df2 = df.replace({'bridge_condition': {'Poor' : 2, \n",
    "                                'Fair' : 1, \n",
    "                                'Good' : 0}})\n",
    "# Check to see that it worked\n",
    "df2.iloc[15:20]"
   ]
  },
  {
   "cell_type": "code",
   "execution_count": 270,
   "metadata": {
    "ExecuteTime": {
     "end_time": "2021-08-24T18:59:59.805557Z",
     "start_time": "2021-08-24T18:59:59.793358Z"
    }
   },
   "outputs": [
    {
     "data": {
      "text/plain": [
       "(449247, 26)"
      ]
     },
     "execution_count": 270,
     "metadata": {},
     "output_type": "execute_result"
    }
   ],
   "source": [
    "df2.shape"
   ]
  },
  {
   "cell_type": "markdown",
   "metadata": {},
   "source": [
    "# Folium Heatmap"
   ]
  },
  {
   "cell_type": "code",
   "execution_count": 271,
   "metadata": {
    "ExecuteTime": {
     "end_time": "2021-08-24T18:59:59.821054Z",
     "start_time": "2021-08-24T18:59:59.808049Z"
    }
   },
   "outputs": [],
   "source": [
    "import folium\n",
    "from folium.plugins import HeatMap"
   ]
  },
  {
   "cell_type": "code",
   "execution_count": 272,
   "metadata": {
    "ExecuteTime": {
     "end_time": "2021-08-24T18:59:59.853046Z",
     "start_time": "2021-08-24T18:59:59.824052Z"
    }
   },
   "outputs": [
    {
     "data": {
      "text/html": [
       "<div style=\"width:100%;\"><div style=\"position:relative;width:100%;height:0;padding-bottom:60%;\"><span style=\"color:#565656\">Make this Notebook Trusted to load map: File -> Trust Notebook</span><iframe src=\"about:blank\" style=\"position:absolute;width:100%;height:100%;left:0;top:0;border:none !important;\" data-html=%3C%21DOCTYPE%20html%3E%0A%3Chead%3E%20%20%20%20%0A%20%20%20%20%3Cmeta%20http-equiv%3D%22content-type%22%20content%3D%22text/html%3B%20charset%3DUTF-8%22%20/%3E%0A%20%20%20%20%0A%20%20%20%20%20%20%20%20%3Cscript%3E%0A%20%20%20%20%20%20%20%20%20%20%20%20L_NO_TOUCH%20%3D%20false%3B%0A%20%20%20%20%20%20%20%20%20%20%20%20L_DISABLE_3D%20%3D%20false%3B%0A%20%20%20%20%20%20%20%20%3C/script%3E%0A%20%20%20%20%0A%20%20%20%20%3Cstyle%3Ehtml%2C%20body%20%7Bwidth%3A%20100%25%3Bheight%3A%20100%25%3Bmargin%3A%200%3Bpadding%3A%200%3B%7D%3C/style%3E%0A%20%20%20%20%3Cstyle%3E%23map%20%7Bposition%3Aabsolute%3Btop%3A0%3Bbottom%3A0%3Bright%3A0%3Bleft%3A0%3B%7D%3C/style%3E%0A%20%20%20%20%3Cscript%20src%3D%22https%3A//cdn.jsdelivr.net/npm/leaflet%401.6.0/dist/leaflet.js%22%3E%3C/script%3E%0A%20%20%20%20%3Cscript%20src%3D%22https%3A//code.jquery.com/jquery-1.12.4.min.js%22%3E%3C/script%3E%0A%20%20%20%20%3Cscript%20src%3D%22https%3A//maxcdn.bootstrapcdn.com/bootstrap/3.2.0/js/bootstrap.min.js%22%3E%3C/script%3E%0A%20%20%20%20%3Cscript%20src%3D%22https%3A//cdnjs.cloudflare.com/ajax/libs/Leaflet.awesome-markers/2.0.2/leaflet.awesome-markers.js%22%3E%3C/script%3E%0A%20%20%20%20%3Clink%20rel%3D%22stylesheet%22%20href%3D%22https%3A//cdn.jsdelivr.net/npm/leaflet%401.6.0/dist/leaflet.css%22/%3E%0A%20%20%20%20%3Clink%20rel%3D%22stylesheet%22%20href%3D%22https%3A//maxcdn.bootstrapcdn.com/bootstrap/3.2.0/css/bootstrap.min.css%22/%3E%0A%20%20%20%20%3Clink%20rel%3D%22stylesheet%22%20href%3D%22https%3A//maxcdn.bootstrapcdn.com/bootstrap/3.2.0/css/bootstrap-theme.min.css%22/%3E%0A%20%20%20%20%3Clink%20rel%3D%22stylesheet%22%20href%3D%22https%3A//maxcdn.bootstrapcdn.com/font-awesome/4.6.3/css/font-awesome.min.css%22/%3E%0A%20%20%20%20%3Clink%20rel%3D%22stylesheet%22%20href%3D%22https%3A//cdnjs.cloudflare.com/ajax/libs/Leaflet.awesome-markers/2.0.2/leaflet.awesome-markers.css%22/%3E%0A%20%20%20%20%3Clink%20rel%3D%22stylesheet%22%20href%3D%22https%3A//cdn.jsdelivr.net/gh/python-visualization/folium/folium/templates/leaflet.awesome.rotate.min.css%22/%3E%0A%20%20%20%20%0A%20%20%20%20%20%20%20%20%20%20%20%20%3Cmeta%20name%3D%22viewport%22%20content%3D%22width%3Ddevice-width%2C%0A%20%20%20%20%20%20%20%20%20%20%20%20%20%20%20%20initial-scale%3D1.0%2C%20maximum-scale%3D1.0%2C%20user-scalable%3Dno%22%20/%3E%0A%20%20%20%20%20%20%20%20%20%20%20%20%3Cstyle%3E%0A%20%20%20%20%20%20%20%20%20%20%20%20%20%20%20%20%23map_4e240ab413364196b4689587792cb21a%20%7B%0A%20%20%20%20%20%20%20%20%20%20%20%20%20%20%20%20%20%20%20%20position%3A%20relative%3B%0A%20%20%20%20%20%20%20%20%20%20%20%20%20%20%20%20%20%20%20%20width%3A%20100.0%25%3B%0A%20%20%20%20%20%20%20%20%20%20%20%20%20%20%20%20%20%20%20%20height%3A%20100.0%25%3B%0A%20%20%20%20%20%20%20%20%20%20%20%20%20%20%20%20%20%20%20%20left%3A%200.0%25%3B%0A%20%20%20%20%20%20%20%20%20%20%20%20%20%20%20%20%20%20%20%20top%3A%200.0%25%3B%0A%20%20%20%20%20%20%20%20%20%20%20%20%20%20%20%20%7D%0A%20%20%20%20%20%20%20%20%20%20%20%20%3C/style%3E%0A%20%20%20%20%20%20%20%20%0A%3C/head%3E%0A%3Cbody%3E%20%20%20%20%0A%20%20%20%20%0A%20%20%20%20%20%20%20%20%20%20%20%20%3Cdiv%20class%3D%22folium-map%22%20id%3D%22map_4e240ab413364196b4689587792cb21a%22%20%3E%3C/div%3E%0A%20%20%20%20%20%20%20%20%0A%3C/body%3E%0A%3Cscript%3E%20%20%20%20%0A%20%20%20%20%0A%20%20%20%20%20%20%20%20%20%20%20%20var%20map_4e240ab413364196b4689587792cb21a%20%3D%20L.map%28%0A%20%20%20%20%20%20%20%20%20%20%20%20%20%20%20%20%22map_4e240ab413364196b4689587792cb21a%22%2C%0A%20%20%20%20%20%20%20%20%20%20%20%20%20%20%20%20%7B%0A%20%20%20%20%20%20%20%20%20%20%20%20%20%20%20%20%20%20%20%20center%3A%20%5B40.0%2C%20-100.0%5D%2C%0A%20%20%20%20%20%20%20%20%20%20%20%20%20%20%20%20%20%20%20%20crs%3A%20L.CRS.EPSG3857%2C%0A%20%20%20%20%20%20%20%20%20%20%20%20%20%20%20%20%20%20%20%20zoom%3A%204%2C%0A%20%20%20%20%20%20%20%20%20%20%20%20%20%20%20%20%20%20%20%20zoomControl%3A%20true%2C%0A%20%20%20%20%20%20%20%20%20%20%20%20%20%20%20%20%20%20%20%20preferCanvas%3A%20false%2C%0A%20%20%20%20%20%20%20%20%20%20%20%20%20%20%20%20%7D%0A%20%20%20%20%20%20%20%20%20%20%20%20%29%3B%0A%0A%20%20%20%20%20%20%20%20%20%20%20%20%0A%0A%20%20%20%20%20%20%20%20%0A%20%20%20%20%0A%20%20%20%20%20%20%20%20%20%20%20%20var%20tile_layer_e988e17dc94540e9a3959fceb59380e3%20%3D%20L.tileLayer%28%0A%20%20%20%20%20%20%20%20%20%20%20%20%20%20%20%20%22https%3A//%7Bs%7D.tile.openstreetmap.org/%7Bz%7D/%7Bx%7D/%7By%7D.png%22%2C%0A%20%20%20%20%20%20%20%20%20%20%20%20%20%20%20%20%7B%22attribution%22%3A%20%22Data%20by%20%5Cu0026copy%3B%20%5Cu003ca%20href%3D%5C%22http%3A//openstreetmap.org%5C%22%5Cu003eOpenStreetMap%5Cu003c/a%5Cu003e%2C%20under%20%5Cu003ca%20href%3D%5C%22http%3A//www.openstreetmap.org/copyright%5C%22%5Cu003eODbL%5Cu003c/a%5Cu003e.%22%2C%20%22detectRetina%22%3A%20false%2C%20%22maxNativeZoom%22%3A%2018%2C%20%22maxZoom%22%3A%2018%2C%20%22minZoom%22%3A%200%2C%20%22noWrap%22%3A%20false%2C%20%22opacity%22%3A%201%2C%20%22subdomains%22%3A%20%22abc%22%2C%20%22tms%22%3A%20false%7D%0A%20%20%20%20%20%20%20%20%20%20%20%20%29.addTo%28map_4e240ab413364196b4689587792cb21a%29%3B%0A%20%20%20%20%20%20%20%20%0A%3C/script%3E onload=\"this.contentDocument.open();this.contentDocument.write(    decodeURIComponent(this.getAttribute('data-html')));this.contentDocument.close();\" allowfullscreen webkitallowfullscreen mozallowfullscreen></iframe></div></div>"
      ],
      "text/plain": [
       "<folium.folium.Map at 0x1bc62b94af0>"
      ]
     },
     "execution_count": 272,
     "metadata": {},
     "output_type": "execute_result"
    }
   ],
   "source": [
    "# Make an empty map\n",
    "m = folium.Map(location=[40,-100], tiles=\"OpenStreetMap\", zoom_start=4)\n",
    "\n",
    "# Show the map\n",
    "m"
   ]
  },
  {
   "cell_type": "markdown",
   "metadata": {},
   "source": [
    "## By state"
   ]
  },
  {
   "cell_type": "code",
   "execution_count": 273,
   "metadata": {
    "ExecuteTime": {
     "end_time": "2021-08-24T19:00:00.233190Z",
     "start_time": "2021-08-24T18:59:59.856046Z"
    }
   },
   "outputs": [
    {
     "data": {
      "text/plain": [
       "[[33.09661, -86.74834, 1.0],\n",
       " [58.5283, -141.7663, 1.0],\n",
       " [33.4615, -111.8915, 1.0],\n",
       " [35.03358, -92.40456, 1.0],\n",
       " [36.952525, -120.4348, 1.0],\n",
       " [39.593424999999996, -104.96245, 1.0],\n",
       " [41.548935, -72.83402000000001, 1.0],\n",
       " [39.54512, -75.58498, 1.0],\n",
       " [38.89221, -77.01194, 1.0],\n",
       " [28.005175, -81.62861, 0.0],\n",
       " [33.293075, -84.02780499999999, 0.0],\n",
       " [21.346980000000002, -157.85860000000002, 1.0],\n",
       " [43.72611, -115.2483, 1.0],\n",
       " [40.14952, -88.97870999999998, 1.0],\n",
       " [39.84178, -86.23210999999998, 1.0],\n",
       " [42.00395, -93.37977, 1.0],\n",
       " [38.666375, -97.07948, 1.0],\n",
       " [37.54556, -84.987915, 1.0],\n",
       " [30.805290000000007, -92.10703, 1.0],\n",
       " [44.4529, -69.89683, 1.0],\n",
       " [39.29557, -76.79378, 1.0],\n",
       " [42.31571, -71.42721999999998, 1.0],\n",
       " [42.90053, -84.388155, 1.0],\n",
       " [44.94503, -93.5272, 1.0],\n",
       " [32.6692, -89.56505, 0.0],\n",
       " [38.77680500000001, -92.97318, 1.0],\n",
       " [46.847895, -111.32645, 1.0],\n",
       " [41.1696, -97.43025, 1.0],\n",
       " [39.048564999999996, -115.3283, 1.0],\n",
       " [43.38644, -71.6404, 0.0],\n",
       " [40.56518, -74.45581, 1.0],\n",
       " [35.12619, -106.5821, 1.0],\n",
       " [42.45493, -75.2774, 1.0],\n",
       " [35.62194, -80.1211, 1.0],\n",
       " [47.30943, -98.43736, 1.0],\n",
       " [40.33834, -82.93514, 0.0],\n",
       " [35.55021, -97.33588, 1.0],\n",
       " [44.52498500000001, -122.85475, 1.0],\n",
       " [40.49823, -76.9785, 1.0],\n",
       " [41.792564999999996, -71.45461, 1.0],\n",
       " [34.217420000000004, -81.0996, 1.0],\n",
       " [44.06559, -98.12487, 1.0],\n",
       " [35.870515, -86.76557, 1.0],\n",
       " [31.285005, -96.97506000000001, 1.0],\n",
       " [40.207505, -111.85425000000001, 1.0],\n",
       " [43.977615, -72.66396499999999, 0.0],\n",
       " [37.35218, -78.56649, 1.0],\n",
       " [47.23756, -121.98485, 0.0],\n",
       " [38.56128, -81.07081, 1.0],\n",
       " [44.085, -89.80521, 0.0],\n",
       " [42.87272, -106.6973, 1.0],\n",
       " [37.2804, -91.9494, 1.0],\n",
       " [47.1845, -121.0049, 2.0],\n",
       " [33.32018, -87.83158, 0.0],\n",
       " [33.85479, -118.2816, 0.0],\n",
       " [43.1959, -84.85083, 1.0]]"
      ]
     },
     "execution_count": 273,
     "metadata": {},
     "output_type": "execute_result"
    }
   ],
   "source": [
    "data = df2.groupby('state').median()[['latitude', 'longitude', 'bridge_condition']].values.tolist()\n",
    "data"
   ]
  },
  {
   "cell_type": "code",
   "execution_count": 274,
   "metadata": {
    "ExecuteTime": {
     "end_time": "2021-08-24T19:00:00.249048Z",
     "start_time": "2021-08-24T19:00:00.235047Z"
    }
   },
   "outputs": [
    {
     "data": {
      "text/plain": [
       "<folium.plugins.heat_map.HeatMap at 0x1bc62c54c40>"
      ]
     },
     "execution_count": 274,
     "metadata": {},
     "output_type": "execute_result"
    }
   ],
   "source": [
    "# gradient = {0: 'red', 1: 'brown', 2: 'green'}\n",
    "HeatMap(data = data).add_to(m)"
   ]
  },
  {
   "cell_type": "code",
   "execution_count": 275,
   "metadata": {
    "ExecuteTime": {
     "end_time": "2021-08-24T19:00:00.280047Z",
     "start_time": "2021-08-24T19:00:00.252048Z"
    }
   },
   "outputs": [
    {
     "data": {
      "text/html": [
       "<div style=\"width:100%;\"><div style=\"position:relative;width:100%;height:0;padding-bottom:60%;\"><span style=\"color:#565656\">Make this Notebook Trusted to load map: File -> Trust Notebook</span><iframe src=\"about:blank\" style=\"position:absolute;width:100%;height:100%;left:0;top:0;border:none !important;\" data-html=%3C%21DOCTYPE%20html%3E%0A%3Chead%3E%20%20%20%20%0A%20%20%20%20%3Cmeta%20http-equiv%3D%22content-type%22%20content%3D%22text/html%3B%20charset%3DUTF-8%22%20/%3E%0A%20%20%20%20%0A%20%20%20%20%20%20%20%20%3Cscript%3E%0A%20%20%20%20%20%20%20%20%20%20%20%20L_NO_TOUCH%20%3D%20false%3B%0A%20%20%20%20%20%20%20%20%20%20%20%20L_DISABLE_3D%20%3D%20false%3B%0A%20%20%20%20%20%20%20%20%3C/script%3E%0A%20%20%20%20%0A%20%20%20%20%3Cstyle%3Ehtml%2C%20body%20%7Bwidth%3A%20100%25%3Bheight%3A%20100%25%3Bmargin%3A%200%3Bpadding%3A%200%3B%7D%3C/style%3E%0A%20%20%20%20%3Cstyle%3E%23map%20%7Bposition%3Aabsolute%3Btop%3A0%3Bbottom%3A0%3Bright%3A0%3Bleft%3A0%3B%7D%3C/style%3E%0A%20%20%20%20%3Cscript%20src%3D%22https%3A//cdn.jsdelivr.net/npm/leaflet%401.6.0/dist/leaflet.js%22%3E%3C/script%3E%0A%20%20%20%20%3Cscript%20src%3D%22https%3A//code.jquery.com/jquery-1.12.4.min.js%22%3E%3C/script%3E%0A%20%20%20%20%3Cscript%20src%3D%22https%3A//maxcdn.bootstrapcdn.com/bootstrap/3.2.0/js/bootstrap.min.js%22%3E%3C/script%3E%0A%20%20%20%20%3Cscript%20src%3D%22https%3A//cdnjs.cloudflare.com/ajax/libs/Leaflet.awesome-markers/2.0.2/leaflet.awesome-markers.js%22%3E%3C/script%3E%0A%20%20%20%20%3Clink%20rel%3D%22stylesheet%22%20href%3D%22https%3A//cdn.jsdelivr.net/npm/leaflet%401.6.0/dist/leaflet.css%22/%3E%0A%20%20%20%20%3Clink%20rel%3D%22stylesheet%22%20href%3D%22https%3A//maxcdn.bootstrapcdn.com/bootstrap/3.2.0/css/bootstrap.min.css%22/%3E%0A%20%20%20%20%3Clink%20rel%3D%22stylesheet%22%20href%3D%22https%3A//maxcdn.bootstrapcdn.com/bootstrap/3.2.0/css/bootstrap-theme.min.css%22/%3E%0A%20%20%20%20%3Clink%20rel%3D%22stylesheet%22%20href%3D%22https%3A//maxcdn.bootstrapcdn.com/font-awesome/4.6.3/css/font-awesome.min.css%22/%3E%0A%20%20%20%20%3Clink%20rel%3D%22stylesheet%22%20href%3D%22https%3A//cdnjs.cloudflare.com/ajax/libs/Leaflet.awesome-markers/2.0.2/leaflet.awesome-markers.css%22/%3E%0A%20%20%20%20%3Clink%20rel%3D%22stylesheet%22%20href%3D%22https%3A//cdn.jsdelivr.net/gh/python-visualization/folium/folium/templates/leaflet.awesome.rotate.min.css%22/%3E%0A%20%20%20%20%0A%20%20%20%20%20%20%20%20%20%20%20%20%3Cmeta%20name%3D%22viewport%22%20content%3D%22width%3Ddevice-width%2C%0A%20%20%20%20%20%20%20%20%20%20%20%20%20%20%20%20initial-scale%3D1.0%2C%20maximum-scale%3D1.0%2C%20user-scalable%3Dno%22%20/%3E%0A%20%20%20%20%20%20%20%20%20%20%20%20%3Cstyle%3E%0A%20%20%20%20%20%20%20%20%20%20%20%20%20%20%20%20%23map_4e240ab413364196b4689587792cb21a%20%7B%0A%20%20%20%20%20%20%20%20%20%20%20%20%20%20%20%20%20%20%20%20position%3A%20relative%3B%0A%20%20%20%20%20%20%20%20%20%20%20%20%20%20%20%20%20%20%20%20width%3A%20100.0%25%3B%0A%20%20%20%20%20%20%20%20%20%20%20%20%20%20%20%20%20%20%20%20height%3A%20100.0%25%3B%0A%20%20%20%20%20%20%20%20%20%20%20%20%20%20%20%20%20%20%20%20left%3A%200.0%25%3B%0A%20%20%20%20%20%20%20%20%20%20%20%20%20%20%20%20%20%20%20%20top%3A%200.0%25%3B%0A%20%20%20%20%20%20%20%20%20%20%20%20%20%20%20%20%7D%0A%20%20%20%20%20%20%20%20%20%20%20%20%3C/style%3E%0A%20%20%20%20%20%20%20%20%0A%20%20%20%20%3Cscript%20src%3D%22https%3A//cdn.jsdelivr.net/gh/python-visualization/folium%40master/folium/templates/leaflet_heat.min.js%22%3E%3C/script%3E%0A%3C/head%3E%0A%3Cbody%3E%20%20%20%20%0A%20%20%20%20%0A%20%20%20%20%20%20%20%20%20%20%20%20%3Cdiv%20class%3D%22folium-map%22%20id%3D%22map_4e240ab413364196b4689587792cb21a%22%20%3E%3C/div%3E%0A%20%20%20%20%20%20%20%20%0A%3C/body%3E%0A%3Cscript%3E%20%20%20%20%0A%20%20%20%20%0A%20%20%20%20%20%20%20%20%20%20%20%20var%20map_4e240ab413364196b4689587792cb21a%20%3D%20L.map%28%0A%20%20%20%20%20%20%20%20%20%20%20%20%20%20%20%20%22map_4e240ab413364196b4689587792cb21a%22%2C%0A%20%20%20%20%20%20%20%20%20%20%20%20%20%20%20%20%7B%0A%20%20%20%20%20%20%20%20%20%20%20%20%20%20%20%20%20%20%20%20center%3A%20%5B40.0%2C%20-100.0%5D%2C%0A%20%20%20%20%20%20%20%20%20%20%20%20%20%20%20%20%20%20%20%20crs%3A%20L.CRS.EPSG3857%2C%0A%20%20%20%20%20%20%20%20%20%20%20%20%20%20%20%20%20%20%20%20zoom%3A%204%2C%0A%20%20%20%20%20%20%20%20%20%20%20%20%20%20%20%20%20%20%20%20zoomControl%3A%20true%2C%0A%20%20%20%20%20%20%20%20%20%20%20%20%20%20%20%20%20%20%20%20preferCanvas%3A%20false%2C%0A%20%20%20%20%20%20%20%20%20%20%20%20%20%20%20%20%7D%0A%20%20%20%20%20%20%20%20%20%20%20%20%29%3B%0A%0A%20%20%20%20%20%20%20%20%20%20%20%20%0A%0A%20%20%20%20%20%20%20%20%0A%20%20%20%20%0A%20%20%20%20%20%20%20%20%20%20%20%20var%20tile_layer_e988e17dc94540e9a3959fceb59380e3%20%3D%20L.tileLayer%28%0A%20%20%20%20%20%20%20%20%20%20%20%20%20%20%20%20%22https%3A//%7Bs%7D.tile.openstreetmap.org/%7Bz%7D/%7Bx%7D/%7By%7D.png%22%2C%0A%20%20%20%20%20%20%20%20%20%20%20%20%20%20%20%20%7B%22attribution%22%3A%20%22Data%20by%20%5Cu0026copy%3B%20%5Cu003ca%20href%3D%5C%22http%3A//openstreetmap.org%5C%22%5Cu003eOpenStreetMap%5Cu003c/a%5Cu003e%2C%20under%20%5Cu003ca%20href%3D%5C%22http%3A//www.openstreetmap.org/copyright%5C%22%5Cu003eODbL%5Cu003c/a%5Cu003e.%22%2C%20%22detectRetina%22%3A%20false%2C%20%22maxNativeZoom%22%3A%2018%2C%20%22maxZoom%22%3A%2018%2C%20%22minZoom%22%3A%200%2C%20%22noWrap%22%3A%20false%2C%20%22opacity%22%3A%201%2C%20%22subdomains%22%3A%20%22abc%22%2C%20%22tms%22%3A%20false%7D%0A%20%20%20%20%20%20%20%20%20%20%20%20%29.addTo%28map_4e240ab413364196b4689587792cb21a%29%3B%0A%20%20%20%20%20%20%20%20%0A%20%20%20%20%0A%20%20%20%20%20%20%20%20%20%20%20%20var%20heat_map_4f88cf8632f5425295efd6943c19d9d3%20%3D%20L.heatLayer%28%0A%20%20%20%20%20%20%20%20%20%20%20%20%20%20%20%20%5B%5B33.09661%2C%20-86.74834%2C%201.0%5D%2C%20%5B58.5283%2C%20-141.7663%2C%201.0%5D%2C%20%5B33.4615%2C%20-111.8915%2C%201.0%5D%2C%20%5B35.03358%2C%20-92.40456%2C%201.0%5D%2C%20%5B36.952525%2C%20-120.4348%2C%201.0%5D%2C%20%5B39.593424999999996%2C%20-104.96245%2C%201.0%5D%2C%20%5B41.548935%2C%20-72.83402000000001%2C%201.0%5D%2C%20%5B39.54512%2C%20-75.58498%2C%201.0%5D%2C%20%5B38.89221%2C%20-77.01194%2C%201.0%5D%2C%20%5B28.005175%2C%20-81.62861%2C%200.0%5D%2C%20%5B33.293075%2C%20-84.02780499999999%2C%200.0%5D%2C%20%5B21.346980000000002%2C%20-157.85860000000002%2C%201.0%5D%2C%20%5B43.72611%2C%20-115.2483%2C%201.0%5D%2C%20%5B40.14952%2C%20-88.97870999999998%2C%201.0%5D%2C%20%5B39.84178%2C%20-86.23210999999998%2C%201.0%5D%2C%20%5B42.00395%2C%20-93.37977%2C%201.0%5D%2C%20%5B38.666375%2C%20-97.07948%2C%201.0%5D%2C%20%5B37.54556%2C%20-84.987915%2C%201.0%5D%2C%20%5B30.805290000000007%2C%20-92.10703%2C%201.0%5D%2C%20%5B44.4529%2C%20-69.89683%2C%201.0%5D%2C%20%5B39.29557%2C%20-76.79378%2C%201.0%5D%2C%20%5B42.31571%2C%20-71.42721999999998%2C%201.0%5D%2C%20%5B42.90053%2C%20-84.388155%2C%201.0%5D%2C%20%5B44.94503%2C%20-93.5272%2C%201.0%5D%2C%20%5B32.6692%2C%20-89.56505%2C%200.0%5D%2C%20%5B38.77680500000001%2C%20-92.97318%2C%201.0%5D%2C%20%5B46.847895%2C%20-111.32645%2C%201.0%5D%2C%20%5B41.1696%2C%20-97.43025%2C%201.0%5D%2C%20%5B39.048564999999996%2C%20-115.3283%2C%201.0%5D%2C%20%5B43.38644%2C%20-71.6404%2C%200.0%5D%2C%20%5B40.56518%2C%20-74.45581%2C%201.0%5D%2C%20%5B35.12619%2C%20-106.5821%2C%201.0%5D%2C%20%5B42.45493%2C%20-75.2774%2C%201.0%5D%2C%20%5B35.62194%2C%20-80.1211%2C%201.0%5D%2C%20%5B47.30943%2C%20-98.43736%2C%201.0%5D%2C%20%5B40.33834%2C%20-82.93514%2C%200.0%5D%2C%20%5B35.55021%2C%20-97.33588%2C%201.0%5D%2C%20%5B44.52498500000001%2C%20-122.85475%2C%201.0%5D%2C%20%5B40.49823%2C%20-76.9785%2C%201.0%5D%2C%20%5B41.792564999999996%2C%20-71.45461%2C%201.0%5D%2C%20%5B34.217420000000004%2C%20-81.0996%2C%201.0%5D%2C%20%5B44.06559%2C%20-98.12487%2C%201.0%5D%2C%20%5B35.870515%2C%20-86.76557%2C%201.0%5D%2C%20%5B31.285005%2C%20-96.97506000000001%2C%201.0%5D%2C%20%5B40.207505%2C%20-111.85425000000001%2C%201.0%5D%2C%20%5B43.977615%2C%20-72.66396499999999%2C%200.0%5D%2C%20%5B37.35218%2C%20-78.56649%2C%201.0%5D%2C%20%5B47.23756%2C%20-121.98485%2C%200.0%5D%2C%20%5B38.56128%2C%20-81.07081%2C%201.0%5D%2C%20%5B44.085%2C%20-89.80521%2C%200.0%5D%2C%20%5B42.87272%2C%20-106.6973%2C%201.0%5D%2C%20%5B37.2804%2C%20-91.9494%2C%201.0%5D%2C%20%5B47.1845%2C%20-121.0049%2C%202.0%5D%2C%20%5B33.32018%2C%20-87.83158%2C%200.0%5D%2C%20%5B33.85479%2C%20-118.2816%2C%200.0%5D%2C%20%5B43.1959%2C%20-84.85083%2C%201.0%5D%5D%2C%0A%20%20%20%20%20%20%20%20%20%20%20%20%20%20%20%20%7B%22blur%22%3A%2015%2C%20%22maxZoom%22%3A%2018%2C%20%22minOpacity%22%3A%200.5%2C%20%22radius%22%3A%2025%7D%0A%20%20%20%20%20%20%20%20%20%20%20%20%29.addTo%28map_4e240ab413364196b4689587792cb21a%29%3B%0A%20%20%20%20%20%20%20%20%0A%3C/script%3E onload=\"this.contentDocument.open();this.contentDocument.write(    decodeURIComponent(this.getAttribute('data-html')));this.contentDocument.close();\" allowfullscreen webkitallowfullscreen mozallowfullscreen></iframe></div></div>"
      ],
      "text/plain": [
       "<folium.folium.Map at 0x1bc62b94af0>"
      ]
     },
     "metadata": {},
     "output_type": "display_data"
    }
   ],
   "source": [
    "display(m)"
   ]
  },
  {
   "cell_type": "markdown",
   "metadata": {},
   "source": [
    "## By Sub-structure condition"
   ]
  },
  {
   "cell_type": "code",
   "execution_count": 276,
   "metadata": {
    "ExecuteTime": {
     "end_time": "2021-08-24T19:00:00.311066Z",
     "start_time": "2021-08-24T19:00:00.283049Z"
    }
   },
   "outputs": [],
   "source": [
    "# Make an empty map\n",
    "m = folium.Map(location=[40,-100], tiles=\"OpenStreetMap\", zoom_start=4)\n",
    "\n",
    "#show the map\n",
    "# m"
   ]
  },
  {
   "cell_type": "code",
   "execution_count": 277,
   "metadata": {
    "ExecuteTime": {
     "end_time": "2021-08-24T19:00:00.721050Z",
     "start_time": "2021-08-24T19:00:00.313047Z"
    }
   },
   "outputs": [],
   "source": [
    "\n",
    "data1 = df2.groupby('sub_st_condition').median()[['latitude', 'longitude', 'bridge_condition']].values.tolist()"
   ]
  },
  {
   "cell_type": "code",
   "execution_count": 278,
   "metadata": {
    "ExecuteTime": {
     "end_time": "2021-08-24T19:00:00.737047Z",
     "start_time": "2021-08-24T19:00:00.725050Z"
    },
    "scrolled": false
   },
   "outputs": [
    {
     "data": {
      "text/html": [
       "<div style=\"width:100%;\"><div style=\"position:relative;width:100%;height:0;padding-bottom:60%;\"><span style=\"color:#565656\">Make this Notebook Trusted to load map: File -> Trust Notebook</span><iframe src=\"about:blank\" style=\"position:absolute;width:100%;height:100%;left:0;top:0;border:none !important;\" data-html=%3C%21DOCTYPE%20html%3E%0A%3Chead%3E%20%20%20%20%0A%20%20%20%20%3Cmeta%20http-equiv%3D%22content-type%22%20content%3D%22text/html%3B%20charset%3DUTF-8%22%20/%3E%0A%20%20%20%20%0A%20%20%20%20%20%20%20%20%3Cscript%3E%0A%20%20%20%20%20%20%20%20%20%20%20%20L_NO_TOUCH%20%3D%20false%3B%0A%20%20%20%20%20%20%20%20%20%20%20%20L_DISABLE_3D%20%3D%20false%3B%0A%20%20%20%20%20%20%20%20%3C/script%3E%0A%20%20%20%20%0A%20%20%20%20%3Cstyle%3Ehtml%2C%20body%20%7Bwidth%3A%20100%25%3Bheight%3A%20100%25%3Bmargin%3A%200%3Bpadding%3A%200%3B%7D%3C/style%3E%0A%20%20%20%20%3Cstyle%3E%23map%20%7Bposition%3Aabsolute%3Btop%3A0%3Bbottom%3A0%3Bright%3A0%3Bleft%3A0%3B%7D%3C/style%3E%0A%20%20%20%20%3Cscript%20src%3D%22https%3A//cdn.jsdelivr.net/npm/leaflet%401.6.0/dist/leaflet.js%22%3E%3C/script%3E%0A%20%20%20%20%3Cscript%20src%3D%22https%3A//code.jquery.com/jquery-1.12.4.min.js%22%3E%3C/script%3E%0A%20%20%20%20%3Cscript%20src%3D%22https%3A//maxcdn.bootstrapcdn.com/bootstrap/3.2.0/js/bootstrap.min.js%22%3E%3C/script%3E%0A%20%20%20%20%3Cscript%20src%3D%22https%3A//cdnjs.cloudflare.com/ajax/libs/Leaflet.awesome-markers/2.0.2/leaflet.awesome-markers.js%22%3E%3C/script%3E%0A%20%20%20%20%3Clink%20rel%3D%22stylesheet%22%20href%3D%22https%3A//cdn.jsdelivr.net/npm/leaflet%401.6.0/dist/leaflet.css%22/%3E%0A%20%20%20%20%3Clink%20rel%3D%22stylesheet%22%20href%3D%22https%3A//maxcdn.bootstrapcdn.com/bootstrap/3.2.0/css/bootstrap.min.css%22/%3E%0A%20%20%20%20%3Clink%20rel%3D%22stylesheet%22%20href%3D%22https%3A//maxcdn.bootstrapcdn.com/bootstrap/3.2.0/css/bootstrap-theme.min.css%22/%3E%0A%20%20%20%20%3Clink%20rel%3D%22stylesheet%22%20href%3D%22https%3A//maxcdn.bootstrapcdn.com/font-awesome/4.6.3/css/font-awesome.min.css%22/%3E%0A%20%20%20%20%3Clink%20rel%3D%22stylesheet%22%20href%3D%22https%3A//cdnjs.cloudflare.com/ajax/libs/Leaflet.awesome-markers/2.0.2/leaflet.awesome-markers.css%22/%3E%0A%20%20%20%20%3Clink%20rel%3D%22stylesheet%22%20href%3D%22https%3A//cdn.jsdelivr.net/gh/python-visualization/folium/folium/templates/leaflet.awesome.rotate.min.css%22/%3E%0A%20%20%20%20%0A%20%20%20%20%20%20%20%20%20%20%20%20%3Cmeta%20name%3D%22viewport%22%20content%3D%22width%3Ddevice-width%2C%0A%20%20%20%20%20%20%20%20%20%20%20%20%20%20%20%20initial-scale%3D1.0%2C%20maximum-scale%3D1.0%2C%20user-scalable%3Dno%22%20/%3E%0A%20%20%20%20%20%20%20%20%20%20%20%20%3Cstyle%3E%0A%20%20%20%20%20%20%20%20%20%20%20%20%20%20%20%20%23map_f8b15aeb245b45ee854f0061be0dbb4b%20%7B%0A%20%20%20%20%20%20%20%20%20%20%20%20%20%20%20%20%20%20%20%20position%3A%20relative%3B%0A%20%20%20%20%20%20%20%20%20%20%20%20%20%20%20%20%20%20%20%20width%3A%20100.0%25%3B%0A%20%20%20%20%20%20%20%20%20%20%20%20%20%20%20%20%20%20%20%20height%3A%20100.0%25%3B%0A%20%20%20%20%20%20%20%20%20%20%20%20%20%20%20%20%20%20%20%20left%3A%200.0%25%3B%0A%20%20%20%20%20%20%20%20%20%20%20%20%20%20%20%20%20%20%20%20top%3A%200.0%25%3B%0A%20%20%20%20%20%20%20%20%20%20%20%20%20%20%20%20%7D%0A%20%20%20%20%20%20%20%20%20%20%20%20%3C/style%3E%0A%20%20%20%20%20%20%20%20%0A%20%20%20%20%3Cscript%20src%3D%22https%3A//cdn.jsdelivr.net/gh/python-visualization/folium%40master/folium/templates/leaflet_heat.min.js%22%3E%3C/script%3E%0A%3C/head%3E%0A%3Cbody%3E%20%20%20%20%0A%20%20%20%20%0A%20%20%20%20%20%20%20%20%20%20%20%20%3Cdiv%20class%3D%22folium-map%22%20id%3D%22map_f8b15aeb245b45ee854f0061be0dbb4b%22%20%3E%3C/div%3E%0A%20%20%20%20%20%20%20%20%0A%3C/body%3E%0A%3Cscript%3E%20%20%20%20%0A%20%20%20%20%0A%20%20%20%20%20%20%20%20%20%20%20%20var%20map_f8b15aeb245b45ee854f0061be0dbb4b%20%3D%20L.map%28%0A%20%20%20%20%20%20%20%20%20%20%20%20%20%20%20%20%22map_f8b15aeb245b45ee854f0061be0dbb4b%22%2C%0A%20%20%20%20%20%20%20%20%20%20%20%20%20%20%20%20%7B%0A%20%20%20%20%20%20%20%20%20%20%20%20%20%20%20%20%20%20%20%20center%3A%20%5B40.0%2C%20-100.0%5D%2C%0A%20%20%20%20%20%20%20%20%20%20%20%20%20%20%20%20%20%20%20%20crs%3A%20L.CRS.EPSG3857%2C%0A%20%20%20%20%20%20%20%20%20%20%20%20%20%20%20%20%20%20%20%20zoom%3A%204%2C%0A%20%20%20%20%20%20%20%20%20%20%20%20%20%20%20%20%20%20%20%20zoomControl%3A%20true%2C%0A%20%20%20%20%20%20%20%20%20%20%20%20%20%20%20%20%20%20%20%20preferCanvas%3A%20false%2C%0A%20%20%20%20%20%20%20%20%20%20%20%20%20%20%20%20%7D%0A%20%20%20%20%20%20%20%20%20%20%20%20%29%3B%0A%0A%20%20%20%20%20%20%20%20%20%20%20%20%0A%0A%20%20%20%20%20%20%20%20%0A%20%20%20%20%0A%20%20%20%20%20%20%20%20%20%20%20%20var%20tile_layer_8873698d4f884c1385a29125809dd030%20%3D%20L.tileLayer%28%0A%20%20%20%20%20%20%20%20%20%20%20%20%20%20%20%20%22https%3A//%7Bs%7D.tile.openstreetmap.org/%7Bz%7D/%7Bx%7D/%7By%7D.png%22%2C%0A%20%20%20%20%20%20%20%20%20%20%20%20%20%20%20%20%7B%22attribution%22%3A%20%22Data%20by%20%5Cu0026copy%3B%20%5Cu003ca%20href%3D%5C%22http%3A//openstreetmap.org%5C%22%5Cu003eOpenStreetMap%5Cu003c/a%5Cu003e%2C%20under%20%5Cu003ca%20href%3D%5C%22http%3A//www.openstreetmap.org/copyright%5C%22%5Cu003eODbL%5Cu003c/a%5Cu003e.%22%2C%20%22detectRetina%22%3A%20false%2C%20%22maxNativeZoom%22%3A%2018%2C%20%22maxZoom%22%3A%2018%2C%20%22minZoom%22%3A%200%2C%20%22noWrap%22%3A%20false%2C%20%22opacity%22%3A%201%2C%20%22subdomains%22%3A%20%22abc%22%2C%20%22tms%22%3A%20false%7D%0A%20%20%20%20%20%20%20%20%20%20%20%20%29.addTo%28map_f8b15aeb245b45ee854f0061be0dbb4b%29%3B%0A%20%20%20%20%20%20%20%20%0A%20%20%20%20%0A%20%20%20%20%20%20%20%20%20%20%20%20var%20heat_map_dfa17ae8acef4df3bb3e7001029c59f8%20%3D%20L.heatLayer%28%0A%20%20%20%20%20%20%20%20%20%20%20%20%20%20%20%20%5B%5B39.44348000000001%2C%20-93.54324500000001%2C%202.0%5D%2C%20%5B34.39464%2C%20-89.94358000000003%2C%202.0%5D%2C%20%5B36.912510000000005%2C%20-90.95603%2C%202.0%5D%2C%20%5B40.60328%2C%20-93.12395%2C%202.0%5D%2C%20%5B39.856030000000004%2C%20-91.466665%2C%202.0%5D%2C%20%5B39.23361%2C%20-89.45773%2C%201.0%5D%2C%20%5B38.98371%2C%20-89.37201999999998%2C%201.0%5D%2C%20%5B38.235145%2C%20-90.730175%2C%200.0%5D%2C%20%5B39.550495%2C%20-89.290345%2C%200.0%5D%2C%20%5B40.41869000000001%2C%20-84.79373000000002%2C%200.0%5D%5D%2C%0A%20%20%20%20%20%20%20%20%20%20%20%20%20%20%20%20%7B%22blur%22%3A%2015%2C%20%22maxZoom%22%3A%2018%2C%20%22minOpacity%22%3A%200.5%2C%20%22radius%22%3A%2025%7D%0A%20%20%20%20%20%20%20%20%20%20%20%20%29.addTo%28map_f8b15aeb245b45ee854f0061be0dbb4b%29%3B%0A%20%20%20%20%20%20%20%20%0A%3C/script%3E onload=\"this.contentDocument.open();this.contentDocument.write(    decodeURIComponent(this.getAttribute('data-html')));this.contentDocument.close();\" allowfullscreen webkitallowfullscreen mozallowfullscreen></iframe></div></div>"
      ],
      "text/plain": [
       "<folium.folium.Map at 0x1bc6f918670>"
      ]
     },
     "metadata": {},
     "output_type": "display_data"
    }
   ],
   "source": [
    "# gradient = {0: 'red', 1: 'brown', 2: 'green'}\n",
    "\n",
    "HeatMap(data = data1).add_to(m)\n",
    "display(m)"
   ]
  },
  {
   "cell_type": "markdown",
   "metadata": {},
   "source": [
    "## By snowfall days"
   ]
  },
  {
   "cell_type": "code",
   "execution_count": 279,
   "metadata": {
    "ExecuteTime": {
     "end_time": "2021-08-24T19:00:00.767740Z",
     "start_time": "2021-08-24T19:00:00.741661Z"
    }
   },
   "outputs": [],
   "source": [
    "# Make an empty map\n",
    "m = folium.Map(location=[40,-100], tiles=\"OpenStreetMap\", zoom_start=4)\n",
    "\n",
    "#show the map\n",
    "# m"
   ]
  },
  {
   "cell_type": "code",
   "execution_count": 280,
   "metadata": {
    "ExecuteTime": {
     "end_time": "2021-08-24T19:00:01.176724Z",
     "start_time": "2021-08-24T19:00:00.770742Z"
    }
   },
   "outputs": [],
   "source": [
    "\n",
    "data2 = df2.groupby('snowfall_days').median()[['latitude', 'longitude', 'bridge_condition']].values.tolist()\n",
    "# data2"
   ]
  },
  {
   "cell_type": "code",
   "execution_count": 281,
   "metadata": {
    "ExecuteTime": {
     "end_time": "2021-08-24T19:00:01.208720Z",
     "start_time": "2021-08-24T19:00:01.178721Z"
    }
   },
   "outputs": [
    {
     "data": {
      "text/html": [
       "<div style=\"width:100%;\"><div style=\"position:relative;width:100%;height:0;padding-bottom:60%;\"><span style=\"color:#565656\">Make this Notebook Trusted to load map: File -> Trust Notebook</span><iframe src=\"about:blank\" style=\"position:absolute;width:100%;height:100%;left:0;top:0;border:none !important;\" data-html=%3C%21DOCTYPE%20html%3E%0A%3Chead%3E%20%20%20%20%0A%20%20%20%20%3Cmeta%20http-equiv%3D%22content-type%22%20content%3D%22text/html%3B%20charset%3DUTF-8%22%20/%3E%0A%20%20%20%20%0A%20%20%20%20%20%20%20%20%3Cscript%3E%0A%20%20%20%20%20%20%20%20%20%20%20%20L_NO_TOUCH%20%3D%20false%3B%0A%20%20%20%20%20%20%20%20%20%20%20%20L_DISABLE_3D%20%3D%20false%3B%0A%20%20%20%20%20%20%20%20%3C/script%3E%0A%20%20%20%20%0A%20%20%20%20%3Cstyle%3Ehtml%2C%20body%20%7Bwidth%3A%20100%25%3Bheight%3A%20100%25%3Bmargin%3A%200%3Bpadding%3A%200%3B%7D%3C/style%3E%0A%20%20%20%20%3Cstyle%3E%23map%20%7Bposition%3Aabsolute%3Btop%3A0%3Bbottom%3A0%3Bright%3A0%3Bleft%3A0%3B%7D%3C/style%3E%0A%20%20%20%20%3Cscript%20src%3D%22https%3A//cdn.jsdelivr.net/npm/leaflet%401.6.0/dist/leaflet.js%22%3E%3C/script%3E%0A%20%20%20%20%3Cscript%20src%3D%22https%3A//code.jquery.com/jquery-1.12.4.min.js%22%3E%3C/script%3E%0A%20%20%20%20%3Cscript%20src%3D%22https%3A//maxcdn.bootstrapcdn.com/bootstrap/3.2.0/js/bootstrap.min.js%22%3E%3C/script%3E%0A%20%20%20%20%3Cscript%20src%3D%22https%3A//cdnjs.cloudflare.com/ajax/libs/Leaflet.awesome-markers/2.0.2/leaflet.awesome-markers.js%22%3E%3C/script%3E%0A%20%20%20%20%3Clink%20rel%3D%22stylesheet%22%20href%3D%22https%3A//cdn.jsdelivr.net/npm/leaflet%401.6.0/dist/leaflet.css%22/%3E%0A%20%20%20%20%3Clink%20rel%3D%22stylesheet%22%20href%3D%22https%3A//maxcdn.bootstrapcdn.com/bootstrap/3.2.0/css/bootstrap.min.css%22/%3E%0A%20%20%20%20%3Clink%20rel%3D%22stylesheet%22%20href%3D%22https%3A//maxcdn.bootstrapcdn.com/bootstrap/3.2.0/css/bootstrap-theme.min.css%22/%3E%0A%20%20%20%20%3Clink%20rel%3D%22stylesheet%22%20href%3D%22https%3A//maxcdn.bootstrapcdn.com/font-awesome/4.6.3/css/font-awesome.min.css%22/%3E%0A%20%20%20%20%3Clink%20rel%3D%22stylesheet%22%20href%3D%22https%3A//cdnjs.cloudflare.com/ajax/libs/Leaflet.awesome-markers/2.0.2/leaflet.awesome-markers.css%22/%3E%0A%20%20%20%20%3Clink%20rel%3D%22stylesheet%22%20href%3D%22https%3A//cdn.jsdelivr.net/gh/python-visualization/folium/folium/templates/leaflet.awesome.rotate.min.css%22/%3E%0A%20%20%20%20%0A%20%20%20%20%20%20%20%20%20%20%20%20%3Cmeta%20name%3D%22viewport%22%20content%3D%22width%3Ddevice-width%2C%0A%20%20%20%20%20%20%20%20%20%20%20%20%20%20%20%20initial-scale%3D1.0%2C%20maximum-scale%3D1.0%2C%20user-scalable%3Dno%22%20/%3E%0A%20%20%20%20%20%20%20%20%20%20%20%20%3Cstyle%3E%0A%20%20%20%20%20%20%20%20%20%20%20%20%20%20%20%20%23map_8d86d4cab59e42c58257cae10a450e00%20%7B%0A%20%20%20%20%20%20%20%20%20%20%20%20%20%20%20%20%20%20%20%20position%3A%20relative%3B%0A%20%20%20%20%20%20%20%20%20%20%20%20%20%20%20%20%20%20%20%20width%3A%20100.0%25%3B%0A%20%20%20%20%20%20%20%20%20%20%20%20%20%20%20%20%20%20%20%20height%3A%20100.0%25%3B%0A%20%20%20%20%20%20%20%20%20%20%20%20%20%20%20%20%20%20%20%20left%3A%200.0%25%3B%0A%20%20%20%20%20%20%20%20%20%20%20%20%20%20%20%20%20%20%20%20top%3A%200.0%25%3B%0A%20%20%20%20%20%20%20%20%20%20%20%20%20%20%20%20%7D%0A%20%20%20%20%20%20%20%20%20%20%20%20%3C/style%3E%0A%20%20%20%20%20%20%20%20%0A%20%20%20%20%3Cscript%20src%3D%22https%3A//cdn.jsdelivr.net/gh/python-visualization/folium%40master/folium/templates/leaflet_heat.min.js%22%3E%3C/script%3E%0A%3C/head%3E%0A%3Cbody%3E%20%20%20%20%0A%20%20%20%20%0A%20%20%20%20%20%20%20%20%20%20%20%20%3Cdiv%20class%3D%22folium-map%22%20id%3D%22map_8d86d4cab59e42c58257cae10a450e00%22%20%3E%3C/div%3E%0A%20%20%20%20%20%20%20%20%0A%3C/body%3E%0A%3Cscript%3E%20%20%20%20%0A%20%20%20%20%0A%20%20%20%20%20%20%20%20%20%20%20%20var%20map_8d86d4cab59e42c58257cae10a450e00%20%3D%20L.map%28%0A%20%20%20%20%20%20%20%20%20%20%20%20%20%20%20%20%22map_8d86d4cab59e42c58257cae10a450e00%22%2C%0A%20%20%20%20%20%20%20%20%20%20%20%20%20%20%20%20%7B%0A%20%20%20%20%20%20%20%20%20%20%20%20%20%20%20%20%20%20%20%20center%3A%20%5B40.0%2C%20-100.0%5D%2C%0A%20%20%20%20%20%20%20%20%20%20%20%20%20%20%20%20%20%20%20%20crs%3A%20L.CRS.EPSG3857%2C%0A%20%20%20%20%20%20%20%20%20%20%20%20%20%20%20%20%20%20%20%20zoom%3A%204%2C%0A%20%20%20%20%20%20%20%20%20%20%20%20%20%20%20%20%20%20%20%20zoomControl%3A%20true%2C%0A%20%20%20%20%20%20%20%20%20%20%20%20%20%20%20%20%20%20%20%20preferCanvas%3A%20false%2C%0A%20%20%20%20%20%20%20%20%20%20%20%20%20%20%20%20%7D%0A%20%20%20%20%20%20%20%20%20%20%20%20%29%3B%0A%0A%20%20%20%20%20%20%20%20%20%20%20%20%0A%0A%20%20%20%20%20%20%20%20%0A%20%20%20%20%0A%20%20%20%20%20%20%20%20%20%20%20%20var%20tile_layer_904c0d2fed9d445d9aa487b6e5433ce5%20%3D%20L.tileLayer%28%0A%20%20%20%20%20%20%20%20%20%20%20%20%20%20%20%20%22https%3A//%7Bs%7D.tile.openstreetmap.org/%7Bz%7D/%7Bx%7D/%7By%7D.png%22%2C%0A%20%20%20%20%20%20%20%20%20%20%20%20%20%20%20%20%7B%22attribution%22%3A%20%22Data%20by%20%5Cu0026copy%3B%20%5Cu003ca%20href%3D%5C%22http%3A//openstreetmap.org%5C%22%5Cu003eOpenStreetMap%5Cu003c/a%5Cu003e%2C%20under%20%5Cu003ca%20href%3D%5C%22http%3A//www.openstreetmap.org/copyright%5C%22%5Cu003eODbL%5Cu003c/a%5Cu003e.%22%2C%20%22detectRetina%22%3A%20false%2C%20%22maxNativeZoom%22%3A%2018%2C%20%22maxZoom%22%3A%2018%2C%20%22minZoom%22%3A%200%2C%20%22noWrap%22%3A%20false%2C%20%22opacity%22%3A%201%2C%20%22subdomains%22%3A%20%22abc%22%2C%20%22tms%22%3A%20false%7D%0A%20%20%20%20%20%20%20%20%20%20%20%20%29.addTo%28map_8d86d4cab59e42c58257cae10a450e00%29%3B%0A%20%20%20%20%20%20%20%20%0A%20%20%20%20%0A%20%20%20%20%20%20%20%20%20%20%20%20var%20heat_map_582b69804610408c9e806dbf90a0fd23%20%3D%20L.heatLayer%28%0A%20%20%20%20%20%20%20%20%20%20%20%20%20%20%20%20%5B%5B30.63881%2C%20-90.81406%2C%200.0%5D%2C%20%5B33.04719%2C%20-95.36093%2C%201.0%5D%2C%20%5B33.198980000000006%2C%20-93.671305%2C%201.0%5D%2C%20%5B34.27863%2C%20-84.36114%2C%201.0%5D%2C%20%5B33.851389999999995%2C%20-85.919365%2C%201.0%5D%2C%20%5B33.345595%2C%20-96.61499%2C%201.0%5D%2C%20%5B35.34074%2C%20-82.83183500000001%2C%201.0%5D%2C%20%5B34.24051%2C%20-91.92175%2C%201.0%5D%2C%20%5B34.51514%2C%20-90.00081%2C%201.0%5D%2C%20%5B35.275065%2C%20-89.11854%2C%201.0%5D%2C%20%5B36.072665%2C%20-81.70811499999999%2C%201.0%5D%2C%20%5B34.87177%2C%20-95.22339%2C%201.0%5D%2C%20%5B37.84558%2C%20-78.86967999999999%2C%201.0%5D%2C%20%5B36.14595%2C%20-86.87258%2C%201.0%5D%2C%20%5B35.67145%2C%20-82.78633%2C%201.0%5D%2C%20%5B36.76722%2C%20-87.79916%2C%201.0%5D%2C%20%5B37.237355%2C%20-86.89346499999999%2C%201.0%5D%2C%20%5B35.50043%2C%20-96.19371%2C%201.0%5D%2C%20%5B37.74%2C%20-86.84028%2C%201.0%5D%2C%20%5B36.17726%2C%20-95.4647%2C%201.0%5D%2C%20%5B36.816365%2C%20-93.39385%2C%201.0%5D%2C%20%5B35.98252%2C%20-93.625205%2C%201.0%5D%2C%20%5B38.11407%2C%20-87.55053000000002%2C%201.0%5D%2C%20%5B37.630275%2C%20-99.32341%2C%201.0%5D%2C%20%5B36.32337%2C%20-89.6069%2C%201.0%5D%2C%20%5B38.131524999999996%2C%20-86.259605%2C%201.0%5D%2C%20%5B36.709585%2C%20-85.32014000000001%2C%201.0%5D%2C%20%5B36.83445%2C%20-97.211%2C%201.0%5D%2C%20%5B37.081045%2C%20-89.34676%2C%201.0%5D%2C%20%5B38.308615%2C%20-84.06736000000001%2C%201.0%5D%2C%20%5B38.09917%2C%20-86.98235%2C%201.0%5D%2C%20%5B38.33167%2C%20-88.92844000000002%2C%201.0%5D%2C%20%5B37.95195%2C%20-84.53861%2C%201.0%5D%2C%20%5B38.78611%2C%20-91.94263%2C%201.0%5D%2C%20%5B38.56391%2C%20-83.28027%2C%201.0%5D%2C%20%5B38.082935000000006%2C%20-89.86437999999998%2C%201.0%5D%2C%20%5B38.60548%2C%20-93.67461%2C%200.0%5D%2C%20%5B39.354780000000005%2C%20-85.95788499999999%2C%201.0%5D%2C%20%5B39.02029%2C%20-91.94733%2C%201.0%5D%2C%20%5B39.36899%2C%20-84.65335999999998%2C%201.0%5D%2C%20%5B39.007665%2C%20-83.26625%2C%201.0%5D%2C%20%5B39.062815%2C%20-90.89021%2C%201.0%5D%2C%20%5B39.834885%2C%20-84.358405%2C%201.0%5D%2C%20%5B39.5034%2C%20-86.49824%2C%201.0%5D%2C%20%5B39.51%2C%20-96.88472%2C%201.0%5D%2C%20%5B39.908505%2C%20-86.61210000000001%2C%201.0%5D%2C%20%5B39.76605%2C%20-90.18176%2C%201.0%5D%2C%20%5B39.140820000000005%2C%20-98.78887%2C%201.0%5D%2C%20%5B40.1183%2C%20-88.36962%2C%201.0%5D%2C%20%5B40.0%2C%20-97.53757%2C%201.0%5D%2C%20%5B40.026395%2C%20-86.82161500000002%2C%201.0%5D%2C%20%5B41.881895%2C%20-98.66405%2C%201.0%5D%2C%20%5B40.465%2C%20-95.9614%2C%201.0%5D%2C%20%5B40.5474%2C%20-96.6399%2C%201.0%5D%2C%20%5B40.48167%2C%20-85.58586%2C%201.0%5D%2C%20%5B40.827325%2C%20-88.89819%2C%201.0%5D%2C%20%5B40.957655%2C%20-84.517595%2C%200.0%5D%2C%20%5B40.53914%2C%20-91.02539%2C%201.0%5D%2C%20%5B41.2197%2C%20-96.7317%2C%201.0%5D%2C%20%5B40.894535000000005%2C%20-88.25%2C%201.0%5D%2C%20%5B40.890485%2C%20-87.17099000000002%2C%201.0%5D%2C%20%5B41.503025%2C%20-88.05098000000001%2C%201.0%5D%2C%20%5B41.09172%2C%20-91.59932%2C%201.0%5D%2C%20%5B41.3206%2C%20-96.2075%2C%201.0%5D%2C%20%5B41.615930000000006%2C%20-92.774865%2C%201.0%5D%2C%20%5B41.42383%2C%20-93.07717%2C%201.0%5D%2C%20%5B40.74013%2C%20-81.27025%2C%201.0%5D%2C%20%5B41.56612%2C%20-95.00717%2C%201.0%5D%2C%20%5B41.29422%2C%20-92.84631%2C%201.0%5D%2C%20%5B41.875%2C%20-91.0217%2C%201.0%5D%2C%20%5B41.83065%2C%20-90.695195%2C%201.0%5D%2C%20%5B41.19523000000001%2C%20-81.38911999999999%2C%201.0%5D%2C%20%5B42.347425%2C%20-95.459575%2C%201.0%5D%2C%20%5B41.97197%2C%20-94.02805%2C%201.0%5D%2C%20%5B42.339335%2C%20-93.80563000000001%2C%201.0%5D%2C%20%5B42.41035%2C%20-81.40012%2C%201.0%5D%2C%20%5B42.62963%2C%20-89.45307%2C%201.0%5D%2C%20%5B42.997434999999996%2C%20-85.123565%2C%201.0%5D%2C%20%5B44.26435%2C%20-96.62886%2C%201.0%5D%2C%20%5B42.725595%2C%20-90.50351%2C%201.0%5D%2C%20%5B42.7466%2C%20-83.30673%2C%201.0%5D%2C%20%5B43.008300000000006%2C%20-88.03768500000001%2C%201.0%5D%2C%20%5B42.4882%2C%20-83.68345%2C%201.0%5D%2C%20%5B43.51855%2C%20-94.92225%2C%201.0%5D%2C%20%5B43.11295%2C%20-89.38342%2C%201.0%5D%2C%20%5B43.132705%2C%20-89.922485%2C%201.0%5D%2C%20%5B42.91156%2C%20-88.01874000000002%2C%201.0%5D%2C%20%5B46.6398%2C%20-103.8533%2C%201.0%5D%2C%20%5B43.95854%2C%20-93.1069%2C%201.0%5D%2C%20%5B43.226735000000005%2C%20-92.08916500000001%2C%201.0%5D%2C%20%5B43.653075%2C%20-92.50643500000001%2C%201.0%5D%2C%20%5B43.54256%2C%20-86.40602%2C%201.0%5D%2C%20%5B44.18415%2C%20-91.91303%2C%201.0%5D%2C%20%5B42.81535%2C%20-78.7752%2C%201.0%5D%2C%20%5B43.92933000000001%2C%20-91.62102999999999%2C%201.0%5D%2C%20%5B43.496635000000005%2C%20-90.63930500000001%2C%201.0%5D%2C%20%5B43.41935%2C%20-92.41923%2C%201.0%5D%2C%20%5B43.05726%2C%20-74.589965%2C%201.0%5D%2C%20%5B42.46906%2C%20-77.75610999999998%2C%201.0%5D%2C%20%5B44.3273%2C%20-88.80083%2C%201.0%5D%2C%20%5B47.10060000000001%2C%20-116.83305%2C%201.0%5D%2C%20%5B43.62318%2C%20-94.22658%2C%201.0%5D%2C%20%5B43.789105%2C%20-78.72208%2C%201.0%5D%2C%20%5B44.56802%2C%20-90.51714%2C%201.0%5D%2C%20%5B43.799130000000005%2C%20-79.45885999999999%2C%201.0%5D%2C%20%5B44.165945%2C%20-90.119245%2C%201.0%5D%2C%20%5B42.28314%2C%20-78.286305%2C%201.0%5D%2C%20%5B42.246365%2C%20-77.305095%2C%201.0%5D%2C%20%5B44.37294%2C%20-75.43964%2C%201.0%5D%2C%20%5B45.38661%2C%20-106.6312%2C%201.0%5D%2C%20%5B45.10463%2C%20-89.615955%2C%200.0%5D%2C%20%5B45.19794%2C%20-94.6436%2C%201.0%5D%2C%20%5B44.926455%2C%20-91.206775%2C%201.0%5D%2C%20%5B43.65156%2C%20-114.25715%2C%201.0%5D%2C%20%5B46.47591%2C%20-95.54396%2C%201.0%5D%2C%20%5B44.4441%2C%20-89.9743%2C%201.0%5D%2C%20%5B45.35134%2C%20-104.10065%2C%201.0%5D%2C%20%5B45.469944999999996%2C%20-95.063425%2C%200.0%5D%2C%20%5B44.671395000000004%2C%20-106.2715%2C%201.0%5D%2C%20%5B44.90108%2C%20-85.83831500000002%2C%201.0%5D%2C%20%5B47.95175%2C%20-122.0534%2C%201.0%5D%2C%20%5B45.91587%2C%20-92.57278%2C%201.0%5D%2C%20%5B46.10224%2C%20-94.85516%2C%201.0%5D%2C%20%5B44.20107%2C%20-91.22906%2C%201.0%5D%2C%20%5B47.51622%2C%20-95.46945%2C%201.0%5D%2C%20%5B46.764225%2C%20-107.33145%2C%201.0%5D%2C%20%5B45.659980000000004%2C%20-95.37695%2C%201.0%5D%2C%20%5B44.18755%2C%20-72.66019%2C%201.0%5D%2C%20%5B45.769014999999996%2C%20-117.8306%2C%201.0%5D%2C%20%5B47.400945%2C%20-94.67751%2C%201.0%5D%2C%20%5B45.88207%2C%20-109.9576%2C%201.0%5D%2C%20%5B46.260895%2C%20-93.091065%2C%201.0%5D%2C%20%5B44.03062%2C%20-73.62661999999997%2C%201.0%5D%2C%20%5B44.66249000000001%2C%20-73.90801%2C%201.0%5D%2C%20%5B46.681645%2C%20-116.208%2C%201.0%5D%2C%20%5B44.51834%2C%20-72.03569%2C%200.0%5D%2C%20%5B45.5509%2C%20-89.70378%2C%201.0%5D%2C%20%5B45.48001%2C%20-86.92883999999998%2C%201.0%5D%2C%20%5B48.235305%2C%20-116.50035%2C%201.0%5D%2C%20%5B46.743595%2C%20-111.73065%2C%201.0%5D%2C%20%5B44.91191%2C%20-116.1407%2C%201.0%5D%2C%20%5B47.29557%2C%20-115.0702%2C%201.0%5D%2C%20%5B48.40319%2C%20-106.2324%2C%201.0%5D%2C%20%5B45.87630000000001%2C%20-105.45365%2C%201.0%5D%2C%20%5B46.93333%2C%20-121.0523%2C%201.0%5D%2C%20%5B48.25303%2C%20-116.565%2C%201.0%5D%2C%20%5B45.33671%2C%20-87.20260999999998%2C%201.0%5D%2C%20%5B48.038035%2C%20-115.54065%2C%201.0%5D%2C%20%5B45.83372%2C%20-106.8891%2C%201.0%5D%2C%20%5B45.7315%2C%20-115.9028%2C%200.0%5D%2C%20%5B46.9804%2C%20-114.1454%2C%201.0%5D%2C%20%5B46.25301%2C%20-112.2502%2C%201.0%5D%2C%20%5B45.67956%2C%20-111.0108%2C%201.0%5D%2C%20%5B40.43364%2C%20-106.8485%2C%201.0%5D%2C%20%5B47.06053%2C%20-115.4951%2C%201.0%5D%2C%20%5B46.60517%2C%20-112.0212%2C%201.0%5D%2C%20%5B46.850685%2C%20-109.84065000000001%2C%201.0%5D%2C%20%5B45.1222%2C%20-117.3379%2C%201.0%5D%2C%20%5B47.533605%2C%20-120.60329999999999%2C%201.0%5D%2C%20%5B46.26995%2C%20-106.5161%2C%201.0%5D%2C%20%5B48.14926%2C%20-114.28965%2C%201.0%5D%2C%20%5B44.43056%2C%20-115.6586%2C%200.0%5D%2C%20%5B41.1553%2C%20-110.57974999999999%2C%201.0%5D%2C%20%5B44.93864%2C%20-114.7641%2C%201.0%5D%2C%20%5B61.7615%2C%20-149.4432%2C%202.0%5D%2C%20%5B45.18493500000001%2C%20-114.21905000000001%2C%201.0%5D%2C%20%5B64.09027%2C%20-145.78879999999998%2C%200.5%5D%2C%20%5B47.021355%2C%20-114.4568%2C%201.0%5D%2C%20%5B61.428305%2C%20-149.31105%2C%201.0%5D%2C%20%5B48.49467%2C%20-121.3343%2C%201.0%5D%2C%20%5B45.052885%2C%20-115.2416%2C%200.5%5D%2C%20%5B64.3331%2C%20-158.7374%2C%200.0%5D%2C%20%5B47.822125%2C%20-121.05914999999999%2C%201.0%5D%2C%20%5B47.42856%2C%20-121.0703%2C%201.0%5D%2C%20%5B46.06807%2C%20-113.1187%2C%201.0%5D%2C%20%5B46.87996%2C%20-113.9097%2C%201.0%5D%2C%20%5B48.94367%2C%20-115.8685%2C%201.0%5D%2C%20%5B65.410485%2C%20-145.65145%2C%200.5%5D%2C%20%5B60.818650000000005%2C%20-148.89960000000002%2C%201.0%5D%2C%20%5B45.65338%2C%20-114.319%2C%201.0%5D%2C%20%5B46.45028%2C%20-114.1479%2C%200.0%5D%2C%20%5B43.47139%2C%20-110.7339%2C%201.0%5D%2C%20%5B44.777465%2C%20-111.5814%2C%201.0%5D%2C%20%5B48.342815%2C%20-113.0075%2C%201.0%5D%2C%20%5B44.71559%2C%20-111.4489%2C%201.0%5D%2C%20%5B48.910520000000005%2C%20-116.19685000000001%2C%201.0%5D%2C%20%5B44.11887%2C%20-110.88155%2C%201.0%5D%2C%20%5B64.0695%2C%20-141.8496%2C%201.0%5D%2C%20%5B46.034135%2C%20-113.74155%2C%200.0%5D%2C%20%5B45.17646%2C%20-109.63579999999999%2C%201.0%5D%2C%20%5B45.369625%2C%20-113.46455%2C%201.0%5D%2C%20%5B45.57799%2C%20-113.0691%2C%201.0%5D%2C%20%5B48.816289999999995%2C%20-113.63315%2C%201.0%5D%2C%20%5B45.59659500000001%2C%20-110.1203%2C%201.0%5D%2C%20%5B45.82275%2C%20-112.9004%2C%201.0%5D%2C%20%5B47.428470000000004%2C%20-113.71000000000001%2C%201.0%5D%2C%20%5B47.981629999999996%2C%20-113.75645%2C%201.0%5D%2C%20%5B44.4618%2C%20-109.8589%2C%200.5%5D%2C%20%5B48.70957%2C%20-114.001%2C%201.0%5D%2C%20%5B63.60878%2C%20-149.4739%2C%201.0%5D%2C%20%5B48.84004%2C%20-114.387%2C%201.0%5D%2C%20%5B62.00443%2C%20-145.3756%2C%201.0%5D%2C%20%5B61.988249999999994%2C%20-146.94670000000002%2C%201.0%5D%2C%20%5B63.1698%2C%20-145.5325%2C%201.0%5D%2C%20%5B45.02149%2C%20-110.7268%2C%201.0%5D%2C%20%5B59.41263000000001%2C%20-135.9995%2C%200.0%5D%2C%20%5B56.92592%2C%20-132.7737%2C%201.0%5D%2C%20%5B44.98533%2C%20-110.0822%2C%201.0%5D%2C%20%5B59.51226%2C%20-135.5575%2C%201.0%5D%2C%20%5B63.38726%2C%20-143.7536%2C%201.0%5D%2C%20%5B61.08416999999999%2C%20-146.2369%2C%200.0%5D%2C%20%5B68.14312%2C%20-151.7333%2C%200.0%5D%2C%20%5B61.65539%2C%20-149.0358%2C%201.0%5D%2C%20%5B61.32444%2C%20-145.2758%2C%200.0%5D%2C%20%5B61.80278000000001%2C%20-147.6844%2C%200.0%5D%2C%20%5B62.809005%2C%20-143.7467%2C%200.0%5D%2C%20%5B68.21484%2C%20-149.537%2C%201.0%5D%2C%20%5B61.093335%2C%20-145.8785%2C%201.0%5D%2C%20%5B58.33111%2C%20-134.50799999999998%2C%201.0%5D%2C%20%5B63.45736000000001%2C%20-145.85434999999998%2C%201.0%5D%2C%20%5B61.45528%2C%20-143.7639%2C%201.0%5D%2C%20%5B61.429405%2C%20-143.11845%2C%200.0%5D%2C%20%5B63.4915%2C%20-149.77415%2C%201.0%5D%2C%20%5B62.88942%2C%20-149.7642%2C%201.0%5D%2C%20%5B61.6225%2C%20-144.5472%2C%201.0%5D%2C%20%5B63.51600000000001%2C%20-150.9098%2C%200.0%5D%2C%20%5B61.95195%2C%20-145.3075%2C%201.0%5D%5D%2C%0A%20%20%20%20%20%20%20%20%20%20%20%20%20%20%20%20%7B%22blur%22%3A%2015%2C%20%22maxZoom%22%3A%2018%2C%20%22minOpacity%22%3A%200.5%2C%20%22radius%22%3A%2025%7D%0A%20%20%20%20%20%20%20%20%20%20%20%20%29.addTo%28map_8d86d4cab59e42c58257cae10a450e00%29%3B%0A%20%20%20%20%20%20%20%20%0A%3C/script%3E onload=\"this.contentDocument.open();this.contentDocument.write(    decodeURIComponent(this.getAttribute('data-html')));this.contentDocument.close();\" allowfullscreen webkitallowfullscreen mozallowfullscreen></iframe></div></div>"
      ],
      "text/plain": [
       "<folium.folium.Map at 0x1bc63479430>"
      ]
     },
     "metadata": {},
     "output_type": "display_data"
    }
   ],
   "source": [
    "# gradient = {0: 'red', 1.0: 'brown', 2.0: 'green'}\n",
    "\n",
    "HeatMap(data = data2).add_to(m)\n",
    "display(m)"
   ]
  },
  {
   "cell_type": "markdown",
   "metadata": {},
   "source": [
    "## By age of bridge"
   ]
  },
  {
   "cell_type": "code",
   "execution_count": null,
   "metadata": {},
   "outputs": [],
   "source": []
  },
  {
   "cell_type": "code",
   "execution_count": 282,
   "metadata": {
    "ExecuteTime": {
     "end_time": "2021-08-24T19:00:01.239722Z",
     "start_time": "2021-08-24T19:00:01.212723Z"
    }
   },
   "outputs": [],
   "source": [
    "# Make an empty map\n",
    "m = folium.Map(location=[40,-100], tiles=\"OpenStreetMap\", zoom_start=4)\n",
    "\n",
    "#show the map\n",
    "# m"
   ]
  },
  {
   "cell_type": "code",
   "execution_count": 283,
   "metadata": {
    "ExecuteTime": {
     "end_time": "2021-08-24T19:00:01.681725Z",
     "start_time": "2021-08-24T19:00:01.242725Z"
    }
   },
   "outputs": [],
   "source": [
    "\n",
    "data3 = df2.groupby('bridge_age').median()[['latitude', 'longitude', 'bridge_condition']].values.tolist()"
   ]
  },
  {
   "cell_type": "code",
   "execution_count": 284,
   "metadata": {
    "ExecuteTime": {
     "end_time": "2021-08-24T19:00:01.713913Z",
     "start_time": "2021-08-24T19:00:01.684722Z"
    }
   },
   "outputs": [
    {
     "data": {
      "text/html": [
       "<div style=\"width:100%;\"><div style=\"position:relative;width:100%;height:0;padding-bottom:60%;\"><span style=\"color:#565656\">Make this Notebook Trusted to load map: File -> Trust Notebook</span><iframe src=\"about:blank\" style=\"position:absolute;width:100%;height:100%;left:0;top:0;border:none !important;\" data-html=%3C%21DOCTYPE%20html%3E%0A%3Chead%3E%20%20%20%20%0A%20%20%20%20%3Cmeta%20http-equiv%3D%22content-type%22%20content%3D%22text/html%3B%20charset%3DUTF-8%22%20/%3E%0A%20%20%20%20%0A%20%20%20%20%20%20%20%20%3Cscript%3E%0A%20%20%20%20%20%20%20%20%20%20%20%20L_NO_TOUCH%20%3D%20false%3B%0A%20%20%20%20%20%20%20%20%20%20%20%20L_DISABLE_3D%20%3D%20false%3B%0A%20%20%20%20%20%20%20%20%3C/script%3E%0A%20%20%20%20%0A%20%20%20%20%3Cstyle%3Ehtml%2C%20body%20%7Bwidth%3A%20100%25%3Bheight%3A%20100%25%3Bmargin%3A%200%3Bpadding%3A%200%3B%7D%3C/style%3E%0A%20%20%20%20%3Cstyle%3E%23map%20%7Bposition%3Aabsolute%3Btop%3A0%3Bbottom%3A0%3Bright%3A0%3Bleft%3A0%3B%7D%3C/style%3E%0A%20%20%20%20%3Cscript%20src%3D%22https%3A//cdn.jsdelivr.net/npm/leaflet%401.6.0/dist/leaflet.js%22%3E%3C/script%3E%0A%20%20%20%20%3Cscript%20src%3D%22https%3A//code.jquery.com/jquery-1.12.4.min.js%22%3E%3C/script%3E%0A%20%20%20%20%3Cscript%20src%3D%22https%3A//maxcdn.bootstrapcdn.com/bootstrap/3.2.0/js/bootstrap.min.js%22%3E%3C/script%3E%0A%20%20%20%20%3Cscript%20src%3D%22https%3A//cdnjs.cloudflare.com/ajax/libs/Leaflet.awesome-markers/2.0.2/leaflet.awesome-markers.js%22%3E%3C/script%3E%0A%20%20%20%20%3Clink%20rel%3D%22stylesheet%22%20href%3D%22https%3A//cdn.jsdelivr.net/npm/leaflet%401.6.0/dist/leaflet.css%22/%3E%0A%20%20%20%20%3Clink%20rel%3D%22stylesheet%22%20href%3D%22https%3A//maxcdn.bootstrapcdn.com/bootstrap/3.2.0/css/bootstrap.min.css%22/%3E%0A%20%20%20%20%3Clink%20rel%3D%22stylesheet%22%20href%3D%22https%3A//maxcdn.bootstrapcdn.com/bootstrap/3.2.0/css/bootstrap-theme.min.css%22/%3E%0A%20%20%20%20%3Clink%20rel%3D%22stylesheet%22%20href%3D%22https%3A//maxcdn.bootstrapcdn.com/font-awesome/4.6.3/css/font-awesome.min.css%22/%3E%0A%20%20%20%20%3Clink%20rel%3D%22stylesheet%22%20href%3D%22https%3A//cdnjs.cloudflare.com/ajax/libs/Leaflet.awesome-markers/2.0.2/leaflet.awesome-markers.css%22/%3E%0A%20%20%20%20%3Clink%20rel%3D%22stylesheet%22%20href%3D%22https%3A//cdn.jsdelivr.net/gh/python-visualization/folium/folium/templates/leaflet.awesome.rotate.min.css%22/%3E%0A%20%20%20%20%0A%20%20%20%20%20%20%20%20%20%20%20%20%3Cmeta%20name%3D%22viewport%22%20content%3D%22width%3Ddevice-width%2C%0A%20%20%20%20%20%20%20%20%20%20%20%20%20%20%20%20initial-scale%3D1.0%2C%20maximum-scale%3D1.0%2C%20user-scalable%3Dno%22%20/%3E%0A%20%20%20%20%20%20%20%20%20%20%20%20%3Cstyle%3E%0A%20%20%20%20%20%20%20%20%20%20%20%20%20%20%20%20%23map_173ecf1aee2442789893e7b6da16f808%20%7B%0A%20%20%20%20%20%20%20%20%20%20%20%20%20%20%20%20%20%20%20%20position%3A%20relative%3B%0A%20%20%20%20%20%20%20%20%20%20%20%20%20%20%20%20%20%20%20%20width%3A%20100.0%25%3B%0A%20%20%20%20%20%20%20%20%20%20%20%20%20%20%20%20%20%20%20%20height%3A%20100.0%25%3B%0A%20%20%20%20%20%20%20%20%20%20%20%20%20%20%20%20%20%20%20%20left%3A%200.0%25%3B%0A%20%20%20%20%20%20%20%20%20%20%20%20%20%20%20%20%20%20%20%20top%3A%200.0%25%3B%0A%20%20%20%20%20%20%20%20%20%20%20%20%20%20%20%20%7D%0A%20%20%20%20%20%20%20%20%20%20%20%20%3C/style%3E%0A%20%20%20%20%20%20%20%20%0A%20%20%20%20%3Cscript%20src%3D%22https%3A//cdn.jsdelivr.net/gh/python-visualization/folium%40master/folium/templates/leaflet_heat.min.js%22%3E%3C/script%3E%0A%3C/head%3E%0A%3Cbody%3E%20%20%20%20%0A%20%20%20%20%0A%20%20%20%20%20%20%20%20%20%20%20%20%3Cdiv%20class%3D%22folium-map%22%20id%3D%22map_173ecf1aee2442789893e7b6da16f808%22%20%3E%3C/div%3E%0A%20%20%20%20%20%20%20%20%0A%3C/body%3E%0A%3Cscript%3E%20%20%20%20%0A%20%20%20%20%0A%20%20%20%20%20%20%20%20%20%20%20%20var%20map_173ecf1aee2442789893e7b6da16f808%20%3D%20L.map%28%0A%20%20%20%20%20%20%20%20%20%20%20%20%20%20%20%20%22map_173ecf1aee2442789893e7b6da16f808%22%2C%0A%20%20%20%20%20%20%20%20%20%20%20%20%20%20%20%20%7B%0A%20%20%20%20%20%20%20%20%20%20%20%20%20%20%20%20%20%20%20%20center%3A%20%5B40.0%2C%20-100.0%5D%2C%0A%20%20%20%20%20%20%20%20%20%20%20%20%20%20%20%20%20%20%20%20crs%3A%20L.CRS.EPSG3857%2C%0A%20%20%20%20%20%20%20%20%20%20%20%20%20%20%20%20%20%20%20%20zoom%3A%204%2C%0A%20%20%20%20%20%20%20%20%20%20%20%20%20%20%20%20%20%20%20%20zoomControl%3A%20true%2C%0A%20%20%20%20%20%20%20%20%20%20%20%20%20%20%20%20%20%20%20%20preferCanvas%3A%20false%2C%0A%20%20%20%20%20%20%20%20%20%20%20%20%20%20%20%20%7D%0A%20%20%20%20%20%20%20%20%20%20%20%20%29%3B%0A%0A%20%20%20%20%20%20%20%20%20%20%20%20%0A%0A%20%20%20%20%20%20%20%20%0A%20%20%20%20%0A%20%20%20%20%20%20%20%20%20%20%20%20var%20tile_layer_dd18bef6491143729cc5ec41ba21f9e3%20%3D%20L.tileLayer%28%0A%20%20%20%20%20%20%20%20%20%20%20%20%20%20%20%20%22https%3A//%7Bs%7D.tile.openstreetmap.org/%7Bz%7D/%7Bx%7D/%7By%7D.png%22%2C%0A%20%20%20%20%20%20%20%20%20%20%20%20%20%20%20%20%7B%22attribution%22%3A%20%22Data%20by%20%5Cu0026copy%3B%20%5Cu003ca%20href%3D%5C%22http%3A//openstreetmap.org%5C%22%5Cu003eOpenStreetMap%5Cu003c/a%5Cu003e%2C%20under%20%5Cu003ca%20href%3D%5C%22http%3A//www.openstreetmap.org/copyright%5C%22%5Cu003eODbL%5Cu003c/a%5Cu003e.%22%2C%20%22detectRetina%22%3A%20false%2C%20%22maxNativeZoom%22%3A%2018%2C%20%22maxZoom%22%3A%2018%2C%20%22minZoom%22%3A%200%2C%20%22noWrap%22%3A%20false%2C%20%22opacity%22%3A%201%2C%20%22subdomains%22%3A%20%22abc%22%2C%20%22tms%22%3A%20false%7D%0A%20%20%20%20%20%20%20%20%20%20%20%20%29.addTo%28map_173ecf1aee2442789893e7b6da16f808%29%3B%0A%20%20%20%20%20%20%20%20%0A%20%20%20%20%0A%20%20%20%20%20%20%20%20%20%20%20%20var%20heat_map_04edccff762e4e428efb9860ddc1c6f8%20%3D%20L.heatLayer%28%0A%20%20%20%20%20%20%20%20%20%20%20%20%20%20%20%20%5B%5B39.05814%2C%20-94.48965%2C%200.0%5D%2C%20%5B38.480050000000006%2C%20-92.08949999999999%2C%200.0%5D%2C%20%5B38.3671%2C%20-88.84145%2C%200.0%5D%2C%20%5B38.191575%2C%20-89.60544999999999%2C%200.0%5D%2C%20%5B38.501045000000005%2C%20-89.67251000000002%2C%200.0%5D%2C%20%5B38.413155%2C%20-89.70893500000001%2C%200.0%5D%2C%20%5B38.344139999999996%2C%20-89.218595%2C%200.0%5D%2C%20%5B38.1623%2C%20-89.72022%2C%200.0%5D%2C%20%5B37.38045%2C%20-89.86555%2C%200.0%5D%2C%20%5B38.699685%2C%20-89.71219500000001%2C%200.0%5D%2C%20%5B38.631685000000004%2C%20-90.840675%2C%200.0%5D%2C%20%5B38.72175%2C%20-90.82187%2C%200.0%5D%2C%20%5B38.6164%2C%20-90.27086%2C%200.0%5D%2C%20%5B38.177925%2C%20-90.45303%2C%200.0%5D%2C%20%5B38.40127%2C%20-90.44862%2C%200.0%5D%2C%20%5B38.448935000000006%2C%20-91.08122499999999%2C%200.0%5D%2C%20%5B38.50573%2C%20-90.67577%2C%200.0%5D%2C%20%5B38.70706%2C%20-90.61421%2C%200.0%5D%2C%20%5B38.730774999999994%2C%20-90.63980000000001%2C%200.0%5D%2C%20%5B38.89838%2C%20-90.42931%2C%200.0%5D%2C%20%5B38.406515000000006%2C%20-90.552265%2C%200.0%5D%2C%20%5B38.53107%2C%20-90.36014%2C%200.0%5D%2C%20%5B38.465885%2C%20-90.14627%2C%200.0%5D%2C%20%5B38.48667%2C%20-90.21478%2C%200.0%5D%2C%20%5B38.43961%2C%20-89.755%2C%200.0%5D%2C%20%5B38.388374999999996%2C%20-90.25297499999999%2C%200.0%5D%2C%20%5B38.4362%2C%20-90.04348%2C%200.0%5D%2C%20%5B38.76557%2C%20-89.84245%2C%200.0%5D%2C%20%5B38.67991%2C%20-89.45139%2C%200.0%5D%2C%20%5B38.71965%2C%20-89.6295%2C%200.0%5D%2C%20%5B38.676835%2C%20-89.66279%2C%200.0%5D%2C%20%5B38.64573%2C%20-89.95746%2C%200.0%5D%2C%20%5B38.753715%2C%20-90.30688%2C%201.0%5D%2C%20%5B38.466629999999995%2C%20-89.865025%2C%201.0%5D%2C%20%5B38.820515%2C%20-90.58427%2C%201.0%5D%2C%20%5B38.970715%2C%20-90.38400999999999%2C%201.0%5D%2C%20%5B38.987445%2C%20-90.167185%2C%201.0%5D%2C%20%5B38.93724%2C%20-89.920755%2C%201.0%5D%2C%20%5B39.12928%2C%20-90.39238%2C%201.0%5D%2C%20%5B38.89798%2C%20-90.16333%2C%201.0%5D%2C%20%5B39.00410500000001%2C%20-90.23255%2C%201.0%5D%2C%20%5B38.89305%2C%20-90.237615%2C%201.0%5D%2C%20%5B39.08699000000001%2C%20-90.3321%2C%201.0%5D%2C%20%5B39.10969%2C%20-90.38634%2C%201.0%5D%2C%20%5B39.47456%2C%20-90.5094%2C%201.0%5D%2C%20%5B38.86599%2C%20-90.3449%2C%201.0%5D%2C%20%5B38.288475000000005%2C%20-90.21406%2C%201.0%5D%2C%20%5B38.87663%2C%20-89.55089%2C%201.0%5D%2C%20%5B39.19727%2C%20-88.86325%2C%201.0%5D%2C%20%5B38.81465%2C%20-89.672865%2C%201.0%5D%2C%20%5B39.141875%2C%20-90.676875%2C%201.0%5D%2C%20%5B38.51151%2C%20-89.99534%2C%201.0%5D%2C%20%5B39.091735%2C%20-89.090255%2C%201.0%5D%2C%20%5B39.21318%2C%20-89.20087%2C%201.0%5D%2C%20%5B38.593655000000005%2C%20-90.56504%2C%201.0%5D%2C%20%5B39.42519%2C%20-90.47047%2C%201.0%5D%2C%20%5B38.843875%2C%20-89.8471%2C%201.0%5D%2C%20%5B39.40493%2C%20-88.99209%2C%201.0%5D%2C%20%5B39.37451%2C%20-89.027245%2C%201.0%5D%2C%20%5B39.207679999999996%2C%20-89.04107%2C%201.0%5D%2C%20%5B39.32411%2C%20-88.9527%2C%201.0%5D%2C%20%5B38.45327%2C%20-89.63638%2C%201.0%5D%2C%20%5B39.31565500000001%2C%20-88.99418%2C%201.0%5D%2C%20%5B39.744749999999996%2C%20-88.87251499999999%2C%201.0%5D%2C%20%5B39.669880000000006%2C%20-88.86307000000001%2C%201.0%5D%2C%20%5B39.72516%2C%20-88.71871999999998%2C%201.0%5D%2C%20%5B39.120095%2C%20-89.91767%2C%201.0%5D%2C%20%5B40.19703%2C%20-87.65985%2C%201.0%5D%2C%20%5B39.87695%2C%20-89.87049%2C%201.0%5D%2C%20%5B39.497825%2C%20-89.25274%2C%201.0%5D%2C%20%5B39.282525%2C%20-88.69678%2C%201.0%5D%2C%20%5B38.94341%2C%20-90.88681%2C%201.0%5D%2C%20%5B39.53238%2C%20-91.1315%2C%201.0%5D%2C%20%5B38.643159999999995%2C%20-90.295855%2C%201.0%5D%2C%20%5B38.92238%2C%20-90.18869%2C%201.0%5D%2C%20%5B39.30048%2C%20-90.001355%2C%201.0%5D%2C%20%5B38.802910000000004%2C%20-93.11446000000001%2C%201.0%5D%2C%20%5B39.405715%2C%20-89.48329%2C%201.0%5D%2C%20%5B38.70335%2C%20-87.75073499999999%2C%201.0%5D%2C%20%5B38.294725%2C%20-88.97888500000002%2C%201.0%5D%2C%20%5B39.458875000000006%2C%20-87.5658%2C%201.0%5D%2C%20%5B38.580664999999996%2C%20-93.632655%2C%201.0%5D%2C%20%5B38.86261%2C%20-89.66345%2C%201.0%5D%2C%20%5B38.28992%2C%20-92.05715%2C%201.0%5D%2C%20%5B39.56767500000001%2C%20-87.76432%2C%201.0%5D%2C%20%5B39.42745%2C%20-89.68115%2C%201.0%5D%2C%20%5B40.404349999999994%2C%20-96.57%2C%201.0%5D%2C%20%5B39.98905%2C%20-88.12917%2C%201.0%5D%2C%20%5B39.730374999999995%2C%20-88.51093%2C%201.0%5D%2C%20%5B37.85033%2C%20-81.92881999999999%2C%201.0%5D%2C%20%5B39.88945%2C%20-86.7291%2C%201.0%5D%2C%20%5B39.16563%2C%20-92.97825%2C%201.0%5D%2C%20%5B39.849059999999994%2C%20-87.02315%2C%201.0%5D%2C%20%5B39.4782%2C%20-86.87833%2C%201.0%5D%2C%20%5B39.56147%2C%20-86.6927%2C%201.0%5D%2C%20%5B39.582989999999995%2C%20-88.129985%2C%201.0%5D%2C%20%5B39.155699999999996%2C%20-91.887905%2C%201.0%5D%2C%20%5B39.862705%2C%20-88.91447%2C%201.0%5D%2C%20%5B39.60981%2C%20-87.75909%2C%201.0%5D%2C%20%5B39.182030000000005%2C%20-88.11957%2C%201.0%5D%2C%20%5B39.646874999999994%2C%20-89.432715%2C%201.0%5D%2C%20%5B39.67266%2C%20-91.57446%2C%201.0%5D%2C%20%5B41.94811%2C%20-83.38018499999998%2C%201.0%5D%2C%20%5B40.103275%2C%20-92.84941%2C%201.0%5D%2C%20%5B41.34288%2C%20-91.64972499999999%2C%201.0%5D%2C%20%5B40.708135%2C%20-91.497605%2C%201.0%5D%2C%20%5B40.329240000000006%2C%20-91.66346%2C%201.0%5D%2C%20%5B40.60001%2C%20-89.57525%2C%201.0%5D%2C%20%5B40.86317%2C%20-85.98808000000002%2C%201.0%5D%2C%20%5B40.812%2C%20-91.66766%2C%201.0%5D%2C%20%5B40.458349999999996%2C%20-84.72698999999999%2C%201.0%5D%2C%20%5B40.08098%2C%20-90.17245%2C%201.0%5D%2C%20%5B39.104%2C%20-88.31702%2C%201.0%5D%2C%20%5B40.62956%2C%20-83.27271%2C%201.0%5D%2C%20%5B40.90432%2C%20-80.55357000000001%2C%201.0%5D%2C%20%5B40.821290000000005%2C%20-80.02023499999999%2C%201.0%5D%2C%20%5B40.365%2C%20-83.7646%2C%201.0%5D%2C%20%5B40.7318%2C%20-79.14311000000001%2C%201.0%5D%2C%20%5B40.67622%2C%20-80.01066999999998%2C%201.0%5D%2C%20%5B40.63939%2C%20-80.09014%2C%201.0%5D%2C%20%5B39.79187%2C%20-86.633415%2C%201.0%5D%2C%20%5B40.18338%2C%20-88.02162%2C%201.0%5D%2C%20%5B40.516639999999995%2C%20-83.44831500000002%2C%201.0%5D%2C%20%5B40.6698%2C%20-77.61558000000002%2C%201.0%5D%2C%20%5B40.833865%2C%20-77.13931000000002%2C%201.0%5D%2C%20%5B40.85587%2C%20-75.20421%2C%201.0%5D%2C%20%5B41.37928%2C%20-79.81996%2C%201.0%5D%2C%20%5B40.799975%2C%20-76.81940500000002%2C%201.0%5D%2C%20%5B40.64423%2C%20-79.72189%2C%201.0%5D%2C%20%5B40.791685%2C%20-76.53%2C%201.0%5D%2C%20%5B41.62908%2C%20-76.56031999999998%2C%201.0%5D%2C%20%5B40.79984%2C%20-79.57708000000002%2C%201.0%5D%2C%20%5B40.83934%2C%20-75.05105999999998%2C%201.0%5D%2C%20%5B40.550125%2C%20-75.66838%2C%201.0%5D%2C%20%5B40.466115%2C%20-79.93167499999998%2C%201.0%5D%2C%20%5B41.959015%2C%20-73.84821000000002%2C%201.0%5D%2C%20%5B40.08072%2C%20-80.32557%2C%201.0%5D%2C%20%5B39.66758%2C%20-78.15789000000001%2C%201.0%5D%2C%20%5B40.26018%2C%20-75.192035%2C%201.0%5D%2C%20%5B40.8245%2C%20-77.56441%2C%201.0%5D%2C%20%5B41.166815%2C%20-76.61752%2C%201.0%5D%2C%20%5B40.883225%2C%20-75.744585%2C%201.0%5D%2C%20%5B39.85419%2C%20-79.33092500000001%2C%201.0%5D%2C%20%5B40.1412%2C%20-76.34209%2C%201.0%5D%2C%20%5B41.156904999999995%2C%20-75.12453%2C%201.0%5D%2C%20%5B41.039334999999994%2C%20-76.48165%2C%201.0%5D%2C%20%5B40.33234%2C%20-75.91235%2C%201.0%5D%2C%20%5B40.42299000000001%2C%20-75.40732%2C%201.0%5D%2C%20%5B40.662710000000004%2C%20-77.55515999999999%2C%201.0%5D%2C%20%5B40.99612%2C%20-74.96635%2C%201.0%5D%2C%20%5B40.148335%2C%20-82.48405499999998%2C%201.0%5D%2C%20%5B42.29828%2C%20-73.13309%2C%201.0%5D%2C%20%5B42.351690000000005%2C%20-73.84968500000002%2C%201.0%5D%2C%20%5B41.82896%2C%20-78.14229500000002%2C%201.0%5D%2C%20%5B39.91266%2C%20-83.22602%2C%201.0%5D%2C%20%5B43.4737%2C%20-72.38395%2C%202.0%5D%2C%20%5B42.56881%2C%20-74.767865%2C%200.5%5D%2C%20%5B42.77715%2C%20-72.42331999999998%2C%200.0%5D%2C%20%5B41.41698%2C%20-77.14864%2C%201.0%5D%2C%20%5B43.66711%2C%20-71.952245%2C%200.5%5D%2C%20%5B39.88004%2C%20-87.28244000000002%2C%200.0%5D%2C%20%5B40.54469%2C%20-75.62349%2C%201.0%5D%2C%20%5B42.8862%2C%20-72.28652%2C%201.0%5D%2C%20%5B40.632239999999996%2C%20-75.351675%2C%201.0%5D%2C%20%5B42.07618%2C%20-74.99065999999998%2C%201.0%5D%2C%20%5B39.86072%2C%20-77.39378%2C%201.0%5D%2C%20%5B40.114235%2C%20-79.40229500000001%2C%201.5%5D%2C%20%5B43.26407%2C%20-71.95316%2C%202.0%5D%2C%20%5B42.777945%2C%20-74.86534%2C%201.0%5D%2C%20%5B40.595345%2C%20-75.406605%2C%201.0%5D%2C%20%5B43.75732%2C%20-73.07172%2C%201.0%5D%2C%20%5B42.13713%2C%20-71.29803000000003%2C%201.0%5D%2C%20%5B43.69036%2C%20-73.15018%2C%201.0%5D%2C%20%5B40.66723%2C%20-79.10688%2C%201.0%5D%2C%20%5B40.558589999999995%2C%20-75.803225%2C%200.5%5D%2C%20%5B39.95789%2C%20-75.92098499999999%2C%201.0%5D%2C%20%5B42.65878%2C%20-72.19534%2C%201.0%5D%2C%20%5B42.368955%2C%20-74.130565%2C%201.5%5D%2C%20%5B41.549635%2C%20-78.72796500000001%2C%201.0%5D%2C%20%5B40.631785%2C%20-75.31474%2C%201.0%5D%2C%20%5B42.91244%2C%20-73.22538%2C%201.0%5D%2C%20%5B39.642325%2C%20-77.66638499999999%2C%200.5%5D%2C%20%5B40.23777000000001%2C%20-75.19131%2C%200.0%5D%2C%20%5B42.41018%2C%20-76.31383000000002%2C%201.5%5D%2C%20%5B43.57730500000001%2C%20-72.704485%2C%201.0%5D%2C%20%5B40.69705%2C%20-75.066015%2C%201.5%5D%2C%20%5B40.42828%2C%20-74.83074%2C%201.0%5D%2C%20%5B41.863495%2C%20-75.26682%2C%201.0%5D%2C%20%5B39.81764%2C%20-77.74211%2C%200.0%5D%2C%20%5B41.18805%2C%20-77.06275%2C%201.0%5D%2C%20%5B39.6683%2C%20-77.60678%2C%201.0%5D%2C%20%5B39.644765%2C%20-77.8117%2C%200.5%5D%2C%20%5B40.15881%2C%20-75.07458000000003%2C%200.0%5D%2C%20%5B40.766014999999996%2C%20-73.38432499999999%2C%200.5%5D%2C%20%5B40.4397%2C%20-74.73943%2C%202.0%5D%2C%20%5B39.53494%2C%20-77.6396%2C%201.0%5D%2C%20%5B39.61262%2C%20-77.71016999999998%2C%201.0%5D%2C%20%5B39.03747%2C%20-77.72278%2C%200.0%5D%2C%20%5B41.927%2C%20-71.4309%2C%200.0%5D%2C%20%5B39.64182%2C%20-76.65874000000002%2C%201.0%5D%2C%20%5B42.64686%2C%20-71.33184%2C%202.0%5D%2C%20%5B40.51697%2C%20-75.29114%2C%201.0%5D%2C%20%5B42.27097%2C%20-71.06815%2C%201.0%5D%5D%2C%0A%20%20%20%20%20%20%20%20%20%20%20%20%20%20%20%20%7B%22blur%22%3A%2015%2C%20%22maxZoom%22%3A%2018%2C%20%22minOpacity%22%3A%200.5%2C%20%22radius%22%3A%2025%7D%0A%20%20%20%20%20%20%20%20%20%20%20%20%29.addTo%28map_173ecf1aee2442789893e7b6da16f808%29%3B%0A%20%20%20%20%20%20%20%20%0A%3C/script%3E onload=\"this.contentDocument.open();this.contentDocument.write(    decodeURIComponent(this.getAttribute('data-html')));this.contentDocument.close();\" allowfullscreen webkitallowfullscreen mozallowfullscreen></iframe></div></div>"
      ],
      "text/plain": [
       "<folium.folium.Map at 0x1bc62e5e5b0>"
      ]
     },
     "metadata": {},
     "output_type": "display_data"
    }
   ],
   "source": [
    "# gradient = {0: 'red', 1: 'brown', 2: 'green'}\n",
    "\n",
    "HeatMap(data = data3).add_to(m)\n",
    "display(m)"
   ]
  },
  {
   "cell_type": "markdown",
   "metadata": {},
   "source": [
    "## By Freeze and thaw cycle"
   ]
  },
  {
   "cell_type": "code",
   "execution_count": null,
   "metadata": {},
   "outputs": [],
   "source": []
  },
  {
   "cell_type": "code",
   "execution_count": 285,
   "metadata": {
    "ExecuteTime": {
     "end_time": "2021-08-24T19:00:01.745916Z",
     "start_time": "2021-08-24T19:00:01.716913Z"
    }
   },
   "outputs": [],
   "source": [
    "# Make an empty map\n",
    "m = folium.Map(location=[40,-100], tiles=\"OpenStreetMap\", zoom_start=4)\n",
    "\n",
    "#show the map\n",
    "# m"
   ]
  },
  {
   "cell_type": "code",
   "execution_count": 286,
   "metadata": {
    "ExecuteTime": {
     "end_time": "2021-08-24T19:00:02.095931Z",
     "start_time": "2021-08-24T19:00:01.748913Z"
    }
   },
   "outputs": [],
   "source": [
    "\n",
    "data4 = df2.groupby('freeze_thaw_cycle').median()[['latitude', 'longitude', 'bridge_condition']].values.tolist()"
   ]
  },
  {
   "cell_type": "code",
   "execution_count": 287,
   "metadata": {
    "ExecuteTime": {
     "end_time": "2021-08-24T19:00:02.127933Z",
     "start_time": "2021-08-24T19:00:02.098913Z"
    }
   },
   "outputs": [
    {
     "data": {
      "text/html": [
       "<div style=\"width:100%;\"><div style=\"position:relative;width:100%;height:0;padding-bottom:60%;\"><span style=\"color:#565656\">Make this Notebook Trusted to load map: File -> Trust Notebook</span><iframe src=\"about:blank\" style=\"position:absolute;width:100%;height:100%;left:0;top:0;border:none !important;\" data-html=%3C%21DOCTYPE%20html%3E%0A%3Chead%3E%20%20%20%20%0A%20%20%20%20%3Cmeta%20http-equiv%3D%22content-type%22%20content%3D%22text/html%3B%20charset%3DUTF-8%22%20/%3E%0A%20%20%20%20%0A%20%20%20%20%20%20%20%20%3Cscript%3E%0A%20%20%20%20%20%20%20%20%20%20%20%20L_NO_TOUCH%20%3D%20false%3B%0A%20%20%20%20%20%20%20%20%20%20%20%20L_DISABLE_3D%20%3D%20false%3B%0A%20%20%20%20%20%20%20%20%3C/script%3E%0A%20%20%20%20%0A%20%20%20%20%3Cstyle%3Ehtml%2C%20body%20%7Bwidth%3A%20100%25%3Bheight%3A%20100%25%3Bmargin%3A%200%3Bpadding%3A%200%3B%7D%3C/style%3E%0A%20%20%20%20%3Cstyle%3E%23map%20%7Bposition%3Aabsolute%3Btop%3A0%3Bbottom%3A0%3Bright%3A0%3Bleft%3A0%3B%7D%3C/style%3E%0A%20%20%20%20%3Cscript%20src%3D%22https%3A//cdn.jsdelivr.net/npm/leaflet%401.6.0/dist/leaflet.js%22%3E%3C/script%3E%0A%20%20%20%20%3Cscript%20src%3D%22https%3A//code.jquery.com/jquery-1.12.4.min.js%22%3E%3C/script%3E%0A%20%20%20%20%3Cscript%20src%3D%22https%3A//maxcdn.bootstrapcdn.com/bootstrap/3.2.0/js/bootstrap.min.js%22%3E%3C/script%3E%0A%20%20%20%20%3Cscript%20src%3D%22https%3A//cdnjs.cloudflare.com/ajax/libs/Leaflet.awesome-markers/2.0.2/leaflet.awesome-markers.js%22%3E%3C/script%3E%0A%20%20%20%20%3Clink%20rel%3D%22stylesheet%22%20href%3D%22https%3A//cdn.jsdelivr.net/npm/leaflet%401.6.0/dist/leaflet.css%22/%3E%0A%20%20%20%20%3Clink%20rel%3D%22stylesheet%22%20href%3D%22https%3A//maxcdn.bootstrapcdn.com/bootstrap/3.2.0/css/bootstrap.min.css%22/%3E%0A%20%20%20%20%3Clink%20rel%3D%22stylesheet%22%20href%3D%22https%3A//maxcdn.bootstrapcdn.com/bootstrap/3.2.0/css/bootstrap-theme.min.css%22/%3E%0A%20%20%20%20%3Clink%20rel%3D%22stylesheet%22%20href%3D%22https%3A//maxcdn.bootstrapcdn.com/font-awesome/4.6.3/css/font-awesome.min.css%22/%3E%0A%20%20%20%20%3Clink%20rel%3D%22stylesheet%22%20href%3D%22https%3A//cdnjs.cloudflare.com/ajax/libs/Leaflet.awesome-markers/2.0.2/leaflet.awesome-markers.css%22/%3E%0A%20%20%20%20%3Clink%20rel%3D%22stylesheet%22%20href%3D%22https%3A//cdn.jsdelivr.net/gh/python-visualization/folium/folium/templates/leaflet.awesome.rotate.min.css%22/%3E%0A%20%20%20%20%0A%20%20%20%20%20%20%20%20%20%20%20%20%3Cmeta%20name%3D%22viewport%22%20content%3D%22width%3Ddevice-width%2C%0A%20%20%20%20%20%20%20%20%20%20%20%20%20%20%20%20initial-scale%3D1.0%2C%20maximum-scale%3D1.0%2C%20user-scalable%3Dno%22%20/%3E%0A%20%20%20%20%20%20%20%20%20%20%20%20%3Cstyle%3E%0A%20%20%20%20%20%20%20%20%20%20%20%20%20%20%20%20%23map_f4d86096c8a6439a9ce46217bde5350a%20%7B%0A%20%20%20%20%20%20%20%20%20%20%20%20%20%20%20%20%20%20%20%20position%3A%20relative%3B%0A%20%20%20%20%20%20%20%20%20%20%20%20%20%20%20%20%20%20%20%20width%3A%20100.0%25%3B%0A%20%20%20%20%20%20%20%20%20%20%20%20%20%20%20%20%20%20%20%20height%3A%20100.0%25%3B%0A%20%20%20%20%20%20%20%20%20%20%20%20%20%20%20%20%20%20%20%20left%3A%200.0%25%3B%0A%20%20%20%20%20%20%20%20%20%20%20%20%20%20%20%20%20%20%20%20top%3A%200.0%25%3B%0A%20%20%20%20%20%20%20%20%20%20%20%20%20%20%20%20%7D%0A%20%20%20%20%20%20%20%20%20%20%20%20%3C/style%3E%0A%20%20%20%20%20%20%20%20%0A%20%20%20%20%3Cscript%20src%3D%22https%3A//cdn.jsdelivr.net/gh/python-visualization/folium%40master/folium/templates/leaflet_heat.min.js%22%3E%3C/script%3E%0A%3C/head%3E%0A%3Cbody%3E%20%20%20%20%0A%20%20%20%20%0A%20%20%20%20%20%20%20%20%20%20%20%20%3Cdiv%20class%3D%22folium-map%22%20id%3D%22map_f4d86096c8a6439a9ce46217bde5350a%22%20%3E%3C/div%3E%0A%20%20%20%20%20%20%20%20%0A%3C/body%3E%0A%3Cscript%3E%20%20%20%20%0A%20%20%20%20%0A%20%20%20%20%20%20%20%20%20%20%20%20var%20map_f4d86096c8a6439a9ce46217bde5350a%20%3D%20L.map%28%0A%20%20%20%20%20%20%20%20%20%20%20%20%20%20%20%20%22map_f4d86096c8a6439a9ce46217bde5350a%22%2C%0A%20%20%20%20%20%20%20%20%20%20%20%20%20%20%20%20%7B%0A%20%20%20%20%20%20%20%20%20%20%20%20%20%20%20%20%20%20%20%20center%3A%20%5B40.0%2C%20-100.0%5D%2C%0A%20%20%20%20%20%20%20%20%20%20%20%20%20%20%20%20%20%20%20%20crs%3A%20L.CRS.EPSG3857%2C%0A%20%20%20%20%20%20%20%20%20%20%20%20%20%20%20%20%20%20%20%20zoom%3A%204%2C%0A%20%20%20%20%20%20%20%20%20%20%20%20%20%20%20%20%20%20%20%20zoomControl%3A%20true%2C%0A%20%20%20%20%20%20%20%20%20%20%20%20%20%20%20%20%20%20%20%20preferCanvas%3A%20false%2C%0A%20%20%20%20%20%20%20%20%20%20%20%20%20%20%20%20%7D%0A%20%20%20%20%20%20%20%20%20%20%20%20%29%3B%0A%0A%20%20%20%20%20%20%20%20%20%20%20%20%0A%0A%20%20%20%20%20%20%20%20%0A%20%20%20%20%0A%20%20%20%20%20%20%20%20%20%20%20%20var%20tile_layer_9234405b898a440782b14c56d6ba03ba%20%3D%20L.tileLayer%28%0A%20%20%20%20%20%20%20%20%20%20%20%20%20%20%20%20%22https%3A//%7Bs%7D.tile.openstreetmap.org/%7Bz%7D/%7Bx%7D/%7By%7D.png%22%2C%0A%20%20%20%20%20%20%20%20%20%20%20%20%20%20%20%20%7B%22attribution%22%3A%20%22Data%20by%20%5Cu0026copy%3B%20%5Cu003ca%20href%3D%5C%22http%3A//openstreetmap.org%5C%22%5Cu003eOpenStreetMap%5Cu003c/a%5Cu003e%2C%20under%20%5Cu003ca%20href%3D%5C%22http%3A//www.openstreetmap.org/copyright%5C%22%5Cu003eODbL%5Cu003c/a%5Cu003e.%22%2C%20%22detectRetina%22%3A%20false%2C%20%22maxNativeZoom%22%3A%2018%2C%20%22maxZoom%22%3A%2018%2C%20%22minZoom%22%3A%200%2C%20%22noWrap%22%3A%20false%2C%20%22opacity%22%3A%201%2C%20%22subdomains%22%3A%20%22abc%22%2C%20%22tms%22%3A%20false%7D%0A%20%20%20%20%20%20%20%20%20%20%20%20%29.addTo%28map_f4d86096c8a6439a9ce46217bde5350a%29%3B%0A%20%20%20%20%20%20%20%20%0A%20%20%20%20%0A%20%20%20%20%20%20%20%20%20%20%20%20var%20heat_map_d98ddc998a814656832a100755437182%20%3D%20L.heatLayer%28%0A%20%20%20%20%20%20%20%20%20%20%20%20%20%20%20%20%5B%5B29.71072%2C%20-97.50829%2C%200.0%5D%2C%20%5B30.39903%2C%20-96.98545%2C%201.0%5D%2C%20%5B34.121%2C%20-117.6015%2C%200.0%5D%2C%20%5B30.122605%2C%20-96.544235%2C%201.0%5D%2C%20%5B29.72661%2C%20-98.15544%2C%201.0%5D%2C%20%5B30.00158%2C%20-98.50539%2C%200.0%5D%2C%20%5B38.961925%2C%20-122.2001%2C%201.0%5D%2C%20%5B30.6849%2C%20-96.29897%2C%201.0%5D%2C%20%5B30.417050000000003%2C%20-81.84853500000001%2C%200.0%5D%2C%20%5B30.515110000000004%2C%20-97.43468%2C%200.0%5D%2C%20%5B30.728625%2C%20-92.11391%2C%201.0%5D%2C%20%5B31.237805%2C%20-92.91172%2C%200.0%5D%2C%20%5B31.09522%2C%20-97.30527%2C%200.0%5D%2C%20%5B31.40873%2C%20-87.981385%2C%201.0%5D%2C%20%5B31.180149999999998%2C%20-93.67696000000001%2C%201.0%5D%2C%20%5B31.796915%2C%20-95.60017500000001%2C%201.0%5D%2C%20%5B31.736495%2C%20-85.668115%2C%201.0%5D%2C%20%5B32.032985000000004%2C%20-92.828445%2C%200.0%5D%2C%20%5B32.130745%2C%20-94.655925%2C%201.0%5D%2C%20%5B31.61956%2C%20-90.48155%2C%201.0%5D%2C%20%5B31.86515%2C%20-90.49839%2C%201.0%5D%2C%20%5B32.487494999999996%2C%20-92.03465%2C%201.0%5D%2C%20%5B32.90803%2C%20-96.60666%2C%201.0%5D%2C%20%5B32.57134%2C%20-90.309305%2C%201.0%5D%2C%20%5B32.82841500000001%2C%20-89.130585%2C%201.0%5D%2C%20%5B32.76157%2C%20-89.695975%2C%201.0%5D%2C%20%5B33.08%2C%20-89.86901499999999%2C%201.0%5D%2C%20%5B33.332939999999994%2C%20-95.94817%2C%201.0%5D%2C%20%5B33.518025%2C%20-89.34772500000001%2C%200.0%5D%2C%20%5B33.98083%2C%20-90.68211%2C%201.0%5D%2C%20%5B33.884725%2C%20-89.37328%2C%201.0%5D%2C%20%5B33.92422%2C%20-91.84326%2C%200.0%5D%2C%20%5B33.656180000000006%2C%20-86.79534000000001%2C%201.0%5D%2C%20%5B34.04283%2C%20-84.52613000000002%2C%201.0%5D%2C%20%5B34.005635%2C%20-89.373055%2C%201.0%5D%2C%20%5B34.441315%2C%20-91.96006%2C%201.0%5D%2C%20%5B34.495895%2C%20-85.90657999999999%2C%201.0%5D%2C%20%5B35.16431%2C%20-89.91673%2C%201.0%5D%2C%20%5B34.7481%2C%20-82.69915%2C%201.0%5D%2C%20%5B34.530805%2C%20-92.39186%2C%201.0%5D%2C%20%5B34.001955%2C%20-84.67738499999999%2C%201.0%5D%2C%20%5B35.07306%2C%20-84.92387%2C%201.0%5D%2C%20%5B35.674189999999996%2C%20-89.41117%2C%201.0%5D%2C%20%5B45.358735%2C%20-122.38465%2C%201.0%5D%2C%20%5B35.06873%2C%20-94.29271%2C%201.0%5D%2C%20%5B35.32146%2C%20-92.83783%2C%201.0%5D%2C%20%5B34.738655%2C%20-88.90647000000001%2C%201.0%5D%2C%20%5B35.152159999999995%2C%20-86.9514%2C%201.0%5D%2C%20%5B36.65166%2C%20-89.16103000000003%2C%201.0%5D%2C%20%5B35.49420999999999%2C%20-84.68333%2C%201.0%5D%2C%20%5B35.819775%2C%20-88.694165%2C%201.0%5D%2C%20%5B35.52805%2C%20-86.32485%2C%201.0%5D%2C%20%5B35.93884%2C%20-83.916865%2C%201.0%5D%2C%20%5B35.847535%2C%20-87.007395%2C%201.0%5D%2C%20%5B35.67998%2C%20-82.318255%2C%201.0%5D%2C%20%5B36.16371%2C%20-90.40498%2C%201.0%5D%2C%20%5B36.1981%2C%20-88.756185%2C%201.0%5D%2C%20%5B41.356355%2C%20-81.960285%2C%201.0%5D%2C%20%5B36.07239%2C%20-81.38961499999999%2C%201.0%5D%2C%20%5B35.89381%2C%20-92.33377%2C%201.0%5D%2C%20%5B36.419225%2C%20-94.01013%2C%201.0%5D%2C%20%5B42.42874%2C%20-86.25499500000001%2C%201.0%5D%2C%20%5B37.0175%2C%20-88.68523%2C%201.0%5D%2C%20%5B36.129090000000005%2C%20-89.46035499999999%2C%201.0%5D%2C%20%5B35.60961%2C%20-97.31805%2C%201.0%5D%2C%20%5B36.89153%2C%20-83.651535%2C%201.0%5D%2C%20%5B36.98361%2C%20-81.61619%2C%201.0%5D%2C%20%5B36.04794%2C%20-80.24157499999998%2C%201.0%5D%2C%20%5B36.65679%2C%20-83.73722%2C%201.0%5D%2C%20%5B39.51457%2C%20-77.46718%2C%201.0%5D%2C%20%5B37.00085%2C%20-88.110255%2C%201.0%5D%2C%20%5B37.38098%2C%20-87.55194%2C%201.0%5D%2C%20%5B37.471805%2C%20-82.49450999999999%2C%201.0%5D%2C%20%5B36.32235%2C%20-88.93328000000002%2C%201.0%5D%2C%20%5B37.573750000000004%2C%20-85.67445%2C%201.0%5D%2C%20%5B36.97556%2C%20-86.39139%2C%201.0%5D%2C%20%5B37.96588%2C%20-88.46899%2C%201.0%5D%2C%20%5B38.299600000000005%2C%20-82.14437%2C%201.0%5D%2C%20%5B40.00167%2C%20-75.67789%2C%201.0%5D%2C%20%5B37.97293%2C%20-79.60306999999999%2C%201.0%5D%2C%20%5B38.89243999999999%2C%20-77.55683499999999%2C%201.0%5D%2C%20%5B38.24392%2C%20-86.52861999999998%2C%200.0%5D%2C%20%5B39.89333%2C%20-81.66168%2C%201.0%5D%2C%20%5B38.11444%2C%20-90.72773%2C%201.0%5D%2C%20%5B37.120450000000005%2C%20-89.520955%2C%201.0%5D%2C%20%5B38.43%2C%20-93.76316%2C%201.0%5D%2C%20%5B38.900855%2C%20-81.54344%2C%201.0%5D%2C%20%5B38.345015000000004%2C%20-88.02311%2C%201.0%5D%2C%20%5B38.139775%2C%20-93.456115%2C%201.0%5D%2C%20%5B38.554860000000005%2C%20-84.262635%2C%201.0%5D%2C%20%5B38.82381500000001%2C%20-83.07219%2C%201.0%5D%2C%20%5B38.534385%2C%20-88.90318500000001%2C%201.0%5D%2C%20%5B38.5574%2C%20-92.4392%2C%201.0%5D%2C%20%5B40.2749%2C%20-78.866365%2C%201.0%5D%2C%20%5B38.699875000000006%2C%20-81.39335%2C%201.0%5D%2C%20%5B38.93262%2C%20-91.66647%2C%201.0%5D%2C%20%5B39.001965%2C%20-86.89021%2C%201.0%5D%2C%20%5B39.46184%2C%20-89.34318%2C%201.0%5D%2C%20%5B38.99329%2C%20-86.41540500000002%2C%201.0%5D%2C%20%5B38.94453%2C%20-91.58615499999999%2C%201.0%5D%2C%20%5B39.63435%2C%20-83.99685000000001%2C%201.0%5D%2C%20%5B39.61271%2C%20-79.55069%2C%201.0%5D%2C%20%5B39.688725%2C%20-83.97112%2C%201.0%5D%2C%20%5B39.3666%2C%20-91.26374%2C%201.0%5D%2C%20%5B40.052414999999996%2C%20-91.826425%2C%201.0%5D%2C%20%5B39.80727%2C%20-86.22681%2C%201.0%5D%2C%20%5B39.98456%2C%20-85.11129%2C%201.0%5D%2C%20%5B40.146895%2C%20-88.66839999999999%2C%201.0%5D%2C%20%5B40.477765%2C%20-80.30078500000002%2C%201.0%5D%2C%20%5B40.65414000000001%2C%20-84.05055%2C%201.0%5D%2C%20%5B41.43497%2C%20-87.947%2C%201.0%5D%2C%20%5B42.751915%2C%20-84.90147%2C%201.0%5D%2C%20%5B40.67136%2C%20-87.97292%2C%201.0%5D%2C%20%5B42.68671%2C%20-93.12253%2C%201.0%5D%2C%20%5B42.147850000000005%2C%20-83.066835%2C%201.0%5D%2C%20%5B41.267945%2C%20-92.625905%2C%201.0%5D%2C%20%5B41.37478%2C%20-90.81923%2C%201.0%5D%2C%20%5B42.27999000000001%2C%20-90.49722%2C%201.0%5D%2C%20%5B41.46665%2C%20-91.64859%2C%201.0%5D%2C%20%5B42.0899%2C%20-91.179%2C%201.0%5D%2C%20%5B41.70503%2C%20-88.91396%2C%201.0%5D%2C%20%5B42.719945%2C%20-88.14726499999999%2C%201.0%5D%2C%20%5B41.68911%2C%20-83.80272%2C%201.0%5D%2C%20%5B41.488095%2C%20-90.26911%2C%201.0%5D%2C%20%5B41.887950000000004%2C%20-97.46325%2C%201.0%5D%2C%20%5B42.5817%2C%20-97.4253%2C%201.0%5D%2C%20%5B41.77947%2C%20-97.4267%2C%201.0%5D%2C%20%5B41.0283%2C%20-98.61773%2C%201.0%5D%2C%20%5B41.61747%2C%20-85.21152%2C%201.0%5D%2C%20%5B43.39475%2C%20-99.92500000000001%2C%201.0%5D%2C%20%5B43.69608%2C%20-112.49%2C%201.0%5D%2C%20%5B43.39122%2C%20-111.8509%2C%201.0%5D%2C%20%5B43.147305%2C%20-112.4153%2C%201.0%5D%2C%20%5B41.2265%2C%20-104.1441%2C%201.0%5D%2C%20%5B43.461865%2C%20-104.62165%2C%201.0%5D%2C%20%5B40.12793%2C%20-105.0691%2C%201.0%5D%2C%20%5B46.2585%2C%20-108.1514%2C%201.0%5D%2C%20%5B40.518535%2C%20-106.72655%2C%201.0%5D%2C%20%5B45.856825%2C%20-111.51295%2C%201.0%5D%2C%20%5B42.6499%2C%20-109.1663%2C%201.0%5D%2C%20%5B40.647225000000006%2C%20-105.0343%2C%201.0%5D%2C%20%5B44.24462%2C%20-106.9807%2C%201.0%5D%2C%20%5B44.48798%2C%20-110.236%2C%201.0%5D%2C%20%5B44.444475%2C%20-114.28485%2C%201.0%5D%2C%20%5B42.496985%2C%20-112.41159999999999%2C%201.0%5D%2C%20%5B44.10424%2C%20-108.7154%2C%201.0%5D%2C%20%5B44.44548%2C%20-114.1099%2C%201.0%5D%2C%20%5B42.03939%2C%20-105.076%2C%201.0%5D%2C%20%5B39.53886%2C%20-119.7324%2C%201.0%5D%2C%20%5B42.395920000000004%2C%20-105.4269%2C%201.0%5D%2C%20%5B39.740015%2C%20-105.0141%2C%201.0%5D%2C%20%5B42.19733%2C%20-112.4623%2C%201.0%5D%2C%20%5B44.273545%2C%20-111.19895%2C%201.0%5D%2C%20%5B38.725970000000004%2C%20-106.0916%2C%201.0%5D%2C%20%5B42.00394000000001%2C%20-119.247%2C%201.0%5D%2C%20%5B46.959410000000005%2C%20-120.4375%2C%201.0%5D%2C%20%5B43.407295000000005%2C%20-104.9299%2C%201.0%5D%2C%20%5B42.1824%2C%20-118.6229%2C%201.0%5D%2C%20%5B45.900965%2C%20-112.4899%2C%201.0%5D%2C%20%5B43.825685%2C%20-119.57325%2C%201.0%5D%2C%20%5B41.28946%2C%20-119.2337%2C%201.0%5D%2C%20%5B42.21378%2C%20-118.7978%2C%201.0%5D%2C%20%5B37.51557%2C%20-112.0793%2C%201.0%5D%2C%20%5B43.02867%2C%20-118.1851%2C%201.0%5D%2C%20%5B43.47465%2C%20-119.3287%2C%200.0%5D%2C%20%5B38.88096%2C%20-104.8192%2C%201.0%5D%2C%20%5B43.70364%2C%20-119.1768%2C%200.0%5D%2C%20%5B37.12801%2C%20-105.7003%2C%201.0%5D%2C%20%5B37.564345%2C%20-106.16239999999999%2C%201.0%5D%2C%20%5B38.9083%2C%20-105.5121%2C%201.0%5D%2C%20%5B38.06204000000001%2C%20-106.22145%2C%201.0%5D%2C%20%5B38.40943%2C%20-105.7317%2C%201.0%5D%5D%2C%0A%20%20%20%20%20%20%20%20%20%20%20%20%20%20%20%20%7B%22blur%22%3A%2015%2C%20%22maxZoom%22%3A%2018%2C%20%22minOpacity%22%3A%200.5%2C%20%22radius%22%3A%2025%7D%0A%20%20%20%20%20%20%20%20%20%20%20%20%29.addTo%28map_f4d86096c8a6439a9ce46217bde5350a%29%3B%0A%20%20%20%20%20%20%20%20%0A%3C/script%3E onload=\"this.contentDocument.open();this.contentDocument.write(    decodeURIComponent(this.getAttribute('data-html')));this.contentDocument.close();\" allowfullscreen webkitallowfullscreen mozallowfullscreen></iframe></div></div>"
      ],
      "text/plain": [
       "<folium.folium.Map at 0x1bc63ed5490>"
      ]
     },
     "metadata": {},
     "output_type": "display_data"
    }
   ],
   "source": [
    "# gradient = {0: 'red', 1: 'brown', 2: 'green'}\n",
    "\n",
    "HeatMap(data = data4).add_to(m)\n",
    "display(m)"
   ]
  },
  {
   "cell_type": "markdown",
   "metadata": {},
   "source": [
    "## By Super structure condition"
   ]
  },
  {
   "cell_type": "code",
   "execution_count": null,
   "metadata": {},
   "outputs": [],
   "source": []
  },
  {
   "cell_type": "code",
   "execution_count": 288,
   "metadata": {
    "ExecuteTime": {
     "end_time": "2021-08-24T19:00:02.159932Z",
     "start_time": "2021-08-24T19:00:02.130911Z"
    }
   },
   "outputs": [
    {
     "data": {
      "text/html": [
       "<div style=\"width:100%;\"><div style=\"position:relative;width:100%;height:0;padding-bottom:60%;\"><span style=\"color:#565656\">Make this Notebook Trusted to load map: File -> Trust Notebook</span><iframe src=\"about:blank\" style=\"position:absolute;width:100%;height:100%;left:0;top:0;border:none !important;\" data-html=%3C%21DOCTYPE%20html%3E%0A%3Chead%3E%20%20%20%20%0A%20%20%20%20%3Cmeta%20http-equiv%3D%22content-type%22%20content%3D%22text/html%3B%20charset%3DUTF-8%22%20/%3E%0A%20%20%20%20%0A%20%20%20%20%20%20%20%20%3Cscript%3E%0A%20%20%20%20%20%20%20%20%20%20%20%20L_NO_TOUCH%20%3D%20false%3B%0A%20%20%20%20%20%20%20%20%20%20%20%20L_DISABLE_3D%20%3D%20false%3B%0A%20%20%20%20%20%20%20%20%3C/script%3E%0A%20%20%20%20%0A%20%20%20%20%3Cstyle%3Ehtml%2C%20body%20%7Bwidth%3A%20100%25%3Bheight%3A%20100%25%3Bmargin%3A%200%3Bpadding%3A%200%3B%7D%3C/style%3E%0A%20%20%20%20%3Cstyle%3E%23map%20%7Bposition%3Aabsolute%3Btop%3A0%3Bbottom%3A0%3Bright%3A0%3Bleft%3A0%3B%7D%3C/style%3E%0A%20%20%20%20%3Cscript%20src%3D%22https%3A//cdn.jsdelivr.net/npm/leaflet%401.6.0/dist/leaflet.js%22%3E%3C/script%3E%0A%20%20%20%20%3Cscript%20src%3D%22https%3A//code.jquery.com/jquery-1.12.4.min.js%22%3E%3C/script%3E%0A%20%20%20%20%3Cscript%20src%3D%22https%3A//maxcdn.bootstrapcdn.com/bootstrap/3.2.0/js/bootstrap.min.js%22%3E%3C/script%3E%0A%20%20%20%20%3Cscript%20src%3D%22https%3A//cdnjs.cloudflare.com/ajax/libs/Leaflet.awesome-markers/2.0.2/leaflet.awesome-markers.js%22%3E%3C/script%3E%0A%20%20%20%20%3Clink%20rel%3D%22stylesheet%22%20href%3D%22https%3A//cdn.jsdelivr.net/npm/leaflet%401.6.0/dist/leaflet.css%22/%3E%0A%20%20%20%20%3Clink%20rel%3D%22stylesheet%22%20href%3D%22https%3A//maxcdn.bootstrapcdn.com/bootstrap/3.2.0/css/bootstrap.min.css%22/%3E%0A%20%20%20%20%3Clink%20rel%3D%22stylesheet%22%20href%3D%22https%3A//maxcdn.bootstrapcdn.com/bootstrap/3.2.0/css/bootstrap-theme.min.css%22/%3E%0A%20%20%20%20%3Clink%20rel%3D%22stylesheet%22%20href%3D%22https%3A//maxcdn.bootstrapcdn.com/font-awesome/4.6.3/css/font-awesome.min.css%22/%3E%0A%20%20%20%20%3Clink%20rel%3D%22stylesheet%22%20href%3D%22https%3A//cdnjs.cloudflare.com/ajax/libs/Leaflet.awesome-markers/2.0.2/leaflet.awesome-markers.css%22/%3E%0A%20%20%20%20%3Clink%20rel%3D%22stylesheet%22%20href%3D%22https%3A//cdn.jsdelivr.net/gh/python-visualization/folium/folium/templates/leaflet.awesome.rotate.min.css%22/%3E%0A%20%20%20%20%0A%20%20%20%20%20%20%20%20%20%20%20%20%3Cmeta%20name%3D%22viewport%22%20content%3D%22width%3Ddevice-width%2C%0A%20%20%20%20%20%20%20%20%20%20%20%20%20%20%20%20initial-scale%3D1.0%2C%20maximum-scale%3D1.0%2C%20user-scalable%3Dno%22%20/%3E%0A%20%20%20%20%20%20%20%20%20%20%20%20%3Cstyle%3E%0A%20%20%20%20%20%20%20%20%20%20%20%20%20%20%20%20%23map_898e83cf20934ed0b0287fffeb135710%20%7B%0A%20%20%20%20%20%20%20%20%20%20%20%20%20%20%20%20%20%20%20%20position%3A%20relative%3B%0A%20%20%20%20%20%20%20%20%20%20%20%20%20%20%20%20%20%20%20%20width%3A%20100.0%25%3B%0A%20%20%20%20%20%20%20%20%20%20%20%20%20%20%20%20%20%20%20%20height%3A%20100.0%25%3B%0A%20%20%20%20%20%20%20%20%20%20%20%20%20%20%20%20%20%20%20%20left%3A%200.0%25%3B%0A%20%20%20%20%20%20%20%20%20%20%20%20%20%20%20%20%20%20%20%20top%3A%200.0%25%3B%0A%20%20%20%20%20%20%20%20%20%20%20%20%20%20%20%20%7D%0A%20%20%20%20%20%20%20%20%20%20%20%20%3C/style%3E%0A%20%20%20%20%20%20%20%20%0A%3C/head%3E%0A%3Cbody%3E%20%20%20%20%0A%20%20%20%20%0A%20%20%20%20%20%20%20%20%20%20%20%20%3Cdiv%20class%3D%22folium-map%22%20id%3D%22map_898e83cf20934ed0b0287fffeb135710%22%20%3E%3C/div%3E%0A%20%20%20%20%20%20%20%20%0A%3C/body%3E%0A%3Cscript%3E%20%20%20%20%0A%20%20%20%20%0A%20%20%20%20%20%20%20%20%20%20%20%20var%20map_898e83cf20934ed0b0287fffeb135710%20%3D%20L.map%28%0A%20%20%20%20%20%20%20%20%20%20%20%20%20%20%20%20%22map_898e83cf20934ed0b0287fffeb135710%22%2C%0A%20%20%20%20%20%20%20%20%20%20%20%20%20%20%20%20%7B%0A%20%20%20%20%20%20%20%20%20%20%20%20%20%20%20%20%20%20%20%20center%3A%20%5B40.0%2C%20-100.0%5D%2C%0A%20%20%20%20%20%20%20%20%20%20%20%20%20%20%20%20%20%20%20%20crs%3A%20L.CRS.EPSG3857%2C%0A%20%20%20%20%20%20%20%20%20%20%20%20%20%20%20%20%20%20%20%20zoom%3A%204%2C%0A%20%20%20%20%20%20%20%20%20%20%20%20%20%20%20%20%20%20%20%20zoomControl%3A%20true%2C%0A%20%20%20%20%20%20%20%20%20%20%20%20%20%20%20%20%20%20%20%20preferCanvas%3A%20false%2C%0A%20%20%20%20%20%20%20%20%20%20%20%20%20%20%20%20%7D%0A%20%20%20%20%20%20%20%20%20%20%20%20%29%3B%0A%0A%20%20%20%20%20%20%20%20%20%20%20%20%0A%0A%20%20%20%20%20%20%20%20%0A%20%20%20%20%0A%20%20%20%20%20%20%20%20%20%20%20%20var%20tile_layer_f6eed558df654395963d1df2304be5c0%20%3D%20L.tileLayer%28%0A%20%20%20%20%20%20%20%20%20%20%20%20%20%20%20%20%22https%3A//%7Bs%7D.tile.openstreetmap.org/%7Bz%7D/%7Bx%7D/%7By%7D.png%22%2C%0A%20%20%20%20%20%20%20%20%20%20%20%20%20%20%20%20%7B%22attribution%22%3A%20%22Data%20by%20%5Cu0026copy%3B%20%5Cu003ca%20href%3D%5C%22http%3A//openstreetmap.org%5C%22%5Cu003eOpenStreetMap%5Cu003c/a%5Cu003e%2C%20under%20%5Cu003ca%20href%3D%5C%22http%3A//www.openstreetmap.org/copyright%5C%22%5Cu003eODbL%5Cu003c/a%5Cu003e.%22%2C%20%22detectRetina%22%3A%20false%2C%20%22maxNativeZoom%22%3A%2018%2C%20%22maxZoom%22%3A%2018%2C%20%22minZoom%22%3A%200%2C%20%22noWrap%22%3A%20false%2C%20%22opacity%22%3A%201%2C%20%22subdomains%22%3A%20%22abc%22%2C%20%22tms%22%3A%20false%7D%0A%20%20%20%20%20%20%20%20%20%20%20%20%29.addTo%28map_898e83cf20934ed0b0287fffeb135710%29%3B%0A%20%20%20%20%20%20%20%20%0A%3C/script%3E onload=\"this.contentDocument.open();this.contentDocument.write(    decodeURIComponent(this.getAttribute('data-html')));this.contentDocument.close();\" allowfullscreen webkitallowfullscreen mozallowfullscreen></iframe></div></div>"
      ],
      "text/plain": [
       "<folium.folium.Map at 0x1bc62e5e100>"
      ]
     },
     "execution_count": 288,
     "metadata": {},
     "output_type": "execute_result"
    }
   ],
   "source": [
    "# Make an empty map\n",
    "m = folium.Map(location=[40,-100], tiles=\"OpenStreetMap\", zoom_start=4)\n",
    "\n",
    "#show the map\n",
    "m"
   ]
  },
  {
   "cell_type": "code",
   "execution_count": 289,
   "metadata": {
    "ExecuteTime": {
     "end_time": "2021-08-24T19:00:02.523912Z",
     "start_time": "2021-08-24T19:00:02.161914Z"
    }
   },
   "outputs": [
    {
     "data": {
      "text/plain": [
       "[[39.31296, -93.44216, 2.0],\n",
       " [40.265985, -83.67086500000002, 2.0],\n",
       " [38.54662, -90.71611, 2.0],\n",
       " [40.33888, -88.6746, 2.0],\n",
       " [39.839325, -87.34744, 2.0],\n",
       " [39.50372, -88.39824, 1.0],\n",
       " [39.027770000000004, -90.15301, 1.0],\n",
       " [38.30267, -91.20602, 0.0],\n",
       " [39.20122, -89.457795, 0.0],\n",
       " [40.4517, -84.22680000000001, 0.0]]"
      ]
     },
     "execution_count": 289,
     "metadata": {},
     "output_type": "execute_result"
    }
   ],
   "source": [
    "\n",
    "data5 = df2.groupby('super_st_condition').median()[['latitude', 'longitude', 'bridge_condition']].values.tolist()\n",
    "data5"
   ]
  },
  {
   "cell_type": "code",
   "execution_count": 290,
   "metadata": {
    "ExecuteTime": {
     "end_time": "2021-08-24T19:00:02.539580Z",
     "start_time": "2021-08-24T19:00:02.526917Z"
    }
   },
   "outputs": [
    {
     "data": {
      "text/html": [
       "<div style=\"width:100%;\"><div style=\"position:relative;width:100%;height:0;padding-bottom:60%;\"><span style=\"color:#565656\">Make this Notebook Trusted to load map: File -> Trust Notebook</span><iframe src=\"about:blank\" style=\"position:absolute;width:100%;height:100%;left:0;top:0;border:none !important;\" data-html=%3C%21DOCTYPE%20html%3E%0A%3Chead%3E%20%20%20%20%0A%20%20%20%20%3Cmeta%20http-equiv%3D%22content-type%22%20content%3D%22text/html%3B%20charset%3DUTF-8%22%20/%3E%0A%20%20%20%20%0A%20%20%20%20%20%20%20%20%3Cscript%3E%0A%20%20%20%20%20%20%20%20%20%20%20%20L_NO_TOUCH%20%3D%20false%3B%0A%20%20%20%20%20%20%20%20%20%20%20%20L_DISABLE_3D%20%3D%20false%3B%0A%20%20%20%20%20%20%20%20%3C/script%3E%0A%20%20%20%20%0A%20%20%20%20%3Cstyle%3Ehtml%2C%20body%20%7Bwidth%3A%20100%25%3Bheight%3A%20100%25%3Bmargin%3A%200%3Bpadding%3A%200%3B%7D%3C/style%3E%0A%20%20%20%20%3Cstyle%3E%23map%20%7Bposition%3Aabsolute%3Btop%3A0%3Bbottom%3A0%3Bright%3A0%3Bleft%3A0%3B%7D%3C/style%3E%0A%20%20%20%20%3Cscript%20src%3D%22https%3A//cdn.jsdelivr.net/npm/leaflet%401.6.0/dist/leaflet.js%22%3E%3C/script%3E%0A%20%20%20%20%3Cscript%20src%3D%22https%3A//code.jquery.com/jquery-1.12.4.min.js%22%3E%3C/script%3E%0A%20%20%20%20%3Cscript%20src%3D%22https%3A//maxcdn.bootstrapcdn.com/bootstrap/3.2.0/js/bootstrap.min.js%22%3E%3C/script%3E%0A%20%20%20%20%3Cscript%20src%3D%22https%3A//cdnjs.cloudflare.com/ajax/libs/Leaflet.awesome-markers/2.0.2/leaflet.awesome-markers.js%22%3E%3C/script%3E%0A%20%20%20%20%3Clink%20rel%3D%22stylesheet%22%20href%3D%22https%3A//cdn.jsdelivr.net/npm/leaflet%401.6.0/dist/leaflet.css%22/%3E%0A%20%20%20%20%3Clink%20rel%3D%22stylesheet%22%20href%3D%22https%3A//maxcdn.bootstrapcdn.com/bootstrap/3.2.0/css/bootstrap.min.css%22/%3E%0A%20%20%20%20%3Clink%20rel%3D%22stylesheet%22%20href%3D%22https%3A//maxcdn.bootstrapcdn.com/bootstrap/3.2.0/css/bootstrap-theme.min.css%22/%3E%0A%20%20%20%20%3Clink%20rel%3D%22stylesheet%22%20href%3D%22https%3A//maxcdn.bootstrapcdn.com/font-awesome/4.6.3/css/font-awesome.min.css%22/%3E%0A%20%20%20%20%3Clink%20rel%3D%22stylesheet%22%20href%3D%22https%3A//cdnjs.cloudflare.com/ajax/libs/Leaflet.awesome-markers/2.0.2/leaflet.awesome-markers.css%22/%3E%0A%20%20%20%20%3Clink%20rel%3D%22stylesheet%22%20href%3D%22https%3A//cdn.jsdelivr.net/gh/python-visualization/folium/folium/templates/leaflet.awesome.rotate.min.css%22/%3E%0A%20%20%20%20%0A%20%20%20%20%20%20%20%20%20%20%20%20%3Cmeta%20name%3D%22viewport%22%20content%3D%22width%3Ddevice-width%2C%0A%20%20%20%20%20%20%20%20%20%20%20%20%20%20%20%20initial-scale%3D1.0%2C%20maximum-scale%3D1.0%2C%20user-scalable%3Dno%22%20/%3E%0A%20%20%20%20%20%20%20%20%20%20%20%20%3Cstyle%3E%0A%20%20%20%20%20%20%20%20%20%20%20%20%20%20%20%20%23map_898e83cf20934ed0b0287fffeb135710%20%7B%0A%20%20%20%20%20%20%20%20%20%20%20%20%20%20%20%20%20%20%20%20position%3A%20relative%3B%0A%20%20%20%20%20%20%20%20%20%20%20%20%20%20%20%20%20%20%20%20width%3A%20100.0%25%3B%0A%20%20%20%20%20%20%20%20%20%20%20%20%20%20%20%20%20%20%20%20height%3A%20100.0%25%3B%0A%20%20%20%20%20%20%20%20%20%20%20%20%20%20%20%20%20%20%20%20left%3A%200.0%25%3B%0A%20%20%20%20%20%20%20%20%20%20%20%20%20%20%20%20%20%20%20%20top%3A%200.0%25%3B%0A%20%20%20%20%20%20%20%20%20%20%20%20%20%20%20%20%7D%0A%20%20%20%20%20%20%20%20%20%20%20%20%3C/style%3E%0A%20%20%20%20%20%20%20%20%0A%20%20%20%20%3Cscript%20src%3D%22https%3A//cdn.jsdelivr.net/gh/python-visualization/folium%40master/folium/templates/leaflet_heat.min.js%22%3E%3C/script%3E%0A%3C/head%3E%0A%3Cbody%3E%20%20%20%20%0A%20%20%20%20%0A%20%20%20%20%20%20%20%20%20%20%20%20%3Cdiv%20class%3D%22folium-map%22%20id%3D%22map_898e83cf20934ed0b0287fffeb135710%22%20%3E%3C/div%3E%0A%20%20%20%20%20%20%20%20%0A%3C/body%3E%0A%3Cscript%3E%20%20%20%20%0A%20%20%20%20%0A%20%20%20%20%20%20%20%20%20%20%20%20var%20map_898e83cf20934ed0b0287fffeb135710%20%3D%20L.map%28%0A%20%20%20%20%20%20%20%20%20%20%20%20%20%20%20%20%22map_898e83cf20934ed0b0287fffeb135710%22%2C%0A%20%20%20%20%20%20%20%20%20%20%20%20%20%20%20%20%7B%0A%20%20%20%20%20%20%20%20%20%20%20%20%20%20%20%20%20%20%20%20center%3A%20%5B40.0%2C%20-100.0%5D%2C%0A%20%20%20%20%20%20%20%20%20%20%20%20%20%20%20%20%20%20%20%20crs%3A%20L.CRS.EPSG3857%2C%0A%20%20%20%20%20%20%20%20%20%20%20%20%20%20%20%20%20%20%20%20zoom%3A%204%2C%0A%20%20%20%20%20%20%20%20%20%20%20%20%20%20%20%20%20%20%20%20zoomControl%3A%20true%2C%0A%20%20%20%20%20%20%20%20%20%20%20%20%20%20%20%20%20%20%20%20preferCanvas%3A%20false%2C%0A%20%20%20%20%20%20%20%20%20%20%20%20%20%20%20%20%7D%0A%20%20%20%20%20%20%20%20%20%20%20%20%29%3B%0A%0A%20%20%20%20%20%20%20%20%20%20%20%20%0A%0A%20%20%20%20%20%20%20%20%0A%20%20%20%20%0A%20%20%20%20%20%20%20%20%20%20%20%20var%20tile_layer_f6eed558df654395963d1df2304be5c0%20%3D%20L.tileLayer%28%0A%20%20%20%20%20%20%20%20%20%20%20%20%20%20%20%20%22https%3A//%7Bs%7D.tile.openstreetmap.org/%7Bz%7D/%7Bx%7D/%7By%7D.png%22%2C%0A%20%20%20%20%20%20%20%20%20%20%20%20%20%20%20%20%7B%22attribution%22%3A%20%22Data%20by%20%5Cu0026copy%3B%20%5Cu003ca%20href%3D%5C%22http%3A//openstreetmap.org%5C%22%5Cu003eOpenStreetMap%5Cu003c/a%5Cu003e%2C%20under%20%5Cu003ca%20href%3D%5C%22http%3A//www.openstreetmap.org/copyright%5C%22%5Cu003eODbL%5Cu003c/a%5Cu003e.%22%2C%20%22detectRetina%22%3A%20false%2C%20%22maxNativeZoom%22%3A%2018%2C%20%22maxZoom%22%3A%2018%2C%20%22minZoom%22%3A%200%2C%20%22noWrap%22%3A%20false%2C%20%22opacity%22%3A%201%2C%20%22subdomains%22%3A%20%22abc%22%2C%20%22tms%22%3A%20false%7D%0A%20%20%20%20%20%20%20%20%20%20%20%20%29.addTo%28map_898e83cf20934ed0b0287fffeb135710%29%3B%0A%20%20%20%20%20%20%20%20%0A%20%20%20%20%0A%20%20%20%20%20%20%20%20%20%20%20%20var%20heat_map_13f6fdbcc6ac4d33b9a3fbca50fce861%20%3D%20L.heatLayer%28%0A%20%20%20%20%20%20%20%20%20%20%20%20%20%20%20%20%5B%5B39.31296%2C%20-93.44216%2C%202.0%5D%2C%20%5B40.265985%2C%20-83.67086500000002%2C%202.0%5D%2C%20%5B38.54662%2C%20-90.71611%2C%202.0%5D%2C%20%5B40.33888%2C%20-88.6746%2C%202.0%5D%2C%20%5B39.839325%2C%20-87.34744%2C%202.0%5D%2C%20%5B39.50372%2C%20-88.39824%2C%201.0%5D%2C%20%5B39.027770000000004%2C%20-90.15301%2C%201.0%5D%2C%20%5B38.30267%2C%20-91.20602%2C%200.0%5D%2C%20%5B39.20122%2C%20-89.457795%2C%200.0%5D%2C%20%5B40.4517%2C%20-84.22680000000001%2C%200.0%5D%5D%2C%0A%20%20%20%20%20%20%20%20%20%20%20%20%20%20%20%20%7B%22blur%22%3A%2015%2C%20%22maxZoom%22%3A%2018%2C%20%22minOpacity%22%3A%200.5%2C%20%22radius%22%3A%2025%7D%0A%20%20%20%20%20%20%20%20%20%20%20%20%29.addTo%28map_898e83cf20934ed0b0287fffeb135710%29%3B%0A%20%20%20%20%20%20%20%20%0A%3C/script%3E onload=\"this.contentDocument.open();this.contentDocument.write(    decodeURIComponent(this.getAttribute('data-html')));this.contentDocument.close();\" allowfullscreen webkitallowfullscreen mozallowfullscreen></iframe></div></div>"
      ],
      "text/plain": [
       "<folium.folium.Map at 0x1bc62e5e100>"
      ]
     },
     "metadata": {},
     "output_type": "display_data"
    }
   ],
   "source": [
    "# gradient = {0: 'red', 1: 'brown', 2: 'green'}\n",
    "\n",
    "HeatMap(data = data5).add_to(m)\n",
    "display(m)"
   ]
  },
  {
   "cell_type": "code",
   "execution_count": null,
   "metadata": {},
   "outputs": [],
   "source": []
  }
 ],
 "metadata": {
  "kernelspec": {
   "display_name": "Python 3",
   "language": "python",
   "name": "python3"
  },
  "language_info": {
   "codemirror_mode": {
    "name": "ipython",
    "version": 3
   },
   "file_extension": ".py",
   "mimetype": "text/x-python",
   "name": "python",
   "nbconvert_exporter": "python",
   "pygments_lexer": "ipython3",
   "version": "3.8.5"
  },
  "toc": {
   "base_numbering": 1,
   "nav_menu": {},
   "number_sections": true,
   "sideBar": true,
   "skip_h1_title": false,
   "title_cell": "Table of Contents",
   "title_sidebar": "Contents",
   "toc_cell": false,
   "toc_position": {
    "height": "calc(100% - 180px)",
    "left": "10px",
    "top": "150px",
    "width": "243px"
   },
   "toc_section_display": true,
   "toc_window_display": true
  },
  "varInspector": {
   "cols": {
    "lenName": 16,
    "lenType": 16,
    "lenVar": 40
   },
   "kernels_config": {
    "python": {
     "delete_cmd_postfix": "",
     "delete_cmd_prefix": "del ",
     "library": "var_list.py",
     "varRefreshCmd": "print(var_dic_list())"
    },
    "r": {
     "delete_cmd_postfix": ") ",
     "delete_cmd_prefix": "rm(",
     "library": "var_list.r",
     "varRefreshCmd": "cat(var_dic_list()) "
    }
   },
   "types_to_exclude": [
    "module",
    "function",
    "builtin_function_or_method",
    "instance",
    "_Feature"
   ],
   "window_display": false
  }
 },
 "nbformat": 4,
 "nbformat_minor": 4
}
